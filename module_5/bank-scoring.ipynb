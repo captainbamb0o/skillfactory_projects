{
 "cells": [
  {
   "cell_type": "code",
   "execution_count": null,
   "metadata": {
    "execution": {
     "iopub.execute_input": "2021-10-12T15:47:58.992029Z",
     "iopub.status.busy": "2021-10-12T15:47:58.991625Z",
     "iopub.status.idle": "2021-10-12T15:47:59.457895Z",
     "shell.execute_reply": "2021-10-12T15:47:59.456891Z",
     "shell.execute_reply.started": "2021-10-12T15:47:58.991964Z"
    }
   },
   "outputs": [],
   "source": [
    "import pandas as pd\n",
    "import numpy as np\n",
    "import warnings\n",
    "import seaborn as sns\n",
    "import matplotlib.pyplot as plt\n",
    "import scikitplot as skplt\n",
    "from matplotlib import style\n",
    "from datetime import datetime\n",
    "from sklearn.model_selection import train_test_split, GridSearchCV\n",
    "from sklearn.model_selection import cross_val_score\n",
    "from sklearn.linear_model import LogisticRegression\n",
    "from sklearn.metrics import auc, roc_auc_score, roc_curve, accuracy_score, precision_score, recall_score, f1_score\n",
    "from sklearn.metrics import plot_confusion_matrix\n",
    "from sklearn.metrics import confusion_matrix, ConfusionMatrixDisplay\n",
    "from sklearn.preprocessing import LabelEncoder, OneHotEncoder, StandardScaler\n",
    "style.use('ggplot')\n",
    "%matplotlib inline\n",
    "warnings.filterwarnings('ignore')"
   ]
  },
  {
   "cell_type": "markdown",
   "metadata": {},
   "source": [
    "## Полезные функции"
   ]
  },
  {
   "cell_type": "code",
   "execution_count": null,
   "metadata": {
    "execution": {
     "iopub.execute_input": "2021-10-12T15:47:59.46346Z",
     "iopub.status.busy": "2021-10-12T15:47:59.462823Z",
     "iopub.status.idle": "2021-10-12T15:47:59.483951Z",
     "shell.execute_reply": "2021-10-12T15:47:59.483237Z",
     "shell.execute_reply.started": "2021-10-12T15:47:59.463422Z"
    }
   },
   "outputs": [],
   "source": [
    "def categoral(column):\n",
    "    fig = plt.figure(figsize=(14, 4))   \n",
    "    ax1 = fig.add_axes([0, 0, 0.8, 1])\n",
    "    plt.title('Соотношение клиентов банка по категориям '+column)\n",
    "    ax = sns.countplot(x=column, hue=\"default\", data=train)\n",
    "    num = len(train[column].value_counts())\n",
    "    a = [p.get_height() for p in ax.patches]\n",
    "    patch = [p for p in ax.patches]\n",
    "    for i in range(num):\n",
    "        for j in range(2):\n",
    "            percentage = '{:.1f}%'.format(100 * a[(j*num + i)]/(a[i]+a[i+num]))\n",
    "            x = patch[(j*num + i)].get_x() + patch[(j*num + i)].get_width() / 2 - 0.15\n",
    "            y = patch[(j*num + i)].get_y() + patch[(j*num + i)].get_height() \n",
    "            ax.annotate(percentage, (x, y), size = 12)\n",
    "    plt.show()    \n",
    "    ax2 = fig.add_axes([0, 0, 0.5, 1])\n",
    "    data[column].value_counts().plot.bar()\n",
    "    plt.title('Распределение признака '+column+' по категориям')\n",
    "    plt.tight_layout()\n",
    "\n",
    "    \n",
    "def numeral(column):\n",
    "    fig = plt.figure(figsize=(14, 4))\n",
    "    ax1 = fig.add_axes([0, 0.4, 0.45, 1])\n",
    "    plt.title('Распределение признака '+column+' в train по типам клиентов банка')\n",
    "    sns.histplot(data=train[column], x=train[column], hue=train['default'])\n",
    "    plt.legend(['negative', 'positive'])\n",
    "    ax2 = fig.add_axes([0, 0, 0.45, 0.25])\n",
    "    sns.boxplot(y='default', x=column,data=train[train['Train'] == 1], orient='h', saturation=0.5)\n",
    "    ax3 = fig.add_axes([0.55, 0.4, 0.45, 1])\n",
    "    plt.title('Распределение признака '+column+' в датасетах')\n",
    "    sns.histplot(data=data[column], x=data[column], hue=data['Train'])\n",
    "    plt.legend(['train', 'test'])\n",
    "    ax4 = fig.add_axes([0.55, 0, 0.45, 0.25])\n",
    "    sns.boxplot(y='Train', x=column, data=data, orient='h', saturation=0.5)\n",
    "    plt.tight_layout()\n",
    "    \n",
    "    \n",
    "def numeral_prolog(column):\n",
    "    fig = plt.figure(figsize=(14, 4))\n",
    "    ax1 = fig.add_axes([0.55, 0.4, 0.45, 1])\n",
    "    plt.title('Распределение прологарифмированного признака ' + column+' в двух датасетах')\n",
    "    sns.histplot(data=data[column], x=data[column], hue=data['Train'])\n",
    "    plt.legend(['train', 'test'])\n",
    "    ax2 = fig.add_axes([0.55, 0, 0.45, 0.25])\n",
    "    sns.boxplot(y='Train', x=column, data=data, orient='h', saturation=0.5)\n",
    "    plt.tight_layout()"
   ]
  },
  {
   "cell_type": "markdown",
   "metadata": {},
   "source": [
    "## Импорт данных и их предварительный анализ"
   ]
  },
  {
   "cell_type": "code",
   "execution_count": null,
   "metadata": {
    "execution": {
     "iopub.execute_input": "2021-10-12T15:47:59.486007Z",
     "iopub.status.busy": "2021-10-12T15:47:59.485072Z",
     "iopub.status.idle": "2021-10-12T15:47:59.796887Z",
     "shell.execute_reply": "2021-10-12T15:47:59.795985Z",
     "shell.execute_reply.started": "2021-10-12T15:47:59.485956Z"
    }
   },
   "outputs": [],
   "source": [
    "train = pd.read_csv('/kaggle/input/sf-dst-scoring/train.csv')\n",
    "test = pd.read_csv('/kaggle/input/sf-dst-scoring/test.csv')\n",
    "pd.set_option('display.max_columns', None)\n",
    "print('Тестовый датасет: ', test.shape)\n",
    "display(test.head())\n",
    "print('Тренировочный датасет: ', train.shape)\n",
    "display(train.head())"
   ]
  },
  {
   "cell_type": "markdown",
   "metadata": {},
   "source": [
    "#### Объединение тренировочного и тестового датасетов."
   ]
  },
  {
   "cell_type": "code",
   "execution_count": null,
   "metadata": {
    "execution": {
     "iopub.execute_input": "2021-10-12T15:47:59.799388Z",
     "iopub.status.busy": "2021-10-12T15:47:59.799112Z",
     "iopub.status.idle": "2021-10-12T15:47:59.910743Z",
     "shell.execute_reply": "2021-10-12T15:47:59.910088Z",
     "shell.execute_reply.started": "2021-10-12T15:47:59.799353Z"
    }
   },
   "outputs": [],
   "source": [
    "train['Train'] = 1\n",
    "test['Train'] = 0  \n",
    "data = train.append(test, sort=False).reset_index(drop=True) \n",
    "data"
   ]
  },
  {
   "cell_type": "code",
   "execution_count": null,
   "metadata": {
    "execution": {
     "iopub.execute_input": "2021-10-12T15:47:59.911985Z",
     "iopub.status.busy": "2021-10-12T15:47:59.911764Z",
     "iopub.status.idle": "2021-10-12T15:48:00.004913Z",
     "shell.execute_reply": "2021-10-12T15:48:00.003836Z",
     "shell.execute_reply.started": "2021-10-12T15:47:59.911958Z"
    }
   },
   "outputs": [],
   "source": [
    "data.info()"
   ]
  },
  {
   "cell_type": "code",
   "execution_count": null,
   "metadata": {
    "execution": {
     "iopub.execute_input": "2021-10-12T15:48:00.006898Z",
     "iopub.status.busy": "2021-10-12T15:48:00.00655Z",
     "iopub.status.idle": "2021-10-12T15:48:00.091876Z",
     "shell.execute_reply": "2021-10-12T15:48:00.090791Z",
     "shell.execute_reply.started": "2021-10-12T15:48:00.006852Z"
    }
   },
   "outputs": [],
   "source": [
    "data.isna().sum()"
   ]
  },
  {
   "cell_type": "markdown",
   "metadata": {},
   "source": [
    "    client_id - идентификатор клиента банка\n",
    "    education - уровень образования клиента банка\n",
    "    sex - пол клиента банка\n",
    "    age - возраст клиента банка\n",
    "    car - наличие автомобиля\n",
    "    car_type - наличие автомобиля иномарки\n",
    "    decline_app_cnt - количество отказов\n",
    "    good_work - есть ли у клиента банка достойная работа\n",
    "    bki_request_cnt - количество запросов в БКИ\n",
    "    home_address - домашний адрес\n",
    "    work_address - рабочий адрес\n",
    "    income - доход клиента банка\n",
    "    foreign_passport - наличие паспорта у клиента банка\n",
    "    default - дефолт по кредиту\n",
    "    app_date - дата подачи заявки\n",
    "    score_bki - скоринговый балл по данным из БКИ\n",
    "    region_rating - рейтинг региона\n",
    "    sna - связь клиента банка с кредитом с клиентами банка\n",
    "    first_time - когда была получена информация о клиенте банка"
   ]
  },
  {
   "cell_type": "markdown",
   "metadata": {},
   "source": [
    "**Промежуточный итог**"
   ]
  },
  {
   "cell_type": "markdown",
   "metadata": {},
   "source": [
    "Тренировочный датасет содержит - 73799 записей.\n",
    "Тестовый датасет содержит -      36349 записей.\n",
    "Число всех записей -             110148 записей.\n",
    "Признаков - 19. 5 бинарных, 5 числовых, 6 категориальных, 1 временной.\n",
    "Пропусков - 478. Все пропуски находятся в одной переменной \"education\""
   ]
  },
  {
   "cell_type": "markdown",
   "metadata": {},
   "source": [
    "#### Целевые переменные"
   ]
  },
  {
   "cell_type": "code",
   "execution_count": null,
   "metadata": {
    "execution": {
     "iopub.execute_input": "2021-10-12T15:48:00.093293Z",
     "iopub.status.busy": "2021-10-12T15:48:00.093049Z",
     "iopub.status.idle": "2021-10-12T15:48:00.328754Z",
     "shell.execute_reply": "2021-10-12T15:48:00.328059Z",
     "shell.execute_reply.started": "2021-10-12T15:48:00.093264Z"
    }
   },
   "outputs": [],
   "source": [
    "train['default'].value_counts().plot.bar()"
   ]
  },
  {
   "cell_type": "markdown",
   "metadata": {},
   "source": [
    "Недефолтный клиентов банка больше чем дефолтных."
   ]
  },
  {
   "cell_type": "code",
   "execution_count": null,
   "metadata": {
    "execution": {
     "iopub.execute_input": "2021-10-12T15:48:00.331174Z",
     "iopub.status.busy": "2021-10-12T15:48:00.330569Z",
     "iopub.status.idle": "2021-10-12T15:48:00.337439Z",
     "shell.execute_reply": "2021-10-12T15:48:00.336642Z",
     "shell.execute_reply.started": "2021-10-12T15:48:00.331115Z"
    }
   },
   "outputs": [],
   "source": [
    "time_p = ['app_date'] # временной признак - 1\n",
    "numeral_p = ['age', 'decline_app_cnt', 'score_bki', 'bki_request_cnt', 'income'] # числовой признак - 5\n",
    "binar_p = ['sex', 'car', 'car_type', 'good_work', 'foreign_passport'] # бинарный признак - 5\n",
    "categoral_p = ['education', 'region_rating','home_address', 'work_address', 'sna', 'first_time'] # категоральный признак - 6"
   ]
  },
  {
   "cell_type": "markdown",
   "metadata": {},
   "source": [
    "#### Числовые признаки"
   ]
  },
  {
   "cell_type": "markdown",
   "metadata": {},
   "source": [
    "**decline_app_cnt**"
   ]
  },
  {
   "cell_type": "code",
   "execution_count": null,
   "metadata": {
    "execution": {
     "iopub.execute_input": "2021-10-12T15:48:00.339783Z",
     "iopub.status.busy": "2021-10-12T15:48:00.339178Z",
     "iopub.status.idle": "2021-10-12T15:48:01.742852Z",
     "shell.execute_reply": "2021-10-12T15:48:01.741844Z",
     "shell.execute_reply.started": "2021-10-12T15:48:00.339736Z"
    }
   },
   "outputs": [],
   "source": [
    "numeral('decline_app_cnt')"
   ]
  },
  {
   "cell_type": "markdown",
   "metadata": {},
   "source": [
    "Выбросов много.\n",
    "Распределение логнормальное.\n",
    "Дефолтные клиенты банка имеют больше отказов в заявках."
   ]
  },
  {
   "cell_type": "markdown",
   "metadata": {},
   "source": [
    "**age**"
   ]
  },
  {
   "cell_type": "code",
   "execution_count": null,
   "metadata": {
    "execution": {
     "iopub.execute_input": "2021-10-12T15:48:01.744686Z",
     "iopub.status.busy": "2021-10-12T15:48:01.74435Z",
     "iopub.status.idle": "2021-10-12T15:48:03.389041Z",
     "shell.execute_reply": "2021-10-12T15:48:03.388028Z",
     "shell.execute_reply.started": "2021-10-12T15:48:01.74464Z"
    }
   },
   "outputs": [],
   "source": [
    "numeral('age')"
   ]
  },
  {
   "cell_type": "markdown",
   "metadata": {},
   "source": [
    "Выбросов нет.\n",
    "Распредленеие логнормальное.\n",
    "Дефолтные клиенты банка относятся к молодому возрасту."
   ]
  },
  {
   "cell_type": "code",
   "execution_count": null,
   "metadata": {
    "execution": {
     "iopub.execute_input": "2021-10-12T15:48:03.390628Z",
     "iopub.status.busy": "2021-10-12T15:48:03.390354Z",
     "iopub.status.idle": "2021-10-12T15:48:04.091331Z",
     "shell.execute_reply": "2021-10-12T15:48:04.09025Z",
     "shell.execute_reply.started": "2021-10-12T15:48:03.390597Z"
    }
   },
   "outputs": [],
   "source": [
    "data['decline_app_cnt'] = np.log(data['decline_app_cnt'] + 1)\n",
    "numeral_prolog('decline_app_cnt')"
   ]
  },
  {
   "cell_type": "markdown",
   "metadata": {},
   "source": [
    "**score_bki**"
   ]
  },
  {
   "cell_type": "code",
   "execution_count": null,
   "metadata": {
    "execution": {
     "iopub.execute_input": "2021-10-12T15:48:04.093092Z",
     "iopub.status.busy": "2021-10-12T15:48:04.092799Z",
     "iopub.status.idle": "2021-10-12T15:48:06.735643Z",
     "shell.execute_reply": "2021-10-12T15:48:06.734415Z",
     "shell.execute_reply.started": "2021-10-12T15:48:04.093058Z"
    }
   },
   "outputs": [],
   "source": [
    "numeral('score_bki')"
   ]
  },
  {
   "cell_type": "markdown",
   "metadata": {},
   "source": [
    "Распредление нормальное.\n",
    "Выбросов мало.\n",
    "Скорр балл выше у дефолтных клиентов банка."
   ]
  },
  {
   "cell_type": "markdown",
   "metadata": {},
   "source": [
    "**bki_request_cnt**"
   ]
  },
  {
   "cell_type": "code",
   "execution_count": null,
   "metadata": {
    "execution": {
     "iopub.execute_input": "2021-10-12T15:48:06.740115Z",
     "iopub.status.busy": "2021-10-12T15:48:06.739763Z",
     "iopub.status.idle": "2021-10-12T15:48:12.615689Z",
     "shell.execute_reply": "2021-10-12T15:48:12.6147Z",
     "shell.execute_reply.started": "2021-10-12T15:48:06.740079Z"
    }
   },
   "outputs": [],
   "source": [
    "numeral('bki_request_cnt')"
   ]
  },
  {
   "cell_type": "markdown",
   "metadata": {},
   "source": [
    "Распределение логнормальное.\n",
    "Много выборосов."
   ]
  },
  {
   "cell_type": "code",
   "execution_count": null,
   "metadata": {
    "execution": {
     "iopub.execute_input": "2021-10-12T15:48:12.617282Z",
     "iopub.status.busy": "2021-10-12T15:48:12.617035Z",
     "iopub.status.idle": "2021-10-12T15:48:13.509796Z",
     "shell.execute_reply": "2021-10-12T15:48:13.508715Z",
     "shell.execute_reply.started": "2021-10-12T15:48:12.617254Z"
    }
   },
   "outputs": [],
   "source": [
    "data['bki_request_cnt'] = np.log(data['bki_request_cnt'] + 1)\n",
    "numeral_prolog('bki_request_cnt')"
   ]
  },
  {
   "cell_type": "markdown",
   "metadata": {},
   "source": [
    "**income**"
   ]
  },
  {
   "cell_type": "code",
   "execution_count": null,
   "metadata": {
    "execution": {
     "iopub.execute_input": "2021-10-12T15:48:13.511564Z",
     "iopub.status.busy": "2021-10-12T15:48:13.511289Z",
     "iopub.status.idle": "2021-10-12T15:48:24.286495Z",
     "shell.execute_reply": "2021-10-12T15:48:24.285809Z",
     "shell.execute_reply.started": "2021-10-12T15:48:13.511534Z"
    }
   },
   "outputs": [],
   "source": [
    "numeral('income')"
   ]
  },
  {
   "cell_type": "markdown",
   "metadata": {},
   "source": [
    "Распределение логнормальное.\n",
    "Выбросов много.\n",
    "Клиенты с дефолтом имеют низкий доход."
   ]
  },
  {
   "cell_type": "code",
   "execution_count": null,
   "metadata": {
    "execution": {
     "iopub.execute_input": "2021-10-12T15:48:24.288217Z",
     "iopub.status.busy": "2021-10-12T15:48:24.287558Z",
     "iopub.status.idle": "2021-10-12T15:48:25.914118Z",
     "shell.execute_reply": "2021-10-12T15:48:25.913101Z",
     "shell.execute_reply.started": "2021-10-12T15:48:24.288166Z"
    }
   },
   "outputs": [],
   "source": [
    "data['income'] = np.log(data['income'] + 1)\n",
    "numeral_prolog('income')"
   ]
  },
  {
   "cell_type": "markdown",
   "metadata": {},
   "source": [
    "#### Категоральные признаки"
   ]
  },
  {
   "cell_type": "markdown",
   "metadata": {},
   "source": [
    "**education**"
   ]
  },
  {
   "cell_type": "markdown",
   "metadata": {},
   "source": [
    "Как мы помним в этом признаке у нас есть пропуски, поэтому заменим пропуски на те что встречаются чаще значения."
   ]
  },
  {
   "cell_type": "code",
   "execution_count": null,
   "metadata": {
    "execution": {
     "iopub.execute_input": "2021-10-12T15:48:25.915872Z",
     "iopub.status.busy": "2021-10-12T15:48:25.915624Z",
     "iopub.status.idle": "2021-10-12T15:48:25.941514Z",
     "shell.execute_reply": "2021-10-12T15:48:25.940586Z",
     "shell.execute_reply.started": "2021-10-12T15:48:25.915843Z"
    }
   },
   "outputs": [],
   "source": [
    "data['education'].value_counts()"
   ]
  },
  {
   "cell_type": "markdown",
   "metadata": {},
   "source": [
    "Частое значение это SCH. Заполняем."
   ]
  },
  {
   "cell_type": "code",
   "execution_count": null,
   "metadata": {
    "execution": {
     "iopub.execute_input": "2021-10-12T15:48:25.942859Z",
     "iopub.status.busy": "2021-10-12T15:48:25.942631Z",
     "iopub.status.idle": "2021-10-12T15:48:26.693891Z",
     "shell.execute_reply": "2021-10-12T15:48:26.692797Z",
     "shell.execute_reply.started": "2021-10-12T15:48:25.942833Z"
    }
   },
   "outputs": [],
   "source": [
    "data['education'] = data['education'].fillna('SCH')\n",
    "categoral('education')"
   ]
  },
  {
   "cell_type": "markdown",
   "metadata": {},
   "source": [
    "Самые ненадежные банковские клиенты - учащиеся.\n",
    "Менее ненадежные банковские клиенты - окончившие школу.\n",
    "Надёжные - получающие высшее образование.\n",
    "Самые надёжные - со степенями."
   ]
  },
  {
   "cell_type": "markdown",
   "metadata": {},
   "source": [
    "**home_address**"
   ]
  },
  {
   "cell_type": "code",
   "execution_count": null,
   "metadata": {
    "execution": {
     "iopub.execute_input": "2021-10-12T15:48:26.695427Z",
     "iopub.status.busy": "2021-10-12T15:48:26.695191Z",
     "iopub.status.idle": "2021-10-12T15:48:27.683496Z",
     "shell.execute_reply": "2021-10-12T15:48:27.682638Z",
     "shell.execute_reply.started": "2021-10-12T15:48:26.695398Z"
    }
   },
   "outputs": [],
   "source": [
    "categoral('home_address')"
   ]
  },
  {
   "cell_type": "markdown",
   "metadata": {},
   "source": [
    "Большая масса клиентов банка расположена в категориях 1 и 2. Разница между ними небольшая."
   ]
  },
  {
   "cell_type": "markdown",
   "metadata": {},
   "source": [
    "**region_rating**"
   ]
  },
  {
   "cell_type": "code",
   "execution_count": null,
   "metadata": {
    "execution": {
     "iopub.execute_input": "2021-10-12T15:48:27.684947Z",
     "iopub.status.busy": "2021-10-12T15:48:27.68471Z",
     "iopub.status.idle": "2021-10-12T15:48:28.356954Z",
     "shell.execute_reply": "2021-10-12T15:48:28.356146Z",
     "shell.execute_reply.started": "2021-10-12T15:48:27.684919Z"
    }
   },
   "outputs": [],
   "source": [
    "categoral('region_rating')"
   ]
  },
  {
   "cell_type": "markdown",
   "metadata": {},
   "source": [
    "Чем выше рейтинг региона тем уменьшается сильнее число дефолтных клиентов."
   ]
  },
  {
   "cell_type": "markdown",
   "metadata": {},
   "source": [
    "**work_address**"
   ]
  },
  {
   "cell_type": "code",
   "execution_count": null,
   "metadata": {
    "execution": {
     "iopub.execute_input": "2021-10-12T15:48:28.3586Z",
     "iopub.status.busy": "2021-10-12T15:48:28.358345Z",
     "iopub.status.idle": "2021-10-12T15:48:28.930465Z",
     "shell.execute_reply": "2021-10-12T15:48:28.929559Z",
     "shell.execute_reply.started": "2021-10-12T15:48:28.358572Z"
    }
   },
   "outputs": [],
   "source": [
    "categoral('work_address')"
   ]
  },
  {
   "cell_type": "markdown",
   "metadata": {},
   "source": [
    "**first_time**"
   ]
  },
  {
   "cell_type": "code",
   "execution_count": null,
   "metadata": {
    "execution": {
     "iopub.execute_input": "2021-10-12T15:48:28.931977Z",
     "iopub.status.busy": "2021-10-12T15:48:28.931721Z",
     "iopub.status.idle": "2021-10-12T15:48:29.494904Z",
     "shell.execute_reply": "2021-10-12T15:48:29.493889Z",
     "shell.execute_reply.started": "2021-10-12T15:48:28.931947Z"
    }
   },
   "outputs": [],
   "source": [
    "categoral('first_time')"
   ]
  },
  {
   "cell_type": "markdown",
   "metadata": {},
   "source": [
    "Чем ниже признак - тем выше число дефолтных клиентов банка."
   ]
  },
  {
   "cell_type": "markdown",
   "metadata": {},
   "source": [
    "**sna**"
   ]
  },
  {
   "cell_type": "code",
   "execution_count": null,
   "metadata": {
    "execution": {
     "iopub.execute_input": "2021-10-12T15:48:29.497162Z",
     "iopub.status.busy": "2021-10-12T15:48:29.496634Z",
     "iopub.status.idle": "2021-10-12T15:48:30.104129Z",
     "shell.execute_reply": "2021-10-12T15:48:30.103423Z",
     "shell.execute_reply.started": "2021-10-12T15:48:29.497107Z"
    }
   },
   "outputs": [],
   "source": [
    "categoral('sna')"
   ]
  },
  {
   "cell_type": "markdown",
   "metadata": {},
   "source": [
    "Чем выше признак - тем выше число дефолтных клиентов."
   ]
  },
  {
   "cell_type": "markdown",
   "metadata": {},
   "source": [
    "**sex**"
   ]
  },
  {
   "cell_type": "code",
   "execution_count": null,
   "metadata": {
    "execution": {
     "iopub.execute_input": "2021-10-12T15:48:30.106106Z",
     "iopub.status.busy": "2021-10-12T15:48:30.105315Z",
     "iopub.status.idle": "2021-10-12T15:48:30.763353Z",
     "shell.execute_reply": "2021-10-12T15:48:30.762293Z",
     "shell.execute_reply.started": "2021-10-12T15:48:30.106049Z"
    }
   },
   "outputs": [],
   "source": [
    "categoral('sex')"
   ]
  },
  {
   "cell_type": "markdown",
   "metadata": {},
   "source": [
    "В датасете число женщин клиентов банка больше чем мужчин клиентов банка на 1\\4. Число дефолтных клиентов и там и там почти равно."
   ]
  },
  {
   "cell_type": "markdown",
   "metadata": {},
   "source": [
    "**car**"
   ]
  },
  {
   "cell_type": "code",
   "execution_count": null,
   "metadata": {
    "execution": {
     "iopub.execute_input": "2021-10-12T15:48:30.76514Z",
     "iopub.status.busy": "2021-10-12T15:48:30.764834Z",
     "iopub.status.idle": "2021-10-12T15:48:31.399346Z",
     "shell.execute_reply": "2021-10-12T15:48:31.398423Z",
     "shell.execute_reply.started": "2021-10-12T15:48:30.765106Z"
    }
   },
   "outputs": [],
   "source": [
    "categoral('car')"
   ]
  },
  {
   "cell_type": "markdown",
   "metadata": {},
   "source": [
    "Клиенты банка с автомобилем куда надёжнее тех у кого их нет."
   ]
  },
  {
   "cell_type": "markdown",
   "metadata": {},
   "source": [
    "**car_type**"
   ]
  },
  {
   "cell_type": "code",
   "execution_count": null,
   "metadata": {
    "execution": {
     "iopub.execute_input": "2021-10-12T15:48:31.401117Z",
     "iopub.status.busy": "2021-10-12T15:48:31.400868Z",
     "iopub.status.idle": "2021-10-12T15:48:32.020753Z",
     "shell.execute_reply": "2021-10-12T15:48:32.01971Z",
     "shell.execute_reply.started": "2021-10-12T15:48:31.401088Z"
    }
   },
   "outputs": [],
   "source": [
    "categoral('car_type')"
   ]
  },
  {
   "cell_type": "markdown",
   "metadata": {},
   "source": [
    "Клиенты банка с иномаркой более надёжные."
   ]
  },
  {
   "cell_type": "markdown",
   "metadata": {},
   "source": [
    "**foreign_passport**"
   ]
  },
  {
   "cell_type": "code",
   "execution_count": null,
   "metadata": {
    "execution": {
     "iopub.execute_input": "2021-10-12T15:48:32.022801Z",
     "iopub.status.busy": "2021-10-12T15:48:32.022395Z",
     "iopub.status.idle": "2021-10-12T15:48:32.903803Z",
     "shell.execute_reply": "2021-10-12T15:48:32.902802Z",
     "shell.execute_reply.started": "2021-10-12T15:48:32.022749Z"
    }
   },
   "outputs": [],
   "source": [
    "categoral('foreign_passport')"
   ]
  },
  {
   "cell_type": "markdown",
   "metadata": {},
   "source": [
    "У тех клиентов банка, у которых есть загранпаспорт число кредитов меньше. Процент возврата кредита больше."
   ]
  },
  {
   "cell_type": "markdown",
   "metadata": {},
   "source": [
    "**good_work**"
   ]
  },
  {
   "cell_type": "code",
   "execution_count": null,
   "metadata": {
    "execution": {
     "iopub.execute_input": "2021-10-12T15:48:32.905407Z",
     "iopub.status.busy": "2021-10-12T15:48:32.905155Z",
     "iopub.status.idle": "2021-10-12T15:48:33.409465Z",
     "shell.execute_reply": "2021-10-12T15:48:33.408494Z",
     "shell.execute_reply.started": "2021-10-12T15:48:32.905379Z"
    }
   },
   "outputs": [],
   "source": [
    "categoral('good_work')"
   ]
  },
  {
   "cell_type": "markdown",
   "metadata": {},
   "source": [
    "Клиенты банка, у которых качественная и хорошая работа мало. Такие клиенты реже уходят в дефолт."
   ]
  },
  {
   "cell_type": "markdown",
   "metadata": {},
   "source": [
    "**app_date**"
   ]
  },
  {
   "cell_type": "code",
   "execution_count": null,
   "metadata": {
    "execution": {
     "iopub.execute_input": "2021-10-12T15:48:33.411201Z",
     "iopub.status.busy": "2021-10-12T15:48:33.410721Z",
     "iopub.status.idle": "2021-10-12T15:48:33.450047Z",
     "shell.execute_reply": "2021-10-12T15:48:33.449357Z",
     "shell.execute_reply.started": "2021-10-12T15:48:33.411171Z"
    }
   },
   "outputs": [],
   "source": [
    "data.app_date = pd.to_datetime(data.app_date, format='%d%b%Y')\n",
    "start_date = data.app_date.min()\n",
    "end_date = data.app_date.max()\n",
    "print(start_date, end_date)"
   ]
  },
  {
   "cell_type": "code",
   "execution_count": null,
   "metadata": {
    "execution": {
     "iopub.execute_input": "2021-10-12T15:48:33.451944Z",
     "iopub.status.busy": "2021-10-12T15:48:33.451081Z",
     "iopub.status.idle": "2021-10-12T15:48:33.461223Z",
     "shell.execute_reply": "2021-10-12T15:48:33.460523Z",
     "shell.execute_reply.started": "2021-10-12T15:48:33.451907Z"
    }
   },
   "outputs": [],
   "source": [
    "data['days'] = (data.app_date - start_date).dt.days.astype('int')"
   ]
  },
  {
   "cell_type": "markdown",
   "metadata": {},
   "source": [
    "#### Feature engineering"
   ]
  },
  {
   "cell_type": "code",
   "execution_count": null,
   "metadata": {
    "execution": {
     "iopub.execute_input": "2021-10-12T15:48:33.463355Z",
     "iopub.status.busy": "2021-10-12T15:48:33.462379Z",
     "iopub.status.idle": "2021-10-12T15:48:33.636024Z",
     "shell.execute_reply": "2021-10-12T15:48:33.634926Z",
     "shell.execute_reply.started": "2021-10-12T15:48:33.463305Z"
    }
   },
   "outputs": [],
   "source": [
    "binar_colums = {}\n",
    "label_encoder = LabelEncoder()\n",
    "for col in binar_p:\n",
    "    data[col] = label_encoder.fit_transform(data[col])\n",
    "    binar_colums[col] = dict(enumerate(label_encoder.classes_))\n",
    "print(binar_colums)"
   ]
  },
  {
   "cell_type": "code",
   "execution_count": null,
   "metadata": {
    "execution": {
     "iopub.execute_input": "2021-10-12T15:48:33.638306Z",
     "iopub.status.busy": "2021-10-12T15:48:33.63796Z",
     "iopub.status.idle": "2021-10-12T15:48:33.774087Z",
     "shell.execute_reply": "2021-10-12T15:48:33.773308Z",
     "shell.execute_reply.started": "2021-10-12T15:48:33.638262Z"
    }
   },
   "outputs": [],
   "source": [
    "edu_dict = {'SCH': 1,'UGR': 2,'GRD': 3,'PGR': 4,'ACD': 5}\n",
    "edu = data.education.fillna(data.education.mode()[0]).map(edu_dict)\n",
    "max_income = data.groupby('age')['income'].max().to_dict()\n",
    "mean_income_region = data.groupby('region_rating')['income'].mean().to_dict()\n",
    "mean_income_age = data.groupby('age').income.mean().to_dict()\n",
    "mean_bki = data.groupby('age')['bki_request_cnt'].mean().to_dict()\n",
    "data['priznak_1'] = data['age'].map(max_income)\n",
    "data['priznak_2'] = data['region_rating'].map(mean_income_region)\n",
    "data['priznak_3'] = data.income / data.region_rating\n",
    "data['priznak_4'] = data.income / (data.bki_request_cnt + 1)\n",
    "data['priznak_5'] = (data.decline_app_cnt * data.sna) ** 2\n",
    "data['priznak_6'] = data.region_rating * data.car\n",
    "data['priznak_7'] = (data.car + data.car_type) / data.sna * data.decline_app_cnt\n",
    "data['priznak_8'] = data.home_address + data.work_address\n",
    "data['priznak_9'] = data.income**2 / (data.region_rating * (data.decline_app_cnt + 1))\n",
    "data['priznak_10'] = data.first_time * data.sna / (data.bki_request_cnt + 1)\n",
    "data['priznak_11'] = (data.score_bki / data.age) ** data.foreign_passport\n",
    "data['priznak_12'] = (data.score_bki / data.age) ** data.sna\n",
    "data['priznak_13'] = data.age / data.score_bki\n",
    "data['priznak_14'] = data.good_work * (data.home_address + data.work_address) \n",
    "data['priznak_15'] = (data.home_address + data.work_address) * data.sna \n",
    "data['priznak_16'] = data.decline_app_cnt * data.sna\n",
    "data['priznak_17'] = abs((data.income - data.age.map(mean_income_age))/data['age'].map(max_income))\n",
    "data['priznak_18'] = data['age'].map(mean_bki)\n",
    "data['priznak_19'] = (data.bki_request_cnt!=0).astype(int)\n",
    "data['priznak_20'] = (data.decline_app_cnt==0).astype(int)\n",
    "data['priznak_21'] = data.client_id.lt(10000).astype(int)\n",
    "data['priznak_22'] = data.client_id.between(10000,90000).astype(int)\n",
    "data['priznak_23'] = np.log(data.decline_app_cnt/data.client_id +1)\n",
    "data['priznak_24'] = np.log((data.income/data.age)+1)\n",
    "data['priznak_25'] = np.log((edu/data.age)+1)\n",
    "my_numeral = list(data.columns[data.columns.str.contains('priznak')])"
   ]
  },
  {
   "cell_type": "markdown",
   "metadata": {},
   "source": [
    "#### Нормализация данных"
   ]
  },
  {
   "cell_type": "code",
   "execution_count": null,
   "metadata": {
    "execution": {
     "iopub.execute_input": "2021-10-12T15:48:33.77635Z",
     "iopub.status.busy": "2021-10-12T15:48:33.775449Z",
     "iopub.status.idle": "2021-10-12T15:48:34.323984Z",
     "shell.execute_reply": "2021-10-12T15:48:34.323027Z",
     "shell.execute_reply.started": "2021-10-12T15:48:33.776311Z"
    }
   },
   "outputs": [],
   "source": [
    "numeral_columns = ['age', 'decline_app_cnt', 'bki_request_cnt', 'income', 'days']\n",
    "scaler = StandardScaler()\n",
    "for col in numeral_columns:\n",
    "    data[col] = scaler.fit_transform(data[[col]])\n",
    "for col in my_numeral:\n",
    "    data[col] = scaler.fit_transform(data[[col]])"
   ]
  },
  {
   "cell_type": "code",
   "execution_count": null,
   "metadata": {
    "execution": {
     "iopub.execute_input": "2021-10-12T15:48:34.325519Z",
     "iopub.status.busy": "2021-10-12T15:48:34.325248Z",
     "iopub.status.idle": "2021-10-12T15:48:34.437298Z",
     "shell.execute_reply": "2021-10-12T15:48:34.436456Z",
     "shell.execute_reply.started": "2021-10-12T15:48:34.325487Z"
    }
   },
   "outputs": [],
   "source": [
    "data=pd.get_dummies(data, prefix=categoral_p, columns=categoral_p)\n",
    "data.head()"
   ]
  },
  {
   "cell_type": "code",
   "execution_count": null,
   "metadata": {
    "execution": {
     "iopub.execute_input": "2021-10-12T15:48:34.438828Z",
     "iopub.status.busy": "2021-10-12T15:48:34.438587Z",
     "iopub.status.idle": "2021-10-12T15:48:35.843057Z",
     "shell.execute_reply": "2021-10-12T15:48:35.842111Z",
     "shell.execute_reply.started": "2021-10-12T15:48:34.438801Z"
    }
   },
   "outputs": [],
   "source": [
    "data.corr()"
   ]
  },
  {
   "cell_type": "code",
   "execution_count": null,
   "metadata": {
    "execution": {
     "iopub.execute_input": "2021-10-12T15:48:35.844576Z",
     "iopub.status.busy": "2021-10-12T15:48:35.844321Z",
     "iopub.status.idle": "2021-10-12T15:48:35.895409Z",
     "shell.execute_reply": "2021-10-12T15:48:35.894549Z",
     "shell.execute_reply.started": "2021-10-12T15:48:35.844545Z"
    }
   },
   "outputs": [],
   "source": [
    "data = data.drop(['app_date', 'education_GRD', 'good_work', 'region_rating_80', 'sna_3', 'home_address_2', 'education_ACD', 'sna_4'], axis=1)"
   ]
  },
  {
   "cell_type": "code",
   "execution_count": null,
   "metadata": {
    "execution": {
     "iopub.execute_input": "2021-10-12T15:48:35.897161Z",
     "iopub.status.busy": "2021-10-12T15:48:35.896855Z",
     "iopub.status.idle": "2021-10-12T15:48:35.943981Z",
     "shell.execute_reply": "2021-10-12T15:48:35.943079Z",
     "shell.execute_reply.started": "2021-10-12T15:48:35.89713Z"
    }
   },
   "outputs": [],
   "source": [
    "data.head()"
   ]
  },
  {
   "cell_type": "markdown",
   "metadata": {},
   "source": [
    "#### Построение модели"
   ]
  },
  {
   "cell_type": "code",
   "execution_count": null,
   "metadata": {
    "execution": {
     "iopub.execute_input": "2021-10-12T15:48:35.945621Z",
     "iopub.status.busy": "2021-10-12T15:48:35.945382Z",
     "iopub.status.idle": "2021-10-12T15:48:36.007434Z",
     "shell.execute_reply": "2021-10-12T15:48:36.006605Z",
     "shell.execute_reply.started": "2021-10-12T15:48:35.945587Z"
    }
   },
   "outputs": [],
   "source": [
    "train_data = data.query('Train == 1').drop(['Train', 'client_id'], axis=1)\n",
    "test_data = data.query('Train == 0').drop(['Train', 'client_id', 'default'], axis=1)\n",
    "y = train_data.default.values\n",
    "X = train_data.drop(['default'], axis=1)"
   ]
  },
  {
   "cell_type": "code",
   "execution_count": null,
   "metadata": {
    "execution": {
     "iopub.execute_input": "2021-10-12T15:48:36.009221Z",
     "iopub.status.busy": "2021-10-12T15:48:36.008888Z",
     "iopub.status.idle": "2021-10-12T15:48:36.051768Z",
     "shell.execute_reply": "2021-10-12T15:48:36.050721Z",
     "shell.execute_reply.started": "2021-10-12T15:48:36.009179Z"
    }
   },
   "outputs": [],
   "source": [
    "X_train, X_test, y_train, y_test = train_test_split(X, y, test_size=0.20, random_state=42)"
   ]
  },
  {
   "cell_type": "markdown",
   "metadata": {},
   "source": [
    "#### Обучение модели"
   ]
  },
  {
   "cell_type": "code",
   "execution_count": null,
   "metadata": {
    "execution": {
     "iopub.execute_input": "2021-10-12T15:48:36.057956Z",
     "iopub.status.busy": "2021-10-12T15:48:36.057636Z",
     "iopub.status.idle": "2021-10-12T15:48:38.610335Z",
     "shell.execute_reply": "2021-10-12T15:48:38.609669Z",
     "shell.execute_reply.started": "2021-10-12T15:48:36.057916Z"
    }
   },
   "outputs": [],
   "source": [
    "model = LogisticRegression(random_state=42, solver='liblinear')\n",
    "model.fit(X_train, y_train)\n",
    "y_pred_proba = model.predict_proba(X_test)[:, 1]\n",
    "y_pred = model.predict(X_test)\n",
    "fpr, tpr, threshold = roc_curve(y_test, y_pred_proba)\n",
    "roc_auc = roc_auc_score(y_test, y_pred_proba)\n",
    "plt.figure()\n",
    "plt.plot([0, 1], label='Baseline', linestyle='--')\n",
    "plt.plot(fpr, tpr, label='Regression')\n",
    "plt.title('Logistic Regression ROC AUC = %0.5f' % roc_auc)\n",
    "plt.ylabel('True Positive Rate')\n",
    "plt.xlabel('False Positive Rate')\n",
    "plt.legend(loc='lower right')\n",
    "plt.show()"
   ]
  },
  {
   "cell_type": "code",
   "execution_count": null,
   "metadata": {
    "execution": {
     "iopub.execute_input": "2021-10-12T15:48:38.611935Z",
     "iopub.status.busy": "2021-10-12T15:48:38.611533Z",
     "iopub.status.idle": "2021-10-12T15:48:38.652914Z",
     "shell.execute_reply": "2021-10-12T15:48:38.651931Z",
     "shell.execute_reply.started": "2021-10-12T15:48:38.611886Z"
    }
   },
   "outputs": [],
   "source": [
    "print('accuracy_score:', accuracy_score(y_test, y_pred))\n",
    "print('precision_score:', precision_score(y_test, y_pred))\n",
    "print('recall_score:', recall_score(y_test, y_pred))\n",
    "print('f1_score:', f1_score(y_test, y_pred))\n",
    "print('roc_auc:', roc_auc_score(y_test, y_pred_proba))"
   ]
  },
  {
   "cell_type": "code",
   "execution_count": null,
   "metadata": {
    "execution": {
     "iopub.execute_input": "2021-10-12T15:48:38.654542Z",
     "iopub.status.busy": "2021-10-12T15:48:38.654252Z",
     "iopub.status.idle": "2021-10-12T15:48:38.957506Z",
     "shell.execute_reply": "2021-10-12T15:48:38.956546Z",
     "shell.execute_reply.started": "2021-10-12T15:48:38.654508Z"
    }
   },
   "outputs": [],
   "source": [
    "skplt.metrics.plot_confusion_matrix(y_test, y_pred, figsize=(5, 5))"
   ]
  },
  {
   "cell_type": "markdown",
   "metadata": {},
   "source": [
    "Правим нашу модель предсказаний."
   ]
  },
  {
   "cell_type": "markdown",
   "metadata": {},
   "source": [
    "**Настройка параметров**"
   ]
  },
  {
   "cell_type": "code",
   "execution_count": null,
   "metadata": {
    "execution": {
     "iopub.execute_input": "2021-10-12T15:48:38.95992Z",
     "iopub.status.busy": "2021-10-12T15:48:38.959441Z",
     "iopub.status.idle": "2021-10-12T15:52:21.019529Z",
     "shell.execute_reply": "2021-10-12T15:52:21.018297Z",
     "shell.execute_reply.started": "2021-10-12T15:48:38.959869Z"
    }
   },
   "outputs": [],
   "source": [
    "#C = [0.1, 1, 10]\n",
    "#penalty = ['l2']\n",
    "#solver = ['newton-cg','liblinear','sag', 'saga', 'lbfgs']\n",
    "#class_weight = ['balanced', {1:0.7, 0:0.3}]\n",
    "#param = dict(penalty=penalty, solver=solver, class_weight=class_weight, C=C)\n",
    "#gridsearch = GridSearchCV(model, param_grid=param, scoring='f1', n_jobs=-1, cv=5)\n",
    "#grid_result = gridsearch.fit(X_train, y_train)\n",
    "#print('Best Score: ', grid_result.best_score_)\n",
    "#print('Best Params: ', grid_result.best_params_)"
   ]
  },
  {
   "cell_type": "code",
   "execution_count": null,
   "metadata": {
    "execution": {
     "iopub.execute_input": "2021-10-12T15:52:21.022453Z",
     "iopub.status.busy": "2021-10-12T15:52:21.021722Z",
     "iopub.status.idle": "2021-10-12T15:52:26.376749Z",
     "shell.execute_reply": "2021-10-12T15:52:26.375771Z",
     "shell.execute_reply.started": "2021-10-12T15:52:21.022397Z"
    }
   },
   "outputs": [],
   "source": [
    "model = LogisticRegression(random_state=42, C=10, penalty='l2', class_weight={\n",
    "                            1: 0.7, 0: 0.3}, solver='newton-cg', max_iter=1000)\n",
    "model.fit(X_train, y_train)\n",
    "y_pred_proba = model.predict_proba(X_test)[:, 1]\n",
    "y_pred = model.predict(X_test)\n",
    "fpr, tpr, threshold = roc_curve(y_test, y_pred_proba)\n",
    "roc_auc = roc_auc_score(y_test, y_pred_proba)\n",
    "plt.figure()\n",
    "plt.plot([0, 1], label='Baseline', linestyle='--')\n",
    "plt.plot(fpr, tpr, label='Regression')\n",
    "plt.title('Logistic Regression ROC AUC = %0.5f' % roc_auc)\n",
    "plt.ylabel('True Positive Rate')\n",
    "plt.xlabel('False Positive Rate')\n",
    "plt.legend(loc='lower right')\n",
    "plt.show()"
   ]
  },
  {
   "cell_type": "code",
   "execution_count": null,
   "metadata": {
    "execution": {
     "iopub.execute_input": "2021-10-12T15:52:26.37849Z",
     "iopub.status.busy": "2021-10-12T15:52:26.378207Z",
     "iopub.status.idle": "2021-10-12T15:52:26.420804Z",
     "shell.execute_reply": "2021-10-12T15:52:26.41986Z",
     "shell.execute_reply.started": "2021-10-12T15:52:26.378445Z"
    }
   },
   "outputs": [],
   "source": [
    "print('accuracy_score:', accuracy_score(y_test, y_pred))\n",
    "print('precision_score:', precision_score(y_test, y_pred))\n",
    "print('recall_score:', recall_score(y_test, y_pred))\n",
    "print('f1_score:', f1_score(y_test, y_pred))\n",
    "print('roc_auc:', roc_auc_score(y_test, y_pred_proba))"
   ]
  },
  {
   "cell_type": "code",
   "execution_count": null,
   "metadata": {
    "execution": {
     "iopub.execute_input": "2021-10-12T15:52:26.422329Z",
     "iopub.status.busy": "2021-10-12T15:52:26.422073Z",
     "iopub.status.idle": "2021-10-12T15:52:26.723701Z",
     "shell.execute_reply": "2021-10-12T15:52:26.722743Z",
     "shell.execute_reply.started": "2021-10-12T15:52:26.422298Z"
    }
   },
   "outputs": [],
   "source": [
    "skplt.metrics.plot_confusion_matrix(y_test, y_pred, figsize=(5, 5))"
   ]
  },
  {
   "cell_type": "markdown",
   "metadata": {},
   "source": [
    "**Вывод:** при ситуации когда наша целевая переменная была несбалансированна у нас получались низкие значения у f1-score метрики. Оптимизировав гиперпараметры мы приводим матрицу к удобному виду и улучшению f1-score метрики."
   ]
  }
 ],
 "metadata": {
  "kernelspec": {
   "display_name": "Python 3",
   "language": "python",
   "name": "python3"
  },
  "language_info": {
   "codemirror_mode": {
    "name": "ipython",
    "version": 3
   },
   "file_extension": ".py",
   "mimetype": "text/x-python",
   "name": "python",
   "nbconvert_exporter": "python",
   "pygments_lexer": "ipython3",
   "version": "3.8.5"
  }
 },
 "nbformat": 4,
 "nbformat_minor": 4
}
