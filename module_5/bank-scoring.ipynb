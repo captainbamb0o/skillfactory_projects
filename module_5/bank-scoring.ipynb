{
 "cells": [
  {
   "cell_type": "code",
   "execution_count": 1,
   "id": "9a6c1df1",
   "metadata": {
    "execution": {
     "iopub.execute_input": "2021-10-12T16:26:12.805626Z",
     "iopub.status.busy": "2021-10-12T16:26:12.804844Z",
     "iopub.status.idle": "2021-10-12T16:26:14.149215Z",
     "shell.execute_reply": "2021-10-12T16:26:14.148527Z",
     "shell.execute_reply.started": "2021-10-12T16:10:28.566750Z"
    },
    "papermill": {
     "duration": 1.428014,
     "end_time": "2021-10-12T16:26:14.149413",
     "exception": false,
     "start_time": "2021-10-12T16:26:12.721399",
     "status": "completed"
    },
    "tags": []
   },
   "outputs": [],
   "source": [
    "import pandas as pd\n",
    "import numpy as np\n",
    "import warnings\n",
    "import seaborn as sns\n",
    "import matplotlib.pyplot as plt\n",
    "import scikitplot as skplt\n",
    "from matplotlib import style\n",
    "from datetime import datetime\n",
    "from sklearn.model_selection import train_test_split, GridSearchCV\n",
    "from sklearn.model_selection import cross_val_score\n",
    "from sklearn.linear_model import LogisticRegression\n",
    "from sklearn.metrics import auc, roc_auc_score, roc_curve, accuracy_score, precision_score, recall_score, f1_score\n",
    "from sklearn.metrics import plot_confusion_matrix\n",
    "from sklearn.metrics import confusion_matrix, ConfusionMatrixDisplay\n",
    "from sklearn.preprocessing import LabelEncoder, OneHotEncoder, StandardScaler\n",
    "style.use('ggplot')\n",
    "%matplotlib inline\n",
    "warnings.filterwarnings('ignore')"
   ]
  },
  {
   "cell_type": "markdown",
   "id": "7260441f",
   "metadata": {
    "papermill": {
     "duration": 0.064225,
     "end_time": "2021-10-12T16:26:14.277656",
     "exception": false,
     "start_time": "2021-10-12T16:26:14.213431",
     "status": "completed"
    },
    "tags": []
   },
   "source": [
    "## Полезные функции"
   ]
  },
  {
   "cell_type": "code",
   "execution_count": 2,
   "id": "b48120d7",
   "metadata": {
    "execution": {
     "iopub.execute_input": "2021-10-12T16:26:14.410367Z",
     "iopub.status.busy": "2021-10-12T16:26:14.409666Z",
     "iopub.status.idle": "2021-10-12T16:26:14.430760Z",
     "shell.execute_reply": "2021-10-12T16:26:14.431338Z",
     "shell.execute_reply.started": "2021-10-12T16:10:28.581573Z"
    },
    "papermill": {
     "duration": 0.088776,
     "end_time": "2021-10-12T16:26:14.431522",
     "exception": false,
     "start_time": "2021-10-12T16:26:14.342746",
     "status": "completed"
    },
    "tags": []
   },
   "outputs": [],
   "source": [
    "def categoral(column):\n",
    "    fig = plt.figure(figsize=(14, 4))   \n",
    "    ax1 = fig.add_axes([0, 0, 0.8, 1])\n",
    "    plt.title('Соотношение клиентов банка по категориям '+column)\n",
    "    ax = sns.countplot(x=column, hue=\"default\", data=train)\n",
    "    num = len(train[column].value_counts())\n",
    "    a = [p.get_height() for p in ax.patches]\n",
    "    patch = [p for p in ax.patches]\n",
    "    for i in range(num):\n",
    "        for j in range(2):\n",
    "            percentage = '{:.1f}%'.format(100 * a[(j*num + i)]/(a[i]+a[i+num]))\n",
    "            x = patch[(j*num + i)].get_x() + patch[(j*num + i)].get_width() / 2 - 0.15\n",
    "            y = patch[(j*num + i)].get_y() + patch[(j*num + i)].get_height() \n",
    "            ax.annotate(percentage, (x, y), size = 12)\n",
    "    plt.show()    \n",
    "    ax2 = fig.add_axes([0, 0, 0.5, 1])\n",
    "    data[column].value_counts().plot.bar()\n",
    "    plt.title('Распределение признака '+column+' по категориям')\n",
    "    plt.tight_layout()\n",
    "\n",
    "    \n",
    "def numeral(column):\n",
    "    fig = plt.figure(figsize=(14, 4))\n",
    "    ax1 = fig.add_axes([0, 0.4, 0.45, 1])\n",
    "    plt.title('Распределение признака '+column+' в train по типам клиентов банка')\n",
    "    sns.histplot(data=train[column], x=train[column], hue=train['default'])\n",
    "    plt.legend(['negative', 'positive'])\n",
    "    ax2 = fig.add_axes([0, 0, 0.45, 0.25])\n",
    "    sns.boxplot(y='default', x=column,data=train[train['Train'] == 1], orient='h', saturation=0.5)\n",
    "    ax3 = fig.add_axes([0.55, 0.4, 0.45, 1])\n",
    "    plt.title('Распределение признака '+column+' в датасетах')\n",
    "    sns.histplot(data=data[column], x=data[column], hue=data['Train'])\n",
    "    plt.legend(['train', 'test'])\n",
    "    ax4 = fig.add_axes([0.55, 0, 0.45, 0.25])\n",
    "    sns.boxplot(y='Train', x=column, data=data, orient='h', saturation=0.5)\n",
    "    plt.tight_layout()\n",
    "    \n",
    "    \n",
    "def numeral_prolog(column):\n",
    "    fig = plt.figure(figsize=(14, 4))\n",
    "    ax1 = fig.add_axes([0.55, 0.4, 0.45, 1])\n",
    "    plt.title('Распределение прологарифмированного признака ' + column+' в двух датасетах')\n",
    "    sns.histplot(data=data[column], x=data[column], hue=data['Train'])\n",
    "    plt.legend(['train', 'test'])\n",
    "    ax2 = fig.add_axes([0.55, 0, 0.45, 0.25])\n",
    "    sns.boxplot(y='Train', x=column, data=data, orient='h', saturation=0.5)\n",
    "    plt.tight_layout()"
   ]
  },
  {
   "cell_type": "markdown",
   "id": "983b9cb4",
   "metadata": {
    "papermill": {
     "duration": 0.063889,
     "end_time": "2021-10-12T16:26:14.561604",
     "exception": false,
     "start_time": "2021-10-12T16:26:14.497715",
     "status": "completed"
    },
    "tags": []
   },
   "source": [
    "## Импорт данных и их предварительный анализ"
   ]
  },
  {
   "cell_type": "code",
   "execution_count": 3,
   "id": "d4065537",
   "metadata": {
    "execution": {
     "iopub.execute_input": "2021-10-12T16:26:14.694514Z",
     "iopub.status.busy": "2021-10-12T16:26:14.693836Z",
     "iopub.status.idle": "2021-10-12T16:26:15.099897Z",
     "shell.execute_reply": "2021-10-12T16:26:15.100425Z",
     "shell.execute_reply.started": "2021-10-12T16:10:28.603902Z"
    },
    "papermill": {
     "duration": 0.473955,
     "end_time": "2021-10-12T16:26:15.100601",
     "exception": false,
     "start_time": "2021-10-12T16:26:14.626646",
     "status": "completed"
    },
    "tags": []
   },
   "outputs": [
    {
     "name": "stdout",
     "output_type": "stream",
     "text": [
      "Тестовый датасет:  (36349, 18)\n"
     ]
    },
    {
     "data": {
      "text/html": [
       "<div>\n",
       "<style scoped>\n",
       "    .dataframe tbody tr th:only-of-type {\n",
       "        vertical-align: middle;\n",
       "    }\n",
       "\n",
       "    .dataframe tbody tr th {\n",
       "        vertical-align: top;\n",
       "    }\n",
       "\n",
       "    .dataframe thead th {\n",
       "        text-align: right;\n",
       "    }\n",
       "</style>\n",
       "<table border=\"1\" class=\"dataframe\">\n",
       "  <thead>\n",
       "    <tr style=\"text-align: right;\">\n",
       "      <th></th>\n",
       "      <th>client_id</th>\n",
       "      <th>app_date</th>\n",
       "      <th>education</th>\n",
       "      <th>sex</th>\n",
       "      <th>age</th>\n",
       "      <th>car</th>\n",
       "      <th>car_type</th>\n",
       "      <th>decline_app_cnt</th>\n",
       "      <th>good_work</th>\n",
       "      <th>score_bki</th>\n",
       "      <th>bki_request_cnt</th>\n",
       "      <th>region_rating</th>\n",
       "      <th>home_address</th>\n",
       "      <th>work_address</th>\n",
       "      <th>income</th>\n",
       "      <th>sna</th>\n",
       "      <th>first_time</th>\n",
       "      <th>foreign_passport</th>\n",
       "    </tr>\n",
       "  </thead>\n",
       "  <tbody>\n",
       "    <tr>\n",
       "      <th>0</th>\n",
       "      <td>74835</td>\n",
       "      <td>22MAR2014</td>\n",
       "      <td>GRD</td>\n",
       "      <td>M</td>\n",
       "      <td>29</td>\n",
       "      <td>Y</td>\n",
       "      <td>Y</td>\n",
       "      <td>0</td>\n",
       "      <td>0</td>\n",
       "      <td>-2.271884</td>\n",
       "      <td>3</td>\n",
       "      <td>50</td>\n",
       "      <td>1</td>\n",
       "      <td>2</td>\n",
       "      <td>50000</td>\n",
       "      <td>1</td>\n",
       "      <td>4</td>\n",
       "      <td>N</td>\n",
       "    </tr>\n",
       "    <tr>\n",
       "      <th>1</th>\n",
       "      <td>17527</td>\n",
       "      <td>24JAN2014</td>\n",
       "      <td>SCH</td>\n",
       "      <td>F</td>\n",
       "      <td>39</td>\n",
       "      <td>N</td>\n",
       "      <td>N</td>\n",
       "      <td>5</td>\n",
       "      <td>0</td>\n",
       "      <td>-1.504999</td>\n",
       "      <td>2</td>\n",
       "      <td>50</td>\n",
       "      <td>1</td>\n",
       "      <td>2</td>\n",
       "      <td>5000</td>\n",
       "      <td>4</td>\n",
       "      <td>3</td>\n",
       "      <td>N</td>\n",
       "    </tr>\n",
       "    <tr>\n",
       "      <th>2</th>\n",
       "      <td>75683</td>\n",
       "      <td>23MAR2014</td>\n",
       "      <td>UGR</td>\n",
       "      <td>M</td>\n",
       "      <td>50</td>\n",
       "      <td>Y</td>\n",
       "      <td>Y</td>\n",
       "      <td>0</td>\n",
       "      <td>0</td>\n",
       "      <td>-1.691339</td>\n",
       "      <td>1</td>\n",
       "      <td>50</td>\n",
       "      <td>1</td>\n",
       "      <td>2</td>\n",
       "      <td>30000</td>\n",
       "      <td>1</td>\n",
       "      <td>3</td>\n",
       "      <td>Y</td>\n",
       "    </tr>\n",
       "    <tr>\n",
       "      <th>3</th>\n",
       "      <td>26883</td>\n",
       "      <td>03FEB2014</td>\n",
       "      <td>SCH</td>\n",
       "      <td>M</td>\n",
       "      <td>56</td>\n",
       "      <td>N</td>\n",
       "      <td>N</td>\n",
       "      <td>0</td>\n",
       "      <td>0</td>\n",
       "      <td>-2.374182</td>\n",
       "      <td>1</td>\n",
       "      <td>40</td>\n",
       "      <td>1</td>\n",
       "      <td>2</td>\n",
       "      <td>17000</td>\n",
       "      <td>1</td>\n",
       "      <td>3</td>\n",
       "      <td>N</td>\n",
       "    </tr>\n",
       "    <tr>\n",
       "      <th>4</th>\n",
       "      <td>28862</td>\n",
       "      <td>04FEB2014</td>\n",
       "      <td>GRD</td>\n",
       "      <td>F</td>\n",
       "      <td>38</td>\n",
       "      <td>N</td>\n",
       "      <td>N</td>\n",
       "      <td>0</td>\n",
       "      <td>0</td>\n",
       "      <td>-2.487502</td>\n",
       "      <td>0</td>\n",
       "      <td>80</td>\n",
       "      <td>2</td>\n",
       "      <td>3</td>\n",
       "      <td>120000</td>\n",
       "      <td>1</td>\n",
       "      <td>3</td>\n",
       "      <td>N</td>\n",
       "    </tr>\n",
       "  </tbody>\n",
       "</table>\n",
       "</div>"
      ],
      "text/plain": [
       "   client_id   app_date education sex  age car car_type  decline_app_cnt  \\\n",
       "0      74835  22MAR2014       GRD   M   29   Y        Y                0   \n",
       "1      17527  24JAN2014       SCH   F   39   N        N                5   \n",
       "2      75683  23MAR2014       UGR   M   50   Y        Y                0   \n",
       "3      26883  03FEB2014       SCH   M   56   N        N                0   \n",
       "4      28862  04FEB2014       GRD   F   38   N        N                0   \n",
       "\n",
       "   good_work  score_bki  bki_request_cnt  region_rating  home_address  \\\n",
       "0          0  -2.271884                3             50             1   \n",
       "1          0  -1.504999                2             50             1   \n",
       "2          0  -1.691339                1             50             1   \n",
       "3          0  -2.374182                1             40             1   \n",
       "4          0  -2.487502                0             80             2   \n",
       "\n",
       "   work_address  income  sna  first_time foreign_passport  \n",
       "0             2   50000    1           4                N  \n",
       "1             2    5000    4           3                N  \n",
       "2             2   30000    1           3                Y  \n",
       "3             2   17000    1           3                N  \n",
       "4             3  120000    1           3                N  "
      ]
     },
     "metadata": {},
     "output_type": "display_data"
    },
    {
     "name": "stdout",
     "output_type": "stream",
     "text": [
      "Тренировочный датасет:  (73799, 19)\n"
     ]
    },
    {
     "data": {
      "text/html": [
       "<div>\n",
       "<style scoped>\n",
       "    .dataframe tbody tr th:only-of-type {\n",
       "        vertical-align: middle;\n",
       "    }\n",
       "\n",
       "    .dataframe tbody tr th {\n",
       "        vertical-align: top;\n",
       "    }\n",
       "\n",
       "    .dataframe thead th {\n",
       "        text-align: right;\n",
       "    }\n",
       "</style>\n",
       "<table border=\"1\" class=\"dataframe\">\n",
       "  <thead>\n",
       "    <tr style=\"text-align: right;\">\n",
       "      <th></th>\n",
       "      <th>client_id</th>\n",
       "      <th>app_date</th>\n",
       "      <th>education</th>\n",
       "      <th>sex</th>\n",
       "      <th>age</th>\n",
       "      <th>car</th>\n",
       "      <th>car_type</th>\n",
       "      <th>decline_app_cnt</th>\n",
       "      <th>good_work</th>\n",
       "      <th>score_bki</th>\n",
       "      <th>bki_request_cnt</th>\n",
       "      <th>region_rating</th>\n",
       "      <th>home_address</th>\n",
       "      <th>work_address</th>\n",
       "      <th>income</th>\n",
       "      <th>sna</th>\n",
       "      <th>first_time</th>\n",
       "      <th>foreign_passport</th>\n",
       "      <th>default</th>\n",
       "    </tr>\n",
       "  </thead>\n",
       "  <tbody>\n",
       "    <tr>\n",
       "      <th>0</th>\n",
       "      <td>25905</td>\n",
       "      <td>01FEB2014</td>\n",
       "      <td>SCH</td>\n",
       "      <td>M</td>\n",
       "      <td>62</td>\n",
       "      <td>Y</td>\n",
       "      <td>Y</td>\n",
       "      <td>0</td>\n",
       "      <td>0</td>\n",
       "      <td>-2.008753</td>\n",
       "      <td>1</td>\n",
       "      <td>50</td>\n",
       "      <td>1</td>\n",
       "      <td>2</td>\n",
       "      <td>18000</td>\n",
       "      <td>4</td>\n",
       "      <td>1</td>\n",
       "      <td>N</td>\n",
       "      <td>0</td>\n",
       "    </tr>\n",
       "    <tr>\n",
       "      <th>1</th>\n",
       "      <td>63161</td>\n",
       "      <td>12MAR2014</td>\n",
       "      <td>SCH</td>\n",
       "      <td>F</td>\n",
       "      <td>59</td>\n",
       "      <td>N</td>\n",
       "      <td>N</td>\n",
       "      <td>0</td>\n",
       "      <td>0</td>\n",
       "      <td>-1.532276</td>\n",
       "      <td>3</td>\n",
       "      <td>50</td>\n",
       "      <td>2</td>\n",
       "      <td>3</td>\n",
       "      <td>19000</td>\n",
       "      <td>4</td>\n",
       "      <td>1</td>\n",
       "      <td>N</td>\n",
       "      <td>0</td>\n",
       "    </tr>\n",
       "    <tr>\n",
       "      <th>2</th>\n",
       "      <td>25887</td>\n",
       "      <td>01FEB2014</td>\n",
       "      <td>SCH</td>\n",
       "      <td>M</td>\n",
       "      <td>25</td>\n",
       "      <td>Y</td>\n",
       "      <td>N</td>\n",
       "      <td>2</td>\n",
       "      <td>0</td>\n",
       "      <td>-1.408142</td>\n",
       "      <td>1</td>\n",
       "      <td>80</td>\n",
       "      <td>1</td>\n",
       "      <td>2</td>\n",
       "      <td>30000</td>\n",
       "      <td>1</td>\n",
       "      <td>4</td>\n",
       "      <td>Y</td>\n",
       "      <td>0</td>\n",
       "    </tr>\n",
       "    <tr>\n",
       "      <th>3</th>\n",
       "      <td>16222</td>\n",
       "      <td>23JAN2014</td>\n",
       "      <td>SCH</td>\n",
       "      <td>F</td>\n",
       "      <td>53</td>\n",
       "      <td>N</td>\n",
       "      <td>N</td>\n",
       "      <td>0</td>\n",
       "      <td>0</td>\n",
       "      <td>-2.057471</td>\n",
       "      <td>2</td>\n",
       "      <td>50</td>\n",
       "      <td>2</td>\n",
       "      <td>3</td>\n",
       "      <td>10000</td>\n",
       "      <td>1</td>\n",
       "      <td>3</td>\n",
       "      <td>N</td>\n",
       "      <td>0</td>\n",
       "    </tr>\n",
       "    <tr>\n",
       "      <th>4</th>\n",
       "      <td>101655</td>\n",
       "      <td>18APR2014</td>\n",
       "      <td>GRD</td>\n",
       "      <td>M</td>\n",
       "      <td>48</td>\n",
       "      <td>N</td>\n",
       "      <td>N</td>\n",
       "      <td>0</td>\n",
       "      <td>1</td>\n",
       "      <td>-1.244723</td>\n",
       "      <td>1</td>\n",
       "      <td>60</td>\n",
       "      <td>2</td>\n",
       "      <td>3</td>\n",
       "      <td>30000</td>\n",
       "      <td>1</td>\n",
       "      <td>4</td>\n",
       "      <td>Y</td>\n",
       "      <td>0</td>\n",
       "    </tr>\n",
       "  </tbody>\n",
       "</table>\n",
       "</div>"
      ],
      "text/plain": [
       "   client_id   app_date education sex  age car car_type  decline_app_cnt  \\\n",
       "0      25905  01FEB2014       SCH   M   62   Y        Y                0   \n",
       "1      63161  12MAR2014       SCH   F   59   N        N                0   \n",
       "2      25887  01FEB2014       SCH   M   25   Y        N                2   \n",
       "3      16222  23JAN2014       SCH   F   53   N        N                0   \n",
       "4     101655  18APR2014       GRD   M   48   N        N                0   \n",
       "\n",
       "   good_work  score_bki  bki_request_cnt  region_rating  home_address  \\\n",
       "0          0  -2.008753                1             50             1   \n",
       "1          0  -1.532276                3             50             2   \n",
       "2          0  -1.408142                1             80             1   \n",
       "3          0  -2.057471                2             50             2   \n",
       "4          1  -1.244723                1             60             2   \n",
       "\n",
       "   work_address  income  sna  first_time foreign_passport  default  \n",
       "0             2   18000    4           1                N        0  \n",
       "1             3   19000    4           1                N        0  \n",
       "2             2   30000    1           4                Y        0  \n",
       "3             3   10000    1           3                N        0  \n",
       "4             3   30000    1           4                Y        0  "
      ]
     },
     "metadata": {},
     "output_type": "display_data"
    }
   ],
   "source": [
    "train = pd.read_csv('/kaggle/input/sf-dst-scoring/train.csv')\n",
    "test = pd.read_csv('/kaggle/input/sf-dst-scoring/test.csv')\n",
    "pd.set_option('display.max_columns', None)\n",
    "print('Тестовый датасет: ', test.shape)\n",
    "display(test.head())\n",
    "print('Тренировочный датасет: ', train.shape)\n",
    "display(train.head())"
   ]
  },
  {
   "cell_type": "markdown",
   "id": "b93c99c8",
   "metadata": {
    "papermill": {
     "duration": 0.066387,
     "end_time": "2021-10-12T16:26:15.237893",
     "exception": false,
     "start_time": "2021-10-12T16:26:15.171506",
     "status": "completed"
    },
    "tags": []
   },
   "source": [
    "#### Объединение тренировочного и тестового датасетов."
   ]
  },
  {
   "cell_type": "code",
   "execution_count": 4,
   "id": "72ae23dd",
   "metadata": {
    "execution": {
     "iopub.execute_input": "2021-10-12T16:26:15.380056Z",
     "iopub.status.busy": "2021-10-12T16:26:15.379272Z",
     "iopub.status.idle": "2021-10-12T16:26:15.491022Z",
     "shell.execute_reply": "2021-10-12T16:26:15.490496Z",
     "shell.execute_reply.started": "2021-10-12T16:10:28.854333Z"
    },
    "papermill": {
     "duration": 0.183822,
     "end_time": "2021-10-12T16:26:15.491193",
     "exception": false,
     "start_time": "2021-10-12T16:26:15.307371",
     "status": "completed"
    },
    "tags": []
   },
   "outputs": [
    {
     "data": {
      "text/html": [
       "<div>\n",
       "<style scoped>\n",
       "    .dataframe tbody tr th:only-of-type {\n",
       "        vertical-align: middle;\n",
       "    }\n",
       "\n",
       "    .dataframe tbody tr th {\n",
       "        vertical-align: top;\n",
       "    }\n",
       "\n",
       "    .dataframe thead th {\n",
       "        text-align: right;\n",
       "    }\n",
       "</style>\n",
       "<table border=\"1\" class=\"dataframe\">\n",
       "  <thead>\n",
       "    <tr style=\"text-align: right;\">\n",
       "      <th></th>\n",
       "      <th>client_id</th>\n",
       "      <th>app_date</th>\n",
       "      <th>education</th>\n",
       "      <th>sex</th>\n",
       "      <th>age</th>\n",
       "      <th>car</th>\n",
       "      <th>car_type</th>\n",
       "      <th>decline_app_cnt</th>\n",
       "      <th>good_work</th>\n",
       "      <th>score_bki</th>\n",
       "      <th>bki_request_cnt</th>\n",
       "      <th>region_rating</th>\n",
       "      <th>home_address</th>\n",
       "      <th>work_address</th>\n",
       "      <th>income</th>\n",
       "      <th>sna</th>\n",
       "      <th>first_time</th>\n",
       "      <th>foreign_passport</th>\n",
       "      <th>default</th>\n",
       "      <th>Train</th>\n",
       "    </tr>\n",
       "  </thead>\n",
       "  <tbody>\n",
       "    <tr>\n",
       "      <th>0</th>\n",
       "      <td>25905</td>\n",
       "      <td>01FEB2014</td>\n",
       "      <td>SCH</td>\n",
       "      <td>M</td>\n",
       "      <td>62</td>\n",
       "      <td>Y</td>\n",
       "      <td>Y</td>\n",
       "      <td>0</td>\n",
       "      <td>0</td>\n",
       "      <td>-2.008753</td>\n",
       "      <td>1</td>\n",
       "      <td>50</td>\n",
       "      <td>1</td>\n",
       "      <td>2</td>\n",
       "      <td>18000</td>\n",
       "      <td>4</td>\n",
       "      <td>1</td>\n",
       "      <td>N</td>\n",
       "      <td>0.0</td>\n",
       "      <td>1</td>\n",
       "    </tr>\n",
       "    <tr>\n",
       "      <th>1</th>\n",
       "      <td>63161</td>\n",
       "      <td>12MAR2014</td>\n",
       "      <td>SCH</td>\n",
       "      <td>F</td>\n",
       "      <td>59</td>\n",
       "      <td>N</td>\n",
       "      <td>N</td>\n",
       "      <td>0</td>\n",
       "      <td>0</td>\n",
       "      <td>-1.532276</td>\n",
       "      <td>3</td>\n",
       "      <td>50</td>\n",
       "      <td>2</td>\n",
       "      <td>3</td>\n",
       "      <td>19000</td>\n",
       "      <td>4</td>\n",
       "      <td>1</td>\n",
       "      <td>N</td>\n",
       "      <td>0.0</td>\n",
       "      <td>1</td>\n",
       "    </tr>\n",
       "    <tr>\n",
       "      <th>2</th>\n",
       "      <td>25887</td>\n",
       "      <td>01FEB2014</td>\n",
       "      <td>SCH</td>\n",
       "      <td>M</td>\n",
       "      <td>25</td>\n",
       "      <td>Y</td>\n",
       "      <td>N</td>\n",
       "      <td>2</td>\n",
       "      <td>0</td>\n",
       "      <td>-1.408142</td>\n",
       "      <td>1</td>\n",
       "      <td>80</td>\n",
       "      <td>1</td>\n",
       "      <td>2</td>\n",
       "      <td>30000</td>\n",
       "      <td>1</td>\n",
       "      <td>4</td>\n",
       "      <td>Y</td>\n",
       "      <td>0.0</td>\n",
       "      <td>1</td>\n",
       "    </tr>\n",
       "    <tr>\n",
       "      <th>3</th>\n",
       "      <td>16222</td>\n",
       "      <td>23JAN2014</td>\n",
       "      <td>SCH</td>\n",
       "      <td>F</td>\n",
       "      <td>53</td>\n",
       "      <td>N</td>\n",
       "      <td>N</td>\n",
       "      <td>0</td>\n",
       "      <td>0</td>\n",
       "      <td>-2.057471</td>\n",
       "      <td>2</td>\n",
       "      <td>50</td>\n",
       "      <td>2</td>\n",
       "      <td>3</td>\n",
       "      <td>10000</td>\n",
       "      <td>1</td>\n",
       "      <td>3</td>\n",
       "      <td>N</td>\n",
       "      <td>0.0</td>\n",
       "      <td>1</td>\n",
       "    </tr>\n",
       "    <tr>\n",
       "      <th>4</th>\n",
       "      <td>101655</td>\n",
       "      <td>18APR2014</td>\n",
       "      <td>GRD</td>\n",
       "      <td>M</td>\n",
       "      <td>48</td>\n",
       "      <td>N</td>\n",
       "      <td>N</td>\n",
       "      <td>0</td>\n",
       "      <td>1</td>\n",
       "      <td>-1.244723</td>\n",
       "      <td>1</td>\n",
       "      <td>60</td>\n",
       "      <td>2</td>\n",
       "      <td>3</td>\n",
       "      <td>30000</td>\n",
       "      <td>1</td>\n",
       "      <td>4</td>\n",
       "      <td>Y</td>\n",
       "      <td>0.0</td>\n",
       "      <td>1</td>\n",
       "    </tr>\n",
       "    <tr>\n",
       "      <th>...</th>\n",
       "      <td>...</td>\n",
       "      <td>...</td>\n",
       "      <td>...</td>\n",
       "      <td>...</td>\n",
       "      <td>...</td>\n",
       "      <td>...</td>\n",
       "      <td>...</td>\n",
       "      <td>...</td>\n",
       "      <td>...</td>\n",
       "      <td>...</td>\n",
       "      <td>...</td>\n",
       "      <td>...</td>\n",
       "      <td>...</td>\n",
       "      <td>...</td>\n",
       "      <td>...</td>\n",
       "      <td>...</td>\n",
       "      <td>...</td>\n",
       "      <td>...</td>\n",
       "      <td>...</td>\n",
       "      <td>...</td>\n",
       "    </tr>\n",
       "    <tr>\n",
       "      <th>110143</th>\n",
       "      <td>83775</td>\n",
       "      <td>31MAR2014</td>\n",
       "      <td>SCH</td>\n",
       "      <td>F</td>\n",
       "      <td>37</td>\n",
       "      <td>N</td>\n",
       "      <td>N</td>\n",
       "      <td>1</td>\n",
       "      <td>0</td>\n",
       "      <td>-1.744976</td>\n",
       "      <td>3</td>\n",
       "      <td>50</td>\n",
       "      <td>2</td>\n",
       "      <td>3</td>\n",
       "      <td>15000</td>\n",
       "      <td>4</td>\n",
       "      <td>1</td>\n",
       "      <td>N</td>\n",
       "      <td>NaN</td>\n",
       "      <td>0</td>\n",
       "    </tr>\n",
       "    <tr>\n",
       "      <th>110144</th>\n",
       "      <td>106254</td>\n",
       "      <td>25APR2014</td>\n",
       "      <td>GRD</td>\n",
       "      <td>F</td>\n",
       "      <td>64</td>\n",
       "      <td>Y</td>\n",
       "      <td>Y</td>\n",
       "      <td>0</td>\n",
       "      <td>0</td>\n",
       "      <td>-2.293781</td>\n",
       "      <td>3</td>\n",
       "      <td>60</td>\n",
       "      <td>1</td>\n",
       "      <td>2</td>\n",
       "      <td>200000</td>\n",
       "      <td>1</td>\n",
       "      <td>4</td>\n",
       "      <td>N</td>\n",
       "      <td>NaN</td>\n",
       "      <td>0</td>\n",
       "    </tr>\n",
       "    <tr>\n",
       "      <th>110145</th>\n",
       "      <td>81852</td>\n",
       "      <td>30MAR2014</td>\n",
       "      <td>GRD</td>\n",
       "      <td>M</td>\n",
       "      <td>31</td>\n",
       "      <td>N</td>\n",
       "      <td>N</td>\n",
       "      <td>2</td>\n",
       "      <td>0</td>\n",
       "      <td>-0.940752</td>\n",
       "      <td>1</td>\n",
       "      <td>50</td>\n",
       "      <td>1</td>\n",
       "      <td>2</td>\n",
       "      <td>60000</td>\n",
       "      <td>4</td>\n",
       "      <td>2</td>\n",
       "      <td>N</td>\n",
       "      <td>NaN</td>\n",
       "      <td>0</td>\n",
       "    </tr>\n",
       "    <tr>\n",
       "      <th>110146</th>\n",
       "      <td>1971</td>\n",
       "      <td>07JAN2014</td>\n",
       "      <td>UGR</td>\n",
       "      <td>F</td>\n",
       "      <td>27</td>\n",
       "      <td>N</td>\n",
       "      <td>N</td>\n",
       "      <td>1</td>\n",
       "      <td>0</td>\n",
       "      <td>-1.242392</td>\n",
       "      <td>2</td>\n",
       "      <td>80</td>\n",
       "      <td>2</td>\n",
       "      <td>3</td>\n",
       "      <td>30000</td>\n",
       "      <td>1</td>\n",
       "      <td>1</td>\n",
       "      <td>N</td>\n",
       "      <td>NaN</td>\n",
       "      <td>0</td>\n",
       "    </tr>\n",
       "    <tr>\n",
       "      <th>110147</th>\n",
       "      <td>69044</td>\n",
       "      <td>17MAR2014</td>\n",
       "      <td>SCH</td>\n",
       "      <td>M</td>\n",
       "      <td>38</td>\n",
       "      <td>N</td>\n",
       "      <td>N</td>\n",
       "      <td>0</td>\n",
       "      <td>0</td>\n",
       "      <td>-1.507549</td>\n",
       "      <td>2</td>\n",
       "      <td>50</td>\n",
       "      <td>1</td>\n",
       "      <td>2</td>\n",
       "      <td>15000</td>\n",
       "      <td>4</td>\n",
       "      <td>2</td>\n",
       "      <td>N</td>\n",
       "      <td>NaN</td>\n",
       "      <td>0</td>\n",
       "    </tr>\n",
       "  </tbody>\n",
       "</table>\n",
       "<p>110148 rows × 20 columns</p>\n",
       "</div>"
      ],
      "text/plain": [
       "        client_id   app_date education sex  age car car_type  decline_app_cnt  \\\n",
       "0           25905  01FEB2014       SCH   M   62   Y        Y                0   \n",
       "1           63161  12MAR2014       SCH   F   59   N        N                0   \n",
       "2           25887  01FEB2014       SCH   M   25   Y        N                2   \n",
       "3           16222  23JAN2014       SCH   F   53   N        N                0   \n",
       "4          101655  18APR2014       GRD   M   48   N        N                0   \n",
       "...           ...        ...       ...  ..  ...  ..      ...              ...   \n",
       "110143      83775  31MAR2014       SCH   F   37   N        N                1   \n",
       "110144     106254  25APR2014       GRD   F   64   Y        Y                0   \n",
       "110145      81852  30MAR2014       GRD   M   31   N        N                2   \n",
       "110146       1971  07JAN2014       UGR   F   27   N        N                1   \n",
       "110147      69044  17MAR2014       SCH   M   38   N        N                0   \n",
       "\n",
       "        good_work  score_bki  bki_request_cnt  region_rating  home_address  \\\n",
       "0               0  -2.008753                1             50             1   \n",
       "1               0  -1.532276                3             50             2   \n",
       "2               0  -1.408142                1             80             1   \n",
       "3               0  -2.057471                2             50             2   \n",
       "4               1  -1.244723                1             60             2   \n",
       "...           ...        ...              ...            ...           ...   \n",
       "110143          0  -1.744976                3             50             2   \n",
       "110144          0  -2.293781                3             60             1   \n",
       "110145          0  -0.940752                1             50             1   \n",
       "110146          0  -1.242392                2             80             2   \n",
       "110147          0  -1.507549                2             50             1   \n",
       "\n",
       "        work_address  income  sna  first_time foreign_passport  default  Train  \n",
       "0                  2   18000    4           1                N      0.0      1  \n",
       "1                  3   19000    4           1                N      0.0      1  \n",
       "2                  2   30000    1           4                Y      0.0      1  \n",
       "3                  3   10000    1           3                N      0.0      1  \n",
       "4                  3   30000    1           4                Y      0.0      1  \n",
       "...              ...     ...  ...         ...              ...      ...    ...  \n",
       "110143             3   15000    4           1                N      NaN      0  \n",
       "110144             2  200000    1           4                N      NaN      0  \n",
       "110145             2   60000    4           2                N      NaN      0  \n",
       "110146             3   30000    1           1                N      NaN      0  \n",
       "110147             2   15000    4           2                N      NaN      0  \n",
       "\n",
       "[110148 rows x 20 columns]"
      ]
     },
     "execution_count": 4,
     "metadata": {},
     "output_type": "execute_result"
    }
   ],
   "source": [
    "train['Train'] = 1\n",
    "test['Train'] = 0  \n",
    "data = train.append(test, sort=False).reset_index(drop=True) \n",
    "data"
   ]
  },
  {
   "cell_type": "code",
   "execution_count": 5,
   "id": "1222a849",
   "metadata": {
    "execution": {
     "iopub.execute_input": "2021-10-12T16:26:15.704722Z",
     "iopub.status.busy": "2021-10-12T16:26:15.632948Z",
     "iopub.status.idle": "2021-10-12T16:26:15.723772Z",
     "shell.execute_reply": "2021-10-12T16:26:15.724352Z",
     "shell.execute_reply.started": "2021-10-12T16:10:28.936082Z"
    },
    "papermill": {
     "duration": 0.164546,
     "end_time": "2021-10-12T16:26:15.724538",
     "exception": false,
     "start_time": "2021-10-12T16:26:15.559992",
     "status": "completed"
    },
    "tags": []
   },
   "outputs": [
    {
     "name": "stdout",
     "output_type": "stream",
     "text": [
      "<class 'pandas.core.frame.DataFrame'>\n",
      "RangeIndex: 110148 entries, 0 to 110147\n",
      "Data columns (total 20 columns):\n",
      " #   Column            Non-Null Count   Dtype  \n",
      "---  ------            --------------   -----  \n",
      " 0   client_id         110148 non-null  int64  \n",
      " 1   app_date          110148 non-null  object \n",
      " 2   education         109670 non-null  object \n",
      " 3   sex               110148 non-null  object \n",
      " 4   age               110148 non-null  int64  \n",
      " 5   car               110148 non-null  object \n",
      " 6   car_type          110148 non-null  object \n",
      " 7   decline_app_cnt   110148 non-null  int64  \n",
      " 8   good_work         110148 non-null  int64  \n",
      " 9   score_bki         110148 non-null  float64\n",
      " 10  bki_request_cnt   110148 non-null  int64  \n",
      " 11  region_rating     110148 non-null  int64  \n",
      " 12  home_address      110148 non-null  int64  \n",
      " 13  work_address      110148 non-null  int64  \n",
      " 14  income            110148 non-null  int64  \n",
      " 15  sna               110148 non-null  int64  \n",
      " 16  first_time        110148 non-null  int64  \n",
      " 17  foreign_passport  110148 non-null  object \n",
      " 18  default           73799 non-null   float64\n",
      " 19  Train             110148 non-null  int64  \n",
      "dtypes: float64(2), int64(12), object(6)\n",
      "memory usage: 16.8+ MB\n"
     ]
    }
   ],
   "source": [
    "data.info()"
   ]
  },
  {
   "cell_type": "code",
   "execution_count": 6,
   "id": "13b6b2e0",
   "metadata": {
    "execution": {
     "iopub.execute_input": "2021-10-12T16:26:15.937071Z",
     "iopub.status.busy": "2021-10-12T16:26:15.936392Z",
     "iopub.status.idle": "2021-10-12T16:26:15.945371Z",
     "shell.execute_reply": "2021-10-12T16:26:15.946007Z",
     "shell.execute_reply.started": "2021-10-12T16:10:29.029334Z"
    },
    "papermill": {
     "duration": 0.153807,
     "end_time": "2021-10-12T16:26:15.946230",
     "exception": false,
     "start_time": "2021-10-12T16:26:15.792423",
     "status": "completed"
    },
    "tags": []
   },
   "outputs": [
    {
     "data": {
      "text/plain": [
       "client_id               0\n",
       "app_date                0\n",
       "education             478\n",
       "sex                     0\n",
       "age                     0\n",
       "car                     0\n",
       "car_type                0\n",
       "decline_app_cnt         0\n",
       "good_work               0\n",
       "score_bki               0\n",
       "bki_request_cnt         0\n",
       "region_rating           0\n",
       "home_address            0\n",
       "work_address            0\n",
       "income                  0\n",
       "sna                     0\n",
       "first_time              0\n",
       "foreign_passport        0\n",
       "default             36349\n",
       "Train                   0\n",
       "dtype: int64"
      ]
     },
     "execution_count": 6,
     "metadata": {},
     "output_type": "execute_result"
    }
   ],
   "source": [
    "data.isna().sum()"
   ]
  },
  {
   "cell_type": "markdown",
   "id": "0278ee40",
   "metadata": {
    "papermill": {
     "duration": 0.070562,
     "end_time": "2021-10-12T16:26:16.086620",
     "exception": false,
     "start_time": "2021-10-12T16:26:16.016058",
     "status": "completed"
    },
    "tags": []
   },
   "source": [
    "    client_id - идентификатор клиента банка\n",
    "    education - уровень образования клиента банка\n",
    "    sex - пол клиента банка\n",
    "    age - возраст клиента банка\n",
    "    car - наличие автомобиля\n",
    "    car_type - наличие автомобиля иномарки\n",
    "    decline_app_cnt - количество отказов\n",
    "    good_work - есть ли у клиента банка достойная работа\n",
    "    bki_request_cnt - количество запросов в БКИ\n",
    "    home_address - домашний адрес\n",
    "    work_address - рабочий адрес\n",
    "    income - доход клиента банка\n",
    "    foreign_passport - наличие паспорта у клиента банка\n",
    "    default - дефолт по кредиту\n",
    "    app_date - дата подачи заявки\n",
    "    score_bki - скоринговый балл по данным из БКИ\n",
    "    region_rating - рейтинг региона\n",
    "    sna - связь клиента банка с кредитом с клиентами банка\n",
    "    first_time - когда была получена информация о клиенте банка"
   ]
  },
  {
   "cell_type": "markdown",
   "id": "e9d2e39d",
   "metadata": {
    "papermill": {
     "duration": 0.066715,
     "end_time": "2021-10-12T16:26:16.221271",
     "exception": false,
     "start_time": "2021-10-12T16:26:16.154556",
     "status": "completed"
    },
    "tags": []
   },
   "source": [
    "**Промежуточный итог**"
   ]
  },
  {
   "cell_type": "markdown",
   "id": "77730447",
   "metadata": {
    "papermill": {
     "duration": 0.06904,
     "end_time": "2021-10-12T16:26:16.358099",
     "exception": false,
     "start_time": "2021-10-12T16:26:16.289059",
     "status": "completed"
    },
    "tags": []
   },
   "source": [
    "Тренировочный датасет содержит - 73799 записей.\n",
    "Тестовый датасет содержит -      36349 записей.\n",
    "Число всех записей -             110148 записей.\n",
    "Признаков - 19. 5 бинарных, 5 числовых, 6 категориальных, 1 временной.\n",
    "Пропусков - 478. Все пропуски находятся в одной переменной \"education\""
   ]
  },
  {
   "cell_type": "markdown",
   "id": "7ad89489",
   "metadata": {
    "papermill": {
     "duration": 0.069667,
     "end_time": "2021-10-12T16:26:16.495438",
     "exception": false,
     "start_time": "2021-10-12T16:26:16.425771",
     "status": "completed"
    },
    "tags": []
   },
   "source": [
    "#### Целевые переменные"
   ]
  },
  {
   "cell_type": "code",
   "execution_count": 7,
   "id": "475d68ed",
   "metadata": {
    "execution": {
     "iopub.execute_input": "2021-10-12T16:26:16.634706Z",
     "iopub.status.busy": "2021-10-12T16:26:16.633939Z",
     "iopub.status.idle": "2021-10-12T16:26:16.890914Z",
     "shell.execute_reply": "2021-10-12T16:26:16.891408Z",
     "shell.execute_reply.started": "2021-10-12T16:10:29.115742Z"
    },
    "papermill": {
     "duration": 0.328037,
     "end_time": "2021-10-12T16:26:16.891622",
     "exception": false,
     "start_time": "2021-10-12T16:26:16.563585",
     "status": "completed"
    },
    "tags": []
   },
   "outputs": [
    {
     "data": {
      "text/plain": [
       "<AxesSubplot:>"
      ]
     },
     "execution_count": 7,
     "metadata": {},
     "output_type": "execute_result"
    },
    {
     "data": {
      "image/png": "[encoded data removed]",
      "text/plain": [
       "<Figure size 432x288 with 1 Axes>"
      ]
     },
     "metadata": {
      "needs_background": "light"
     },
     "output_type": "display_data"
    }
   ],
   "source": [
    "train['default'].value_counts().plot.bar()"
   ]
  },
  {
   "cell_type": "markdown",
   "id": "6d6c56cd",
   "metadata": {
    "papermill": {
     "duration": 0.068728,
     "end_time": "2021-10-12T16:26:17.029497",
     "exception": false,
     "start_time": "2021-10-12T16:26:16.960769",
     "status": "completed"
    },
    "tags": []
   },
   "source": [
    "Недефолтный клиентов банка больше чем дефолтных."
   ]
  },
  {
   "cell_type": "code",
   "execution_count": 8,
   "id": "37c7b5e6",
   "metadata": {
    "execution": {
     "iopub.execute_input": "2021-10-12T16:26:17.175520Z",
     "iopub.status.busy": "2021-10-12T16:26:17.174806Z",
     "iopub.status.idle": "2021-10-12T16:26:17.179783Z",
     "shell.execute_reply": "2021-10-12T16:26:17.180350Z",
     "shell.execute_reply.started": "2021-10-12T16:10:29.327714Z"
    },
    "papermill": {
     "duration": 0.078542,
     "end_time": "2021-10-12T16:26:17.180539",
     "exception": false,
     "start_time": "2021-10-12T16:26:17.101997",
     "status": "completed"
    },
    "tags": []
   },
   "outputs": [],
   "source": [
    "time_p = ['app_date'] # временной признак - 1\n",
    "numeral_p = ['age', 'decline_app_cnt', 'score_bki', 'bki_request_cnt', 'income'] # числовой признак - 5\n",
    "binar_p = ['sex', 'car', 'car_type', 'good_work', 'foreign_passport'] # бинарный признак - 5\n",
    "categoral_p = ['education', 'region_rating','home_address', 'work_address', 'sna', 'first_time'] # категоральный признак - 6"
   ]
  },
  {
   "cell_type": "markdown",
   "id": "c9426bb1",
   "metadata": {
    "papermill": {
     "duration": 0.069772,
     "end_time": "2021-10-12T16:26:17.318549",
     "exception": false,
     "start_time": "2021-10-12T16:26:17.248777",
     "status": "completed"
    },
    "tags": []
   },
   "source": [
    "#### Числовые признаки"
   ]
  },
  {
   "cell_type": "markdown",
   "id": "8218743d",
   "metadata": {
    "papermill": {
     "duration": 0.067574,
     "end_time": "2021-10-12T16:26:17.455377",
     "exception": false,
     "start_time": "2021-10-12T16:26:17.387803",
     "status": "completed"
    },
    "tags": []
   },
   "source": [
    "**decline_app_cnt**"
   ]
  },
  {
   "cell_type": "code",
   "execution_count": 9,
   "id": "634611e5",
   "metadata": {
    "execution": {
     "iopub.execute_input": "2021-10-12T16:26:17.596283Z",
     "iopub.status.busy": "2021-10-12T16:26:17.595531Z",
     "iopub.status.idle": "2021-10-12T16:26:18.931856Z",
     "shell.execute_reply": "2021-10-12T16:26:18.931178Z",
     "shell.execute_reply.started": "2021-10-12T16:10:29.336087Z"
    },
    "papermill": {
     "duration": 1.408353,
     "end_time": "2021-10-12T16:26:18.932017",
     "exception": false,
     "start_time": "2021-10-12T16:26:17.523664",
     "status": "completed"
    },
    "tags": []
   },
   "outputs": [
    {
     "data": {
      "image/png": "[encoded data removed]",
      "text/plain": [
       "<Figure size 1008x288 with 4 Axes>"
      ]
     },
     "metadata": {
      "needs_background": "light"
     },
     "output_type": "display_data"
    }
   ],
   "source": [
    "numeral('decline_app_cnt')"
   ]
  },
  {
   "cell_type": "markdown",
   "id": "d8d6d25b",
   "metadata": {
    "papermill": {
     "duration": 0.07278,
     "end_time": "2021-10-12T16:26:19.076884",
     "exception": false,
     "start_time": "2021-10-12T16:26:19.004104",
     "status": "completed"
    },
    "tags": []
   },
   "source": [
    "Выбросов много.\n",
    "Распределение логнормальное.\n",
    "Дефолтные клиенты банка имеют больше отказов в заявках."
   ]
  },
  {
   "cell_type": "markdown",
   "id": "bc46b6dc",
   "metadata": {
    "papermill": {
     "duration": 0.072162,
     "end_time": "2021-10-12T16:26:19.219457",
     "exception": false,
     "start_time": "2021-10-12T16:26:19.147295",
     "status": "completed"
    },
    "tags": []
   },
   "source": [
    "**age**"
   ]
  },
  {
   "cell_type": "code",
   "execution_count": 10,
   "id": "469517e8",
   "metadata": {
    "execution": {
     "iopub.execute_input": "2021-10-12T16:26:19.366484Z",
     "iopub.status.busy": "2021-10-12T16:26:19.365726Z",
     "iopub.status.idle": "2021-10-12T16:26:20.930034Z",
     "shell.execute_reply": "2021-10-12T16:26:20.930542Z",
     "shell.execute_reply.started": "2021-10-12T16:10:30.583083Z"
    },
    "papermill": {
     "duration": 1.641219,
     "end_time": "2021-10-12T16:26:20.930743",
     "exception": false,
     "start_time": "2021-10-12T16:26:19.289524",
     "status": "completed"
    },
    "tags": []
   },
   "outputs": [
    {
     "data": {
      "image/png": "[encoded data removed]",
      "text/plain": [
       "<Figure size 1008x288 with 4 Axes>"
      ]
     },
     "metadata": {
      "needs_background": "light"
     },
     "output_type": "display_data"
    }
   ],
   "source": [
    "numeral('age')"
   ]
  },
  {
   "cell_type": "markdown",
   "id": "07d25c65",
   "metadata": {
    "papermill": {
     "duration": 0.07591,
     "end_time": "2021-10-12T16:26:21.079750",
     "exception": false,
     "start_time": "2021-10-12T16:26:21.003840",
     "status": "completed"
    },
    "tags": []
   },
   "source": [
    "Выбросов нет.\n",
    "Распредленеие логнормальное.\n",
    "Дефолтные клиенты банка относятся к молодому возрасту."
   ]
  },
  {
   "cell_type": "code",
   "execution_count": 11,
   "id": "c3daac4b",
   "metadata": {
    "execution": {
     "iopub.execute_input": "2021-10-12T16:26:21.231233Z",
     "iopub.status.busy": "2021-10-12T16:26:21.230526Z",
     "iopub.status.idle": "2021-10-12T16:26:21.902532Z",
     "shell.execute_reply": "2021-10-12T16:26:21.901908Z",
     "shell.execute_reply.started": "2021-10-12T16:10:32.463888Z"
    },
    "papermill": {
     "duration": 0.746187,
     "end_time": "2021-10-12T16:26:21.902684",
     "exception": false,
     "start_time": "2021-10-12T16:26:21.156497",
     "status": "completed"
    },
    "tags": []
   },
   "outputs": [
    {
     "data": {
      "image/png": "[encoded data removed]",
      "text/plain": [
       "<Figure size 1008x288 with 2 Axes>"
      ]
     },
     "metadata": {
      "needs_background": "light"
     },
     "output_type": "display_data"
    }
   ],
   "source": [
    "data['decline_app_cnt'] = np.log(data['decline_app_cnt'] + 1)\n",
    "numeral_prolog('decline_app_cnt')"
   ]
  },
  {
   "cell_type": "markdown",
   "id": "981d67e3",
   "metadata": {
    "papermill": {
     "duration": 0.072563,
     "end_time": "2021-10-12T16:26:22.047270",
     "exception": false,
     "start_time": "2021-10-12T16:26:21.974707",
     "status": "completed"
    },
    "tags": []
   },
   "source": [
    "**score_bki**"
   ]
  },
  {
   "cell_type": "code",
   "execution_count": 12,
   "id": "ec7b4a96",
   "metadata": {
    "execution": {
     "iopub.execute_input": "2021-10-12T16:26:22.196364Z",
     "iopub.status.busy": "2021-10-12T16:26:22.195686Z",
     "iopub.status.idle": "2021-10-12T16:26:24.719767Z",
     "shell.execute_reply": "2021-10-12T16:26:24.719220Z",
     "shell.execute_reply.started": "2021-10-12T16:10:33.163778Z"
    },
    "papermill": {
     "duration": 2.600054,
     "end_time": "2021-10-12T16:26:24.719920",
     "exception": false,
     "start_time": "2021-10-12T16:26:22.119866",
     "status": "completed"
    },
    "tags": []
   },
   "outputs": [
    {
     "data": {
      "image/png": "[encoded data removed]",
      "text/plain": [
       "<Figure size 1008x288 with 4 Axes>"
      ]
     },
     "metadata": {
      "needs_background": "light"
     },
     "output_type": "display_data"
    }
   ],
   "source": [
    "numeral('score_bki')"
   ]
  },
  {
   "cell_type": "markdown",
   "id": "d1bbc974",
   "metadata": {
    "papermill": {
     "duration": 0.078442,
     "end_time": "2021-10-12T16:26:24.883214",
     "exception": false,
     "start_time": "2021-10-12T16:26:24.804772",
     "status": "completed"
    },
    "tags": []
   },
   "source": [
    "Распредление нормальное.\n",
    "Выбросов мало.\n",
    "Скорр балл выше у дефолтных клиентов банка."
   ]
  },
  {
   "cell_type": "markdown",
   "id": "ca7d9282",
   "metadata": {
    "papermill": {
     "duration": 0.077986,
     "end_time": "2021-10-12T16:26:25.040860",
     "exception": false,
     "start_time": "2021-10-12T16:26:24.962874",
     "status": "completed"
    },
    "tags": []
   },
   "source": [
    "**bki_request_cnt**"
   ]
  },
  {
   "cell_type": "code",
   "execution_count": 13,
   "id": "6af4b189",
   "metadata": {
    "execution": {
     "iopub.execute_input": "2021-10-12T16:26:25.230647Z",
     "iopub.status.busy": "2021-10-12T16:26:25.229955Z",
     "iopub.status.idle": "2021-10-12T16:26:30.996287Z",
     "shell.execute_reply": "2021-10-12T16:26:30.996800Z",
     "shell.execute_reply.started": "2021-10-12T16:10:35.798150Z"
    },
    "papermill": {
     "duration": 5.875923,
     "end_time": "2021-10-12T16:26:30.996995",
     "exception": false,
     "start_time": "2021-10-12T16:26:25.121072",
     "status": "completed"
    },
    "tags": []
   },
   "outputs": [
    {
     "data": {
      "image/png": "[encoded data removed]",
      "text/plain": [
       "<Figure size 1008x288 with 4 Axes>"
      ]
     },
     "metadata": {
      "needs_background": "light"
     },
     "output_type": "display_data"
    }
   ],
   "source": [
    "numeral('bki_request_cnt')"
   ]
  },
  {
   "cell_type": "markdown",
   "id": "aa4ce5a8",
   "metadata": {
    "papermill": {
     "duration": 0.079727,
     "end_time": "2021-10-12T16:26:31.153089",
     "exception": false,
     "start_time": "2021-10-12T16:26:31.073362",
     "status": "completed"
    },
    "tags": []
   },
   "source": [
    "Распределение логнормальное.\n",
    "Много выборосов."
   ]
  },
  {
   "cell_type": "code",
   "execution_count": 14,
   "id": "ca01cddf",
   "metadata": {
    "execution": {
     "iopub.execute_input": "2021-10-12T16:26:31.312186Z",
     "iopub.status.busy": "2021-10-12T16:26:31.311481Z",
     "iopub.status.idle": "2021-10-12T16:26:32.229539Z",
     "shell.execute_reply": "2021-10-12T16:26:32.228893Z",
     "shell.execute_reply.started": "2021-10-12T16:10:41.443340Z"
    },
    "papermill": {
     "duration": 0.997607,
     "end_time": "2021-10-12T16:26:32.229683",
     "exception": false,
     "start_time": "2021-10-12T16:26:31.232076",
     "status": "completed"
    },
    "tags": []
   },
   "outputs": [
    {
     "data": {
      "image/png": "[encoded data removed]",
      "text/plain": [
       "<Figure size 1008x288 with 2 Axes>"
      ]
     },
     "metadata": {
      "needs_background": "light"
     },
     "output_type": "display_data"
    }
   ],
   "source": [
    "data['bki_request_cnt'] = np.log(data['bki_request_cnt'] + 1)\n",
    "numeral_prolog('bki_request_cnt')"
   ]
  },
  {
   "cell_type": "markdown",
   "id": "c61776d7",
   "metadata": {
    "papermill": {
     "duration": 0.078469,
     "end_time": "2021-10-12T16:26:32.385396",
     "exception": false,
     "start_time": "2021-10-12T16:26:32.306927",
     "status": "completed"
    },
    "tags": []
   },
   "source": [
    "**income**"
   ]
  },
  {
   "cell_type": "code",
   "execution_count": 15,
   "id": "3cd2271d",
   "metadata": {
    "execution": {
     "iopub.execute_input": "2021-10-12T16:26:32.568346Z",
     "iopub.status.busy": "2021-10-12T16:26:32.560053Z",
     "iopub.status.idle": "2021-10-12T16:26:42.836345Z",
     "shell.execute_reply": "2021-10-12T16:26:42.837115Z",
     "shell.execute_reply.started": "2021-10-12T16:10:42.388960Z"
    },
    "papermill": {
     "duration": 10.373094,
     "end_time": "2021-10-12T16:26:42.837382",
     "exception": false,
     "start_time": "2021-10-12T16:26:32.464288",
     "status": "completed"
    },
    "tags": []
   },
   "outputs": [
    {
     "data": {
      "image/png": "[encoded data removed]",
      "text/plain": [
       "<Figure size 1008x288 with 4 Axes>"
      ]
     },
     "metadata": {
      "needs_background": "light"
     },
     "output_type": "display_data"
    }
   ],
   "source": [
    "numeral('income')"
   ]
  },
  {
   "cell_type": "markdown",
   "id": "7903a34f",
   "metadata": {
    "papermill": {
     "duration": 0.080563,
     "end_time": "2021-10-12T16:26:43.003566",
     "exception": false,
     "start_time": "2021-10-12T16:26:42.923003",
     "status": "completed"
    },
    "tags": []
   },
   "source": [
    "Распределение логнормальное.\n",
    "Выбросов много.\n",
    "Клиенты с дефолтом имеют низкий доход."
   ]
  },
  {
   "cell_type": "code",
   "execution_count": 16,
   "id": "0b5debb8",
   "metadata": {
    "execution": {
     "iopub.execute_input": "2021-10-12T16:26:43.172294Z",
     "iopub.status.busy": "2021-10-12T16:26:43.171283Z",
     "iopub.status.idle": "2021-10-12T16:26:44.755853Z",
     "shell.execute_reply": "2021-10-12T16:26:44.756382Z",
     "shell.execute_reply.started": "2021-10-12T16:10:53.207099Z"
    },
    "papermill": {
     "duration": 1.673466,
     "end_time": "2021-10-12T16:26:44.756579",
     "exception": false,
     "start_time": "2021-10-12T16:26:43.083113",
     "status": "completed"
    },
    "tags": []
   },
   "outputs": [
    {
     "data": {
      "image/png": "[encoded data removed]",
      "text/plain": [
       "<Figure size 1008x288 with 2 Axes>"
      ]
     },
     "metadata": {
      "needs_background": "light"
     },
     "output_type": "display_data"
    }
   ],
   "source": [
    "data['income'] = np.log(data['income'] + 1)\n",
    "numeral_prolog('income')"
   ]
  },
  {
   "cell_type": "markdown",
   "id": "180e1d55",
   "metadata": {
    "papermill": {
     "duration": 0.082577,
     "end_time": "2021-10-12T16:26:44.920948",
     "exception": false,
     "start_time": "2021-10-12T16:26:44.838371",
     "status": "completed"
    },
    "tags": []
   },
   "source": [
    "#### Категоральные признаки"
   ]
  },
  {
   "cell_type": "markdown",
   "id": "8221a7ac",
   "metadata": {
    "papermill": {
     "duration": 0.079752,
     "end_time": "2021-10-12T16:26:45.081611",
     "exception": false,
     "start_time": "2021-10-12T16:26:45.001859",
     "status": "completed"
    },
    "tags": []
   },
   "source": [
    "**education**"
   ]
  },
  {
   "cell_type": "markdown",
   "id": "5317a1e7",
   "metadata": {
    "papermill": {
     "duration": 0.079195,
     "end_time": "2021-10-12T16:26:45.240237",
     "exception": false,
     "start_time": "2021-10-12T16:26:45.161042",
     "status": "completed"
    },
    "tags": []
   },
   "source": [
    "Как мы помним в этом признаке у нас есть пропуски, поэтому заменим пропуски на те что встречаются чаще значения."
   ]
  },
  {
   "cell_type": "code",
   "execution_count": 17,
   "id": "ea5c4d9c",
   "metadata": {
    "execution": {
     "iopub.execute_input": "2021-10-12T16:26:45.405227Z",
     "iopub.status.busy": "2021-10-12T16:26:45.404568Z",
     "iopub.status.idle": "2021-10-12T16:26:45.429048Z",
     "shell.execute_reply": "2021-10-12T16:26:45.429627Z",
     "shell.execute_reply.started": "2021-10-12T16:10:54.817780Z"
    },
    "papermill": {
     "duration": 0.109199,
     "end_time": "2021-10-12T16:26:45.429823",
     "exception": false,
     "start_time": "2021-10-12T16:26:45.320624",
     "status": "completed"
    },
    "tags": []
   },
   "outputs": [
    {
     "data": {
      "text/plain": [
       "SCH    57998\n",
       "GRD    34768\n",
       "UGR    14748\n",
       "PGR     1865\n",
       "ACD      291\n",
       "Name: education, dtype: int64"
      ]
     },
     "execution_count": 17,
     "metadata": {},
     "output_type": "execute_result"
    }
   ],
   "source": [
    "data['education'].value_counts()"
   ]
  },
  {
   "cell_type": "markdown",
   "id": "a677ee72",
   "metadata": {
    "papermill": {
     "duration": 0.08039,
     "end_time": "2021-10-12T16:26:45.592964",
     "exception": false,
     "start_time": "2021-10-12T16:26:45.512574",
     "status": "completed"
    },
    "tags": []
   },
   "source": [
    "Частое значение это SCH. Заполняем."
   ]
  },
  {
   "cell_type": "code",
   "execution_count": 18,
   "id": "f5422bd1",
   "metadata": {
    "execution": {
     "iopub.execute_input": "2021-10-12T16:26:45.759429Z",
     "iopub.status.busy": "2021-10-12T16:26:45.758721Z",
     "iopub.status.idle": "2021-10-12T16:26:46.532674Z",
     "shell.execute_reply": "2021-10-12T16:26:46.532087Z",
     "shell.execute_reply.started": "2021-10-12T16:10:54.845301Z"
    },
    "papermill": {
     "duration": 0.859488,
     "end_time": "2021-10-12T16:26:46.532835",
     "exception": false,
     "start_time": "2021-10-12T16:26:45.673347",
     "status": "completed"
    },
    "tags": []
   },
   "outputs": [
    {
     "data": {
      "image/png": "[encoded data removed]",
      "text/plain": [
       "<Figure size 1008x288 with 1 Axes>"
      ]
     },
     "metadata": {
      "needs_background": "light"
     },
     "output_type": "display_data"
    },
    {
     "data": {
      "image/png": "[encoded data removed]",
      "text/plain": [
       "<Figure size 432x288 with 1 Axes>"
      ]
     },
     "metadata": {
      "needs_background": "light"
     },
     "output_type": "display_data"
    }
   ],
   "source": [
    "data['education'] = data['education'].fillna('SCH')\n",
    "categoral('education')"
   ]
  },
  {
   "cell_type": "markdown",
   "id": "7a13ef68",
   "metadata": {
    "papermill": {
     "duration": 0.084349,
     "end_time": "2021-10-12T16:26:46.699820",
     "exception": false,
     "start_time": "2021-10-12T16:26:46.615471",
     "status": "completed"
    },
    "tags": []
   },
   "source": [
    "Самые ненадежные банковские клиенты - учащиеся.\n",
    "Менее ненадежные банковские клиенты - окончившие школу.\n",
    "Надёжные - получающие высшее образование.\n",
    "Самые надёжные - со степенями."
   ]
  },
  {
   "cell_type": "markdown",
   "id": "2b68cd3a",
   "metadata": {
    "papermill": {
     "duration": 0.08628,
     "end_time": "2021-10-12T16:26:46.873277",
     "exception": false,
     "start_time": "2021-10-12T16:26:46.786997",
     "status": "completed"
    },
    "tags": []
   },
   "source": [
    "**home_address**"
   ]
  },
  {
   "cell_type": "code",
   "execution_count": 19,
   "id": "b20f9488",
   "metadata": {
    "execution": {
     "iopub.execute_input": "2021-10-12T16:26:47.054383Z",
     "iopub.status.busy": "2021-10-12T16:26:47.053630Z",
     "iopub.status.idle": "2021-10-12T16:26:47.900071Z",
     "shell.execute_reply": "2021-10-12T16:26:47.900662Z",
     "shell.execute_reply.started": "2021-10-12T16:10:55.627193Z"
    },
    "papermill": {
     "duration": 0.93642,
     "end_time": "2021-10-12T16:26:47.900840",
     "exception": false,
     "start_time": "2021-10-12T16:26:46.964420",
     "status": "completed"
    },
    "tags": []
   },
   "outputs": [
    {
     "data": {
      "image/png": "[encoded data removed]",
      "text/plain": [
       "<Figure size 1008x288 with 1 Axes>"
      ]
     },
     "metadata": {
      "needs_background": "light"
     },
     "output_type": "display_data"
    },
    {
     "data": {
      "image/png": "[encoded data removed]",
      "text/plain": [
       "<Figure size 432x288 with 1 Axes>"
      ]
     },
     "metadata": {
      "needs_background": "light"
     },
     "output_type": "display_data"
    }
   ],
   "source": [
    "categoral('home_address')"
   ]
  },
  {
   "cell_type": "markdown",
   "id": "9dce4ea3",
   "metadata": {
    "papermill": {
     "duration": 0.088723,
     "end_time": "2021-10-12T16:26:48.076654",
     "exception": false,
     "start_time": "2021-10-12T16:26:47.987931",
     "status": "completed"
    },
    "tags": []
   },
   "source": [
    "Большая масса клиентов банка расположена в категориях 1 и 2. Разница между ними небольшая."
   ]
  },
  {
   "cell_type": "markdown",
   "id": "060c2af2",
   "metadata": {
    "papermill": {
     "duration": 0.088187,
     "end_time": "2021-10-12T16:26:48.250702",
     "exception": false,
     "start_time": "2021-10-12T16:26:48.162515",
     "status": "completed"
    },
    "tags": []
   },
   "source": [
    "**region_rating**"
   ]
  },
  {
   "cell_type": "code",
   "execution_count": 20,
   "id": "8a6cb6e2",
   "metadata": {
    "execution": {
     "iopub.execute_input": "2021-10-12T16:26:48.423909Z",
     "iopub.status.busy": "2021-10-12T16:26:48.423183Z",
     "iopub.status.idle": "2021-10-12T16:26:49.101935Z",
     "shell.execute_reply": "2021-10-12T16:26:49.102435Z",
     "shell.execute_reply.started": "2021-10-12T16:10:56.196879Z"
    },
    "papermill": {
     "duration": 0.767554,
     "end_time": "2021-10-12T16:26:49.102620",
     "exception": false,
     "start_time": "2021-10-12T16:26:48.335066",
     "status": "completed"
    },
    "tags": []
   },
   "outputs": [
    {
     "data": {
      "image/png": "[encoded data removed]",
      "text/plain": [
       "<Figure size 1008x288 with 1 Axes>"
      ]
     },
     "metadata": {
      "needs_background": "light"
     },
     "output_type": "display_data"
    },
    {
     "data": {
      "image/png": "[encoded data removed]",
      "text/plain": [
       "<Figure size 432x288 with 1 Axes>"
      ]
     },
     "metadata": {
      "needs_background": "light"
     },
     "output_type": "display_data"
    }
   ],
   "source": [
    "categoral('region_rating')"
   ]
  },
  {
   "cell_type": "markdown",
   "id": "d36ad9f8",
   "metadata": {
    "papermill": {
     "duration": 0.087239,
     "end_time": "2021-10-12T16:26:49.276288",
     "exception": false,
     "start_time": "2021-10-12T16:26:49.189049",
     "status": "completed"
    },
    "tags": []
   },
   "source": [
    "Чем выше рейтинг региона тем уменьшается сильнее число дефолтных клиентов."
   ]
  },
  {
   "cell_type": "markdown",
   "id": "65f245d8",
   "metadata": {
    "papermill": {
     "duration": 0.08606,
     "end_time": "2021-10-12T16:26:49.449064",
     "exception": false,
     "start_time": "2021-10-12T16:26:49.363004",
     "status": "completed"
    },
    "tags": []
   },
   "source": [
    "**work_address**"
   ]
  },
  {
   "cell_type": "code",
   "execution_count": 21,
   "id": "e9ebac70",
   "metadata": {
    "execution": {
     "iopub.execute_input": "2021-10-12T16:26:49.625178Z",
     "iopub.status.busy": "2021-10-12T16:26:49.624506Z",
     "iopub.status.idle": "2021-10-12T16:26:50.185674Z",
     "shell.execute_reply": "2021-10-12T16:26:50.186202Z",
     "shell.execute_reply.started": "2021-10-12T16:10:56.904939Z"
    },
    "papermill": {
     "duration": 0.651091,
     "end_time": "2021-10-12T16:26:50.186371",
     "exception": false,
     "start_time": "2021-10-12T16:26:49.535280",
     "status": "completed"
    },
    "tags": []
   },
   "outputs": [
    {
     "data": {
      "image/png": "[encoded data removed]",
      "text/plain": [
       "<Figure size 1008x288 with 1 Axes>"
      ]
     },
     "metadata": {
      "needs_background": "light"
     },
     "output_type": "display_data"
    },
    {
     "data": {
      "image/png": "[encoded data removed]",
      "text/plain": [
       "<Figure size 432x288 with 1 Axes>"
      ]
     },
     "metadata": {
      "needs_background": "light"
     },
     "output_type": "display_data"
    }
   ],
   "source": [
    "categoral('work_address')"
   ]
  },
  {
   "cell_type": "markdown",
   "id": "18ed58e8",
   "metadata": {
    "papermill": {
     "duration": 0.087502,
     "end_time": "2021-10-12T16:26:50.361978",
     "exception": false,
     "start_time": "2021-10-12T16:26:50.274476",
     "status": "completed"
    },
    "tags": []
   },
   "source": [
    "**first_time**"
   ]
  },
  {
   "cell_type": "code",
   "execution_count": 22,
   "id": "83e67717",
   "metadata": {
    "execution": {
     "iopub.execute_input": "2021-10-12T16:26:50.597644Z",
     "iopub.status.busy": "2021-10-12T16:26:50.596988Z",
     "iopub.status.idle": "2021-10-12T16:26:51.161745Z",
     "shell.execute_reply": "2021-10-12T16:26:51.160829Z",
     "shell.execute_reply.started": "2021-10-12T16:10:57.501510Z"
    },
    "papermill": {
     "duration": 0.655997,
     "end_time": "2021-10-12T16:26:51.161916",
     "exception": false,
     "start_time": "2021-10-12T16:26:50.505919",
     "status": "completed"
    },
    "tags": []
   },
   "outputs": [
    {
     "data": {
      "image/png": "[encoded data removed]",
      "text/plain": [
       "<Figure size 1008x288 with 1 Axes>"
      ]
     },
     "metadata": {
      "needs_background": "light"
     },
     "output_type": "display_data"
    },
    {
     "data": {
      "image/png": "[encoded data removed]",
      "text/plain": [
       "<Figure size 432x288 with 1 Axes>"
      ]
     },
     "metadata": {
      "needs_background": "light"
     },
     "output_type": "display_data"
    }
   ],
   "source": [
    "categoral('first_time')"
   ]
  },
  {
   "cell_type": "markdown",
   "id": "5fb6683c",
   "metadata": {
    "papermill": {
     "duration": 0.089659,
     "end_time": "2021-10-12T16:26:51.343471",
     "exception": false,
     "start_time": "2021-10-12T16:26:51.253812",
     "status": "completed"
    },
    "tags": []
   },
   "source": [
    "Чем ниже признак - тем выше число дефолтных клиентов банка."
   ]
  },
  {
   "cell_type": "markdown",
   "id": "240354d7",
   "metadata": {
    "papermill": {
     "duration": 0.089706,
     "end_time": "2021-10-12T16:26:51.527203",
     "exception": false,
     "start_time": "2021-10-12T16:26:51.437497",
     "status": "completed"
    },
    "tags": []
   },
   "source": [
    "**sna**"
   ]
  },
  {
   "cell_type": "code",
   "execution_count": 23,
   "id": "c0bb10e7",
   "metadata": {
    "execution": {
     "iopub.execute_input": "2021-10-12T16:26:51.736622Z",
     "iopub.status.busy": "2021-10-12T16:26:51.735881Z",
     "iopub.status.idle": "2021-10-12T16:26:52.298394Z",
     "shell.execute_reply": "2021-10-12T16:26:52.297699Z",
     "shell.execute_reply.started": "2021-10-12T16:10:58.073086Z"
    },
    "papermill": {
     "duration": 0.679964,
     "end_time": "2021-10-12T16:26:52.298538",
     "exception": false,
     "start_time": "2021-10-12T16:26:51.618574",
     "status": "completed"
    },
    "tags": []
   },
   "outputs": [
    {
     "data": {
      "image/png": "[encoded data removed]",
      "text/plain": [
       "<Figure size 1008x288 with 1 Axes>"
      ]
     },
     "metadata": {
      "needs_background": "light"
     },
     "output_type": "display_data"
    },
    {
     "data": {
      "image/png": "[encoded data removed]",
      "text/plain": [
       "<Figure size 432x288 with 1 Axes>"
      ]
     },
     "metadata": {
      "needs_background": "light"
     },
     "output_type": "display_data"
    }
   ],
   "source": [
    "categoral('sna')"
   ]
  },
  {
   "cell_type": "markdown",
   "id": "233f617e",
   "metadata": {
    "papermill": {
     "duration": 0.091648,
     "end_time": "2021-10-12T16:26:52.482700",
     "exception": false,
     "start_time": "2021-10-12T16:26:52.391052",
     "status": "completed"
    },
    "tags": []
   },
   "source": [
    "Чем выше признак - тем выше число дефолтных клиентов."
   ]
  },
  {
   "cell_type": "markdown",
   "id": "243eab47",
   "metadata": {
    "papermill": {
     "duration": 0.091618,
     "end_time": "2021-10-12T16:26:52.666556",
     "exception": false,
     "start_time": "2021-10-12T16:26:52.574938",
     "status": "completed"
    },
    "tags": []
   },
   "source": [
    "**sex**"
   ]
  },
  {
   "cell_type": "code",
   "execution_count": 24,
   "id": "c24a25c1",
   "metadata": {
    "execution": {
     "iopub.execute_input": "2021-10-12T16:26:52.854989Z",
     "iopub.status.busy": "2021-10-12T16:26:52.854239Z",
     "iopub.status.idle": "2021-10-12T16:26:53.488838Z",
     "shell.execute_reply": "2021-10-12T16:26:53.488193Z",
     "shell.execute_reply.started": "2021-10-12T16:10:58.620642Z"
    },
    "papermill": {
     "duration": 0.730439,
     "end_time": "2021-10-12T16:26:53.488981",
     "exception": false,
     "start_time": "2021-10-12T16:26:52.758542",
     "status": "completed"
    },
    "tags": []
   },
   "outputs": [
    {
     "data": {
      "image/png": "[encoded data removed]",
      "text/plain": [
       "<Figure size 1008x288 with 1 Axes>"
      ]
     },
     "metadata": {
      "needs_background": "light"
     },
     "output_type": "display_data"
    },
    {
     "data": {
      "image/png": "[encoded data removed]",
      "text/plain": [
       "<Figure size 432x288 with 1 Axes>"
      ]
     },
     "metadata": {
      "needs_background": "light"
     },
     "output_type": "display_data"
    }
   ],
   "source": [
    "categoral('sex')"
   ]
  },
  {
   "cell_type": "markdown",
   "id": "ceaf2ad9",
   "metadata": {
    "papermill": {
     "duration": 0.095634,
     "end_time": "2021-10-12T16:26:53.679189",
     "exception": false,
     "start_time": "2021-10-12T16:26:53.583555",
     "status": "completed"
    },
    "tags": []
   },
   "source": [
    "В датасете число женщин клиентов банка больше чем мужчин клиентов банка на 1\\4. Число дефолтных клиентов и там и там почти равно."
   ]
  },
  {
   "cell_type": "markdown",
   "id": "fc739af7",
   "metadata": {
    "papermill": {
     "duration": 0.09536,
     "end_time": "2021-10-12T16:26:53.869437",
     "exception": false,
     "start_time": "2021-10-12T16:26:53.774077",
     "status": "completed"
    },
    "tags": []
   },
   "source": [
    "**car**"
   ]
  },
  {
   "cell_type": "code",
   "execution_count": 25,
   "id": "b14125a3",
   "metadata": {
    "execution": {
     "iopub.execute_input": "2021-10-12T16:26:54.081124Z",
     "iopub.status.busy": "2021-10-12T16:26:54.077654Z",
     "iopub.status.idle": "2021-10-12T16:26:54.687572Z",
     "shell.execute_reply": "2021-10-12T16:26:54.687006Z",
     "shell.execute_reply.started": "2021-10-12T16:10:59.279508Z"
    },
    "papermill": {
     "duration": 0.722791,
     "end_time": "2021-10-12T16:26:54.687716",
     "exception": false,
     "start_time": "2021-10-12T16:26:53.964925",
     "status": "completed"
    },
    "tags": []
   },
   "outputs": [
    {
     "data": {
      "image/png": "[encoded data removed]",
      "text/plain": [
       "<Figure size 1008x288 with 1 Axes>"
      ]
     },
     "metadata": {
      "needs_background": "light"
     },
     "output_type": "display_data"
    },
    {
     "data": {
      "image/png": "[encoded data removed]",
      "text/plain": [
       "<Figure size 432x288 with 1 Axes>"
      ]
     },
     "metadata": {
      "needs_background": "light"
     },
     "output_type": "display_data"
    }
   ],
   "source": [
    "categoral('car')"
   ]
  },
  {
   "cell_type": "markdown",
   "id": "2b996f04",
   "metadata": {
    "papermill": {
     "duration": 0.09831,
     "end_time": "2021-10-12T16:26:54.883286",
     "exception": false,
     "start_time": "2021-10-12T16:26:54.784976",
     "status": "completed"
    },
    "tags": []
   },
   "source": [
    "Клиенты банка с автомобилем куда надёжнее тех у кого их нет."
   ]
  },
  {
   "cell_type": "markdown",
   "id": "08f37711",
   "metadata": {
    "papermill": {
     "duration": 0.096311,
     "end_time": "2021-10-12T16:26:55.081275",
     "exception": false,
     "start_time": "2021-10-12T16:26:54.984964",
     "status": "completed"
    },
    "tags": []
   },
   "source": [
    "**car_type**"
   ]
  },
  {
   "cell_type": "code",
   "execution_count": 26,
   "id": "0d36f4eb",
   "metadata": {
    "execution": {
     "iopub.execute_input": "2021-10-12T16:26:55.352556Z",
     "iopub.status.busy": "2021-10-12T16:26:55.334972Z",
     "iopub.status.idle": "2021-10-12T16:26:55.883946Z",
     "shell.execute_reply": "2021-10-12T16:26:55.883354Z",
     "shell.execute_reply.started": "2021-10-12T16:11:00.443367Z"
    },
    "papermill": {
     "duration": 0.704818,
     "end_time": "2021-10-12T16:26:55.884090",
     "exception": false,
     "start_time": "2021-10-12T16:26:55.179272",
     "status": "completed"
    },
    "tags": []
   },
   "outputs": [
    {
     "data": {
      "image/png": "[encoded data removed]",
      "text/plain": [
       "<Figure size 1008x288 with 1 Axes>"
      ]
     },
     "metadata": {
      "needs_background": "light"
     },
     "output_type": "display_data"
    },
    {
     "data": {
      "image/png": "[encoded data removed]",
      "text/plain": [
       "<Figure size 432x288 with 1 Axes>"
      ]
     },
     "metadata": {
      "needs_background": "light"
     },
     "output_type": "display_data"
    }
   ],
   "source": [
    "categoral('car_type')"
   ]
  },
  {
   "cell_type": "markdown",
   "id": "fee2a1a4",
   "metadata": {
    "papermill": {
     "duration": 0.100311,
     "end_time": "2021-10-12T16:26:56.082373",
     "exception": false,
     "start_time": "2021-10-12T16:26:55.982062",
     "status": "completed"
    },
    "tags": []
   },
   "source": [
    "Клиенты банка с иномаркой более надёжные."
   ]
  },
  {
   "cell_type": "markdown",
   "id": "a7b9c20c",
   "metadata": {
    "papermill": {
     "duration": 0.099819,
     "end_time": "2021-10-12T16:26:56.279639",
     "exception": false,
     "start_time": "2021-10-12T16:26:56.179820",
     "status": "completed"
    },
    "tags": []
   },
   "source": [
    "**foreign_passport**"
   ]
  },
  {
   "cell_type": "code",
   "execution_count": 27,
   "id": "6f6ebb43",
   "metadata": {
    "execution": {
     "iopub.execute_input": "2021-10-12T16:26:56.711250Z",
     "iopub.status.busy": "2021-10-12T16:26:56.689657Z",
     "iopub.status.idle": "2021-10-12T16:26:57.253848Z",
     "shell.execute_reply": "2021-10-12T16:26:57.252947Z",
     "shell.execute_reply.started": "2021-10-12T16:11:00.951724Z"
    },
    "papermill": {
     "duration": 0.874893,
     "end_time": "2021-10-12T16:26:57.253999",
     "exception": false,
     "start_time": "2021-10-12T16:26:56.379106",
     "status": "completed"
    },
    "tags": []
   },
   "outputs": [
    {
     "data": {
      "image/png": "[encoded data removed]",
      "text/plain": [
       "<Figure size 1008x288 with 1 Axes>"
      ]
     },
     "metadata": {
      "needs_background": "light"
     },
     "output_type": "display_data"
    },
    {
     "data": {
      "image/png": "[encoded data removed]",
      "text/plain": [
       "<Figure size 432x288 with 1 Axes>"
      ]
     },
     "metadata": {
      "needs_background": "light"
     },
     "output_type": "display_data"
    }
   ],
   "source": [
    "categoral('foreign_passport')"
   ]
  },
  {
   "cell_type": "markdown",
   "id": "8de38fc2",
   "metadata": {
    "papermill": {
     "duration": 0.101682,
     "end_time": "2021-10-12T16:26:57.456430",
     "exception": false,
     "start_time": "2021-10-12T16:26:57.354748",
     "status": "completed"
    },
    "tags": []
   },
   "source": [
    "У тех клиентов банка, у которых есть загранпаспорт число кредитов меньше. Процент возврата кредита больше."
   ]
  },
  {
   "cell_type": "markdown",
   "id": "98fa3046",
   "metadata": {
    "papermill": {
     "duration": 0.099208,
     "end_time": "2021-10-12T16:26:57.655736",
     "exception": false,
     "start_time": "2021-10-12T16:26:57.556528",
     "status": "completed"
    },
    "tags": []
   },
   "source": [
    "**good_work**"
   ]
  },
  {
   "cell_type": "code",
   "execution_count": 28,
   "id": "0b793903",
   "metadata": {
    "execution": {
     "iopub.execute_input": "2021-10-12T16:26:57.858761Z",
     "iopub.status.busy": "2021-10-12T16:26:57.858057Z",
     "iopub.status.idle": "2021-10-12T16:26:58.353978Z",
     "shell.execute_reply": "2021-10-12T16:26:58.353441Z",
     "shell.execute_reply.started": "2021-10-12T16:11:01.480634Z"
    },
    "papermill": {
     "duration": 0.59951,
     "end_time": "2021-10-12T16:26:58.354129",
     "exception": false,
     "start_time": "2021-10-12T16:26:57.754619",
     "status": "completed"
    },
    "tags": []
   },
   "outputs": [
    {
     "data": {
      "image/png": "[encoded data removed]",
      "text/plain": [
       "<Figure size 1008x288 with 1 Axes>"
      ]
     },
     "metadata": {
      "needs_background": "light"
     },
     "output_type": "display_data"
    },
    {
     "data": {
      "image/png": "[encoded data removed]",
      "text/plain": [
       "<Figure size 432x288 with 1 Axes>"
      ]
     },
     "metadata": {
      "needs_background": "light"
     },
     "output_type": "display_data"
    }
   ],
   "source": [
    "categoral('good_work')"
   ]
  },
  {
   "cell_type": "markdown",
   "id": "9b76a342",
   "metadata": {
    "papermill": {
     "duration": 0.104099,
     "end_time": "2021-10-12T16:26:58.561386",
     "exception": false,
     "start_time": "2021-10-12T16:26:58.457287",
     "status": "completed"
    },
    "tags": []
   },
   "source": [
    "Клиенты банка, у которых качественная и хорошая работа мало. Такие клиенты реже уходят в дефолт."
   ]
  },
  {
   "cell_type": "markdown",
   "id": "9702a22b",
   "metadata": {
    "papermill": {
     "duration": 0.104913,
     "end_time": "2021-10-12T16:26:58.768600",
     "exception": false,
     "start_time": "2021-10-12T16:26:58.663687",
     "status": "completed"
    },
    "tags": []
   },
   "source": [
    "**app_date**"
   ]
  },
  {
   "cell_type": "code",
   "execution_count": 29,
   "id": "7ab543bf",
   "metadata": {
    "execution": {
     "iopub.execute_input": "2021-10-12T16:26:58.977953Z",
     "iopub.status.busy": "2021-10-12T16:26:58.977300Z",
     "iopub.status.idle": "2021-10-12T16:26:59.016722Z",
     "shell.execute_reply": "2021-10-12T16:26:59.017521Z",
     "shell.execute_reply.started": "2021-10-12T16:11:01.884600Z"
    },
    "papermill": {
     "duration": 0.146217,
     "end_time": "2021-10-12T16:26:59.017770",
     "exception": false,
     "start_time": "2021-10-12T16:26:58.871553",
     "status": "completed"
    },
    "tags": []
   },
   "outputs": [
    {
     "name": "stdout",
     "output_type": "stream",
     "text": [
      "2014-01-01 00:00:00 2014-04-30 00:00:00\n"
     ]
    }
   ],
   "source": [
    "data.app_date = pd.to_datetime(data.app_date, format='%d%b%Y')\n",
    "start_date = data.app_date.min()\n",
    "end_date = data.app_date.max()\n",
    "print(start_date, end_date)"
   ]
  },
  {
   "cell_type": "code",
   "execution_count": 30,
   "id": "82bb2417",
   "metadata": {
    "execution": {
     "iopub.execute_input": "2021-10-12T16:26:59.227408Z",
     "iopub.status.busy": "2021-10-12T16:26:59.226366Z",
     "iopub.status.idle": "2021-10-12T16:26:59.236244Z",
     "shell.execute_reply": "2021-10-12T16:26:59.235696Z",
     "shell.execute_reply.started": "2021-10-12T16:11:01.932785Z"
    },
    "papermill": {
     "duration": 0.115767,
     "end_time": "2021-10-12T16:26:59.236401",
     "exception": false,
     "start_time": "2021-10-12T16:26:59.120634",
     "status": "completed"
    },
    "tags": []
   },
   "outputs": [],
   "source": [
    "data['days'] = (data.app_date - start_date).dt.days.astype('int')"
   ]
  },
  {
   "cell_type": "markdown",
   "id": "863aa451",
   "metadata": {
    "papermill": {
     "duration": 0.103171,
     "end_time": "2021-10-12T16:26:59.440839",
     "exception": false,
     "start_time": "2021-10-12T16:26:59.337668",
     "status": "completed"
    },
    "tags": []
   },
   "source": [
    "#### Feature engineering"
   ]
  },
  {
   "cell_type": "code",
   "execution_count": 31,
   "id": "53876605",
   "metadata": {
    "execution": {
     "iopub.execute_input": "2021-10-12T16:26:59.650260Z",
     "iopub.status.busy": "2021-10-12T16:26:59.649212Z",
     "iopub.status.idle": "2021-10-12T16:26:59.819835Z",
     "shell.execute_reply": "2021-10-12T16:26:59.820604Z",
     "shell.execute_reply.started": "2021-10-12T16:11:01.945717Z"
    },
    "papermill": {
     "duration": 0.278337,
     "end_time": "2021-10-12T16:26:59.820993",
     "exception": false,
     "start_time": "2021-10-12T16:26:59.542656",
     "status": "completed"
    },
    "tags": []
   },
   "outputs": [
    {
     "name": "stdout",
     "output_type": "stream",
     "text": [
      "{'sex': {0: 'F', 1: 'M'}, 'car': {0: 'N', 1: 'Y'}, 'car_type': {0: 'N', 1: 'Y'}, 'good_work': {0: 0, 1: 1}, 'foreign_passport': {0: 'N', 1: 'Y'}}\n"
     ]
    }
   ],
   "source": [
    "binar_colums = {}\n",
    "label_encoder = LabelEncoder()\n",
    "for col in binar_p:\n",
    "    data[col] = label_encoder.fit_transform(data[col])\n",
    "    binar_colums[col] = dict(enumerate(label_encoder.classes_))\n",
    "print(binar_colums)"
   ]
  },
  {
   "cell_type": "code",
   "execution_count": 32,
   "id": "001837cd",
   "metadata": {
    "execution": {
     "iopub.execute_input": "2021-10-12T16:27:00.065119Z",
     "iopub.status.busy": "2021-10-12T16:27:00.043709Z",
     "iopub.status.idle": "2021-10-12T16:27:00.176929Z",
     "shell.execute_reply": "2021-10-12T16:27:00.177459Z",
     "shell.execute_reply.started": "2021-10-12T16:11:02.121992Z"
    },
    "papermill": {
     "duration": 0.251396,
     "end_time": "2021-10-12T16:27:00.177660",
     "exception": false,
     "start_time": "2021-10-12T16:26:59.926264",
     "status": "completed"
    },
    "tags": []
   },
   "outputs": [],
   "source": [
    "edu_dict = {'SCH': 1,'UGR': 2,'GRD': 3,'PGR': 4,'ACD': 5}\n",
    "edu = data.education.fillna(data.education.mode()[0]).map(edu_dict)\n",
    "max_income = data.groupby('age')['income'].max().to_dict()\n",
    "mean_income_region = data.groupby('region_rating')['income'].mean().to_dict()\n",
    "mean_income_age = data.groupby('age').income.mean().to_dict()\n",
    "mean_bki = data.groupby('age')['bki_request_cnt'].mean().to_dict()\n",
    "data['priznak_1'] = data['age'].map(max_income)\n",
    "data['priznak_2'] = data['region_rating'].map(mean_income_region)\n",
    "data['priznak_3'] = data.income / data.region_rating\n",
    "data['priznak_4'] = data.income / (data.bki_request_cnt + 1)\n",
    "data['priznak_5'] = (data.decline_app_cnt * data.sna) ** 2\n",
    "data['priznak_6'] = data.region_rating * data.car\n",
    "data['priznak_7'] = (data.car + data.car_type) / data.sna * data.decline_app_cnt\n",
    "data['priznak_8'] = data.home_address + data.work_address\n",
    "data['priznak_9'] = data.income**2 / (data.region_rating * (data.decline_app_cnt + 1))\n",
    "data['priznak_10'] = data.first_time * data.sna / (data.bki_request_cnt + 1)\n",
    "data['priznak_11'] = (data.score_bki / data.age) ** data.foreign_passport\n",
    "data['priznak_12'] = (data.score_bki / data.age) ** data.sna\n",
    "data['priznak_13'] = data.age / data.score_bki\n",
    "data['priznak_14'] = data.good_work * (data.home_address + data.work_address) \n",
    "data['priznak_15'] = (data.home_address + data.work_address) * data.sna \n",
    "data['priznak_16'] = data.decline_app_cnt * data.sna\n",
    "data['priznak_17'] = abs((data.income - data.age.map(mean_income_age))/data['age'].map(max_income))\n",
    "data['priznak_18'] = data['age'].map(mean_bki)\n",
    "data['priznak_19'] = (data.bki_request_cnt!=0).astype(int)\n",
    "data['priznak_20'] = (data.decline_app_cnt==0).astype(int)\n",
    "data['priznak_21'] = data.client_id.lt(10000).astype(int)\n",
    "data['priznak_22'] = data.client_id.between(10000,90000).astype(int)\n",
    "data['priznak_23'] = np.log(data.decline_app_cnt/data.client_id +1)\n",
    "data['priznak_24'] = np.log((data.income/data.age)+1)\n",
    "data['priznak_25'] = np.log((edu/data.age)+1)\n",
    "my_numeral = list(data.columns[data.columns.str.contains('priznak')])"
   ]
  },
  {
   "cell_type": "markdown",
   "id": "dfdbf83a",
   "metadata": {
    "papermill": {
     "duration": 0.10279,
     "end_time": "2021-10-12T16:27:00.384122",
     "exception": false,
     "start_time": "2021-10-12T16:27:00.281332",
     "status": "completed"
    },
    "tags": []
   },
   "source": [
    "#### Нормализация данных"
   ]
  },
  {
   "cell_type": "code",
   "execution_count": 33,
   "id": "91ba0b77",
   "metadata": {
    "execution": {
     "iopub.execute_input": "2021-10-12T16:27:00.600913Z",
     "iopub.status.busy": "2021-10-12T16:27:00.600167Z",
     "iopub.status.idle": "2021-10-12T16:27:01.000488Z",
     "shell.execute_reply": "2021-10-12T16:27:00.999897Z",
     "shell.execute_reply.started": "2021-10-12T16:11:02.264617Z"
    },
    "papermill": {
     "duration": 0.5116,
     "end_time": "2021-10-12T16:27:01.000652",
     "exception": false,
     "start_time": "2021-10-12T16:27:00.489052",
     "status": "completed"
    },
    "tags": []
   },
   "outputs": [],
   "source": [
    "numeral_columns = ['age', 'decline_app_cnt', 'bki_request_cnt', 'income', 'days']\n",
    "scaler = StandardScaler()\n",
    "for col in numeral_columns:\n",
    "    data[col] = scaler.fit_transform(data[[col]])\n",
    "for col in my_numeral:\n",
    "    data[col] = scaler.fit_transform(data[[col]])"
   ]
  },
  {
   "cell_type": "code",
   "execution_count": 34,
   "id": "3064d7e2",
   "metadata": {
    "execution": {
     "iopub.execute_input": "2021-10-12T16:27:01.221924Z",
     "iopub.status.busy": "2021-10-12T16:27:01.219879Z",
     "iopub.status.idle": "2021-10-12T16:27:01.308071Z",
     "shell.execute_reply": "2021-10-12T16:27:01.308597Z",
     "shell.execute_reply.started": "2021-10-12T16:11:02.759622Z"
    },
    "papermill": {
     "duration": 0.202521,
     "end_time": "2021-10-12T16:27:01.308770",
     "exception": false,
     "start_time": "2021-10-12T16:27:01.106249",
     "status": "completed"
    },
    "tags": []
   },
   "outputs": [
    {
     "data": {
      "text/html": [
       "<div>\n",
       "<style scoped>\n",
       "    .dataframe tbody tr th:only-of-type {\n",
       "        vertical-align: middle;\n",
       "    }\n",
       "\n",
       "    .dataframe tbody tr th {\n",
       "        vertical-align: top;\n",
       "    }\n",
       "\n",
       "    .dataframe thead th {\n",
       "        text-align: right;\n",
       "    }\n",
       "</style>\n",
       "<table border=\"1\" class=\"dataframe\">\n",
       "  <thead>\n",
       "    <tr style=\"text-align: right;\">\n",
       "      <th></th>\n",
       "      <th>client_id</th>\n",
       "      <th>app_date</th>\n",
       "      <th>sex</th>\n",
       "      <th>age</th>\n",
       "      <th>car</th>\n",
       "      <th>car_type</th>\n",
       "      <th>decline_app_cnt</th>\n",
       "      <th>good_work</th>\n",
       "      <th>score_bki</th>\n",
       "      <th>bki_request_cnt</th>\n",
       "      <th>income</th>\n",
       "      <th>foreign_passport</th>\n",
       "      <th>default</th>\n",
       "      <th>Train</th>\n",
       "      <th>days</th>\n",
       "      <th>priznak_1</th>\n",
       "      <th>priznak_2</th>\n",
       "      <th>priznak_3</th>\n",
       "      <th>priznak_4</th>\n",
       "      <th>priznak_5</th>\n",
       "      <th>priznak_6</th>\n",
       "      <th>priznak_7</th>\n",
       "      <th>priznak_8</th>\n",
       "      <th>priznak_9</th>\n",
       "      <th>priznak_10</th>\n",
       "      <th>priznak_11</th>\n",
       "      <th>priznak_12</th>\n",
       "      <th>priznak_13</th>\n",
       "      <th>priznak_14</th>\n",
       "      <th>priznak_15</th>\n",
       "      <th>priznak_16</th>\n",
       "      <th>priznak_17</th>\n",
       "      <th>priznak_18</th>\n",
       "      <th>priznak_19</th>\n",
       "      <th>priznak_20</th>\n",
       "      <th>priznak_21</th>\n",
       "      <th>priznak_22</th>\n",
       "      <th>priznak_23</th>\n",
       "      <th>priznak_24</th>\n",
       "      <th>priznak_25</th>\n",
       "      <th>education_ACD</th>\n",
       "      <th>education_GRD</th>\n",
       "      <th>education_PGR</th>\n",
       "      <th>education_SCH</th>\n",
       "      <th>education_UGR</th>\n",
       "      <th>region_rating_20</th>\n",
       "      <th>region_rating_30</th>\n",
       "      <th>region_rating_40</th>\n",
       "      <th>region_rating_50</th>\n",
       "      <th>region_rating_60</th>\n",
       "      <th>region_rating_70</th>\n",
       "      <th>region_rating_80</th>\n",
       "      <th>home_address_1</th>\n",
       "      <th>home_address_2</th>\n",
       "      <th>home_address_3</th>\n",
       "      <th>work_address_1</th>\n",
       "      <th>work_address_2</th>\n",
       "      <th>work_address_3</th>\n",
       "      <th>sna_1</th>\n",
       "      <th>sna_2</th>\n",
       "      <th>sna_3</th>\n",
       "      <th>sna_4</th>\n",
       "      <th>first_time_1</th>\n",
       "      <th>first_time_2</th>\n",
       "      <th>first_time_3</th>\n",
       "      <th>first_time_4</th>\n",
       "    </tr>\n",
       "  </thead>\n",
       "  <tbody>\n",
       "    <tr>\n",
       "      <th>0</th>\n",
       "      <td>25905</td>\n",
       "      <td>2014-02-01</td>\n",
       "      <td>1</td>\n",
       "      <td>1.975219</td>\n",
       "      <td>1</td>\n",
       "      <td>1</td>\n",
       "      <td>-0.418815</td>\n",
       "      <td>0</td>\n",
       "      <td>-2.008753</td>\n",
       "      <td>-0.281790</td>\n",
       "      <td>-0.786080</td>\n",
       "      <td>0</td>\n",
       "      <td>0.0</td>\n",
       "      <td>1</td>\n",
       "      <td>-0.934391</td>\n",
       "      <td>-2.296030</td>\n",
       "      <td>-0.587943</td>\n",
       "      <td>0.105112</td>\n",
       "      <td>-0.215311</td>\n",
       "      <td>-0.199072</td>\n",
       "      <td>1.104695</td>\n",
       "      <td>-0.185170</td>\n",
       "      <td>-0.948864</td>\n",
       "      <td>0.172040</td>\n",
       "      <td>-0.104565</td>\n",
       "      <td>0.418574</td>\n",
       "      <td>1.100701</td>\n",
       "      <td>-0.268003</td>\n",
       "      <td>-0.424894</td>\n",
       "      <td>0.871743</td>\n",
       "      <td>-0.342548</td>\n",
       "      <td>-0.895842</td>\n",
       "      <td>0.226195</td>\n",
       "      <td>0.596519</td>\n",
       "      <td>0.451868</td>\n",
       "      <td>-0.315977</td>\n",
       "      <td>0.613867</td>\n",
       "      <td>-0.023902</td>\n",
       "      <td>-1.568152</td>\n",
       "      <td>-1.119981</td>\n",
       "      <td>0</td>\n",
       "      <td>0</td>\n",
       "      <td>0</td>\n",
       "      <td>1</td>\n",
       "      <td>0</td>\n",
       "      <td>0</td>\n",
       "      <td>0</td>\n",
       "      <td>0</td>\n",
       "      <td>1</td>\n",
       "      <td>0</td>\n",
       "      <td>0</td>\n",
       "      <td>0</td>\n",
       "      <td>1</td>\n",
       "      <td>0</td>\n",
       "      <td>0</td>\n",
       "      <td>0</td>\n",
       "      <td>1</td>\n",
       "      <td>0</td>\n",
       "      <td>0</td>\n",
       "      <td>0</td>\n",
       "      <td>0</td>\n",
       "      <td>1</td>\n",
       "      <td>1</td>\n",
       "      <td>0</td>\n",
       "      <td>0</td>\n",
       "      <td>0</td>\n",
       "    </tr>\n",
       "    <tr>\n",
       "      <th>1</th>\n",
       "      <td>63161</td>\n",
       "      <td>2014-03-12</td>\n",
       "      <td>0</td>\n",
       "      <td>1.714757</td>\n",
       "      <td>0</td>\n",
       "      <td>0</td>\n",
       "      <td>-0.418815</td>\n",
       "      <td>0</td>\n",
       "      <td>-1.532276</td>\n",
       "      <td>0.770563</td>\n",
       "      <td>-0.708472</td>\n",
       "      <td>0</td>\n",
       "      <td>0.0</td>\n",
       "      <td>1</td>\n",
       "      <td>0.281474</td>\n",
       "      <td>0.654775</td>\n",
       "      <td>-0.587943</td>\n",
       "      <td>0.129718</td>\n",
       "      <td>-0.865709</td>\n",
       "      <td>-0.199072</td>\n",
       "      <td>-0.668956</td>\n",
       "      <td>-0.185170</td>\n",
       "      <td>0.820066</td>\n",
       "      <td>0.209797</td>\n",
       "      <td>-0.472532</td>\n",
       "      <td>0.418574</td>\n",
       "      <td>1.100679</td>\n",
       "      <td>-0.515153</td>\n",
       "      <td>-0.424894</td>\n",
       "      <td>2.326493</td>\n",
       "      <td>-0.342548</td>\n",
       "      <td>-0.862382</td>\n",
       "      <td>0.359502</td>\n",
       "      <td>0.596519</td>\n",
       "      <td>0.451868</td>\n",
       "      <td>-0.315977</td>\n",
       "      <td>0.613867</td>\n",
       "      <td>-0.023902</td>\n",
       "      <td>-1.451676</td>\n",
       "      <td>-1.093218</td>\n",
       "      <td>0</td>\n",
       "      <td>0</td>\n",
       "      <td>0</td>\n",
       "      <td>1</td>\n",
       "      <td>0</td>\n",
       "      <td>0</td>\n",
       "      <td>0</td>\n",
       "      <td>0</td>\n",
       "      <td>1</td>\n",
       "      <td>0</td>\n",
       "      <td>0</td>\n",
       "      <td>0</td>\n",
       "      <td>0</td>\n",
       "      <td>1</td>\n",
       "      <td>0</td>\n",
       "      <td>0</td>\n",
       "      <td>0</td>\n",
       "      <td>1</td>\n",
       "      <td>0</td>\n",
       "      <td>0</td>\n",
       "      <td>0</td>\n",
       "      <td>1</td>\n",
       "      <td>1</td>\n",
       "      <td>0</td>\n",
       "      <td>0</td>\n",
       "      <td>0</td>\n",
       "    </tr>\n",
       "    <tr>\n",
       "      <th>2</th>\n",
       "      <td>25887</td>\n",
       "      <td>2014-02-01</td>\n",
       "      <td>1</td>\n",
       "      <td>-1.237142</td>\n",
       "      <td>1</td>\n",
       "      <td>0</td>\n",
       "      <td>2.621662</td>\n",
       "      <td>0</td>\n",
       "      <td>-1.408142</td>\n",
       "      <td>-0.281790</td>\n",
       "      <td>-0.052834</td>\n",
       "      <td>1</td>\n",
       "      <td>0.0</td>\n",
       "      <td>1</td>\n",
       "      <td>-0.934391</td>\n",
       "      <td>-0.521607</td>\n",
       "      <td>1.872131</td>\n",
       "      <td>-1.421836</td>\n",
       "      <td>-0.096985</td>\n",
       "      <td>0.100990</td>\n",
       "      <td>2.168885</td>\n",
       "      <td>4.050438</td>\n",
       "      <td>-0.948864</td>\n",
       "      <td>-2.115094</td>\n",
       "      <td>-0.104565</td>\n",
       "      <td>-2.394190</td>\n",
       "      <td>-0.787635</td>\n",
       "      <td>0.156139</td>\n",
       "      <td>-0.424894</td>\n",
       "      <td>-0.764850</td>\n",
       "      <td>0.955208</td>\n",
       "      <td>-1.180574</td>\n",
       "      <td>-0.508472</td>\n",
       "      <td>0.596519</td>\n",
       "      <td>-2.213034</td>\n",
       "      <td>-0.315977</td>\n",
       "      <td>0.613867</td>\n",
       "      <td>0.042369</td>\n",
       "      <td>1.434824</td>\n",
       "      <td>-0.349713</td>\n",
       "      <td>0</td>\n",
       "      <td>0</td>\n",
       "      <td>0</td>\n",
       "      <td>1</td>\n",
       "      <td>0</td>\n",
       "      <td>0</td>\n",
       "      <td>0</td>\n",
       "      <td>0</td>\n",
       "      <td>0</td>\n",
       "      <td>0</td>\n",
       "      <td>0</td>\n",
       "      <td>1</td>\n",
       "      <td>1</td>\n",
       "      <td>0</td>\n",
       "      <td>0</td>\n",
       "      <td>0</td>\n",
       "      <td>1</td>\n",
       "      <td>0</td>\n",
       "      <td>1</td>\n",
       "      <td>0</td>\n",
       "      <td>0</td>\n",
       "      <td>0</td>\n",
       "      <td>0</td>\n",
       "      <td>0</td>\n",
       "      <td>0</td>\n",
       "      <td>1</td>\n",
       "    </tr>\n",
       "    <tr>\n",
       "      <th>3</th>\n",
       "      <td>16222</td>\n",
       "      <td>2014-01-23</td>\n",
       "      <td>0</td>\n",
       "      <td>1.193834</td>\n",
       "      <td>0</td>\n",
       "      <td>0</td>\n",
       "      <td>-0.418815</td>\n",
       "      <td>0</td>\n",
       "      <td>-2.057471</td>\n",
       "      <td>0.333797</td>\n",
       "      <td>-1.629771</td>\n",
       "      <td>0</td>\n",
       "      <td>0.0</td>\n",
       "      <td>1</td>\n",
       "      <td>-1.214975</td>\n",
       "      <td>0.786083</td>\n",
       "      <td>-0.587943</td>\n",
       "      <td>-0.162379</td>\n",
       "      <td>-0.763678</td>\n",
       "      <td>-0.199072</td>\n",
       "      <td>-0.668956</td>\n",
       "      <td>-0.185170</td>\n",
       "      <td>0.820066</td>\n",
       "      <td>-0.225018</td>\n",
       "      <td>-0.604829</td>\n",
       "      <td>0.418574</td>\n",
       "      <td>-0.200770</td>\n",
       "      <td>-0.102851</td>\n",
       "      <td>-0.424894</td>\n",
       "      <td>-0.401163</td>\n",
       "      <td>-0.342548</td>\n",
       "      <td>1.250336</td>\n",
       "      <td>0.608238</td>\n",
       "      <td>0.596519</td>\n",
       "      <td>0.451868</td>\n",
       "      <td>-0.315977</td>\n",
       "      <td>0.613867</td>\n",
       "      <td>-0.023902</td>\n",
       "      <td>-1.363864</td>\n",
       "      <td>-1.030688</td>\n",
       "      <td>0</td>\n",
       "      <td>0</td>\n",
       "      <td>0</td>\n",
       "      <td>1</td>\n",
       "      <td>0</td>\n",
       "      <td>0</td>\n",
       "      <td>0</td>\n",
       "      <td>0</td>\n",
       "      <td>1</td>\n",
       "      <td>0</td>\n",
       "      <td>0</td>\n",
       "      <td>0</td>\n",
       "      <td>0</td>\n",
       "      <td>1</td>\n",
       "      <td>0</td>\n",
       "      <td>0</td>\n",
       "      <td>0</td>\n",
       "      <td>1</td>\n",
       "      <td>1</td>\n",
       "      <td>0</td>\n",
       "      <td>0</td>\n",
       "      <td>0</td>\n",
       "      <td>0</td>\n",
       "      <td>0</td>\n",
       "      <td>1</td>\n",
       "      <td>0</td>\n",
       "    </tr>\n",
       "    <tr>\n",
       "      <th>4</th>\n",
       "      <td>101655</td>\n",
       "      <td>2014-04-18</td>\n",
       "      <td>1</td>\n",
       "      <td>0.759731</td>\n",
       "      <td>0</td>\n",
       "      <td>0</td>\n",
       "      <td>-0.418815</td>\n",
       "      <td>1</td>\n",
       "      <td>-1.244723</td>\n",
       "      <td>-0.281790</td>\n",
       "      <td>-0.052834</td>\n",
       "      <td>1</td>\n",
       "      <td>0.0</td>\n",
       "      <td>1</td>\n",
       "      <td>1.434987</td>\n",
       "      <td>0.516365</td>\n",
       "      <td>-0.288111</td>\n",
       "      <td>-0.444378</td>\n",
       "      <td>-0.096985</td>\n",
       "      <td>-0.199072</td>\n",
       "      <td>-0.668956</td>\n",
       "      <td>-0.185170</td>\n",
       "      <td>0.820066</td>\n",
       "      <td>-0.092438</td>\n",
       "      <td>-0.104565</td>\n",
       "      <td>-2.313257</td>\n",
       "      <td>0.231312</td>\n",
       "      <td>-0.517029</td>\n",
       "      <td>2.749057</td>\n",
       "      <td>-0.401163</td>\n",
       "      <td>-0.342548</td>\n",
       "      <td>-0.951625</td>\n",
       "      <td>0.686752</td>\n",
       "      <td>0.596519</td>\n",
       "      <td>0.451868</td>\n",
       "      <td>-0.315977</td>\n",
       "      <td>-1.629017</td>\n",
       "      <td>-0.023902</td>\n",
       "      <td>-0.844691</td>\n",
       "      <td>0.360299</td>\n",
       "      <td>0</td>\n",
       "      <td>1</td>\n",
       "      <td>0</td>\n",
       "      <td>0</td>\n",
       "      <td>0</td>\n",
       "      <td>0</td>\n",
       "      <td>0</td>\n",
       "      <td>0</td>\n",
       "      <td>0</td>\n",
       "      <td>1</td>\n",
       "      <td>0</td>\n",
       "      <td>0</td>\n",
       "      <td>0</td>\n",
       "      <td>1</td>\n",
       "      <td>0</td>\n",
       "      <td>0</td>\n",
       "      <td>0</td>\n",
       "      <td>1</td>\n",
       "      <td>1</td>\n",
       "      <td>0</td>\n",
       "      <td>0</td>\n",
       "      <td>0</td>\n",
       "      <td>0</td>\n",
       "      <td>0</td>\n",
       "      <td>0</td>\n",
       "      <td>1</td>\n",
       "    </tr>\n",
       "  </tbody>\n",
       "</table>\n",
       "</div>"
      ],
      "text/plain": [
       "   client_id   app_date  sex       age  car  car_type  decline_app_cnt  \\\n",
       "0      25905 2014-02-01    1  1.975219    1         1        -0.418815   \n",
       "1      63161 2014-03-12    0  1.714757    0         0        -0.418815   \n",
       "2      25887 2014-02-01    1 -1.237142    1         0         2.621662   \n",
       "3      16222 2014-01-23    0  1.193834    0         0        -0.418815   \n",
       "4     101655 2014-04-18    1  0.759731    0         0        -0.418815   \n",
       "\n",
       "   good_work  score_bki  bki_request_cnt    income  foreign_passport  default  \\\n",
       "0          0  -2.008753        -0.281790 -0.786080                 0      0.0   \n",
       "1          0  -1.532276         0.770563 -0.708472                 0      0.0   \n",
       "2          0  -1.408142        -0.281790 -0.052834                 1      0.0   \n",
       "3          0  -2.057471         0.333797 -1.629771                 0      0.0   \n",
       "4          1  -1.244723        -0.281790 -0.052834                 1      0.0   \n",
       "\n",
       "   Train      days  priznak_1  priznak_2  priznak_3  priznak_4  priznak_5  \\\n",
       "0      1 -0.934391  -2.296030  -0.587943   0.105112  -0.215311  -0.199072   \n",
       "1      1  0.281474   0.654775  -0.587943   0.129718  -0.865709  -0.199072   \n",
       "2      1 -0.934391  -0.521607   1.872131  -1.421836  -0.096985   0.100990   \n",
       "3      1 -1.214975   0.786083  -0.587943  -0.162379  -0.763678  -0.199072   \n",
       "4      1  1.434987   0.516365  -0.288111  -0.444378  -0.096985  -0.199072   \n",
       "\n",
       "   priznak_6  priznak_7  priznak_8  priznak_9  priznak_10  priznak_11  \\\n",
       "0   1.104695  -0.185170  -0.948864   0.172040   -0.104565    0.418574   \n",
       "1  -0.668956  -0.185170   0.820066   0.209797   -0.472532    0.418574   \n",
       "2   2.168885   4.050438  -0.948864  -2.115094   -0.104565   -2.394190   \n",
       "3  -0.668956  -0.185170   0.820066  -0.225018   -0.604829    0.418574   \n",
       "4  -0.668956  -0.185170   0.820066  -0.092438   -0.104565   -2.313257   \n",
       "\n",
       "   priznak_12  priznak_13  priznak_14  priznak_15  priznak_16  priznak_17  \\\n",
       "0    1.100701   -0.268003   -0.424894    0.871743   -0.342548   -0.895842   \n",
       "1    1.100679   -0.515153   -0.424894    2.326493   -0.342548   -0.862382   \n",
       "2   -0.787635    0.156139   -0.424894   -0.764850    0.955208   -1.180574   \n",
       "3   -0.200770   -0.102851   -0.424894   -0.401163   -0.342548    1.250336   \n",
       "4    0.231312   -0.517029    2.749057   -0.401163   -0.342548   -0.951625   \n",
       "\n",
       "   priznak_18  priznak_19  priznak_20  priznak_21  priznak_22  priznak_23  \\\n",
       "0    0.226195    0.596519    0.451868   -0.315977    0.613867   -0.023902   \n",
       "1    0.359502    0.596519    0.451868   -0.315977    0.613867   -0.023902   \n",
       "2   -0.508472    0.596519   -2.213034   -0.315977    0.613867    0.042369   \n",
       "3    0.608238    0.596519    0.451868   -0.315977    0.613867   -0.023902   \n",
       "4    0.686752    0.596519    0.451868   -0.315977   -1.629017   -0.023902   \n",
       "\n",
       "   priznak_24  priznak_25  education_ACD  education_GRD  education_PGR  \\\n",
       "0   -1.568152   -1.119981              0              0              0   \n",
       "1   -1.451676   -1.093218              0              0              0   \n",
       "2    1.434824   -0.349713              0              0              0   \n",
       "3   -1.363864   -1.030688              0              0              0   \n",
       "4   -0.844691    0.360299              0              1              0   \n",
       "\n",
       "   education_SCH  education_UGR  region_rating_20  region_rating_30  \\\n",
       "0              1              0                 0                 0   \n",
       "1              1              0                 0                 0   \n",
       "2              1              0                 0                 0   \n",
       "3              1              0                 0                 0   \n",
       "4              0              0                 0                 0   \n",
       "\n",
       "   region_rating_40  region_rating_50  region_rating_60  region_rating_70  \\\n",
       "0                 0                 1                 0                 0   \n",
       "1                 0                 1                 0                 0   \n",
       "2                 0                 0                 0                 0   \n",
       "3                 0                 1                 0                 0   \n",
       "4                 0                 0                 1                 0   \n",
       "\n",
       "   region_rating_80  home_address_1  home_address_2  home_address_3  \\\n",
       "0                 0               1               0               0   \n",
       "1                 0               0               1               0   \n",
       "2                 1               1               0               0   \n",
       "3                 0               0               1               0   \n",
       "4                 0               0               1               0   \n",
       "\n",
       "   work_address_1  work_address_2  work_address_3  sna_1  sna_2  sna_3  sna_4  \\\n",
       "0               0               1               0      0      0      0      1   \n",
       "1               0               0               1      0      0      0      1   \n",
       "2               0               1               0      1      0      0      0   \n",
       "3               0               0               1      1      0      0      0   \n",
       "4               0               0               1      1      0      0      0   \n",
       "\n",
       "   first_time_1  first_time_2  first_time_3  first_time_4  \n",
       "0             1             0             0             0  \n",
       "1             1             0             0             0  \n",
       "2             0             0             0             1  \n",
       "3             0             0             1             0  \n",
       "4             0             0             0             1  "
      ]
     },
     "execution_count": 34,
     "metadata": {},
     "output_type": "execute_result"
    }
   ],
   "source": [
    "data=pd.get_dummies(data, prefix=categoral_p, columns=categoral_p)\n",
    "data.head()"
   ]
  },
  {
   "cell_type": "code",
   "execution_count": 35,
   "id": "0b37f5a2",
   "metadata": {
    "execution": {
     "iopub.execute_input": "2021-10-12T16:27:01.534223Z",
     "iopub.status.busy": "2021-10-12T16:27:01.531923Z",
     "iopub.status.idle": "2021-10-12T16:27:02.928449Z",
     "shell.execute_reply": "2021-10-12T16:27:02.929001Z",
     "shell.execute_reply.started": "2021-10-12T16:11:02.866153Z"
    },
    "papermill": {
     "duration": 1.514456,
     "end_time": "2021-10-12T16:27:02.929224",
     "exception": false,
     "start_time": "2021-10-12T16:27:01.414768",
     "status": "completed"
    },
    "tags": []
   },
   "outputs": [
    {
     "data": {
      "text/html": [
       "<div>\n",
       "<style scoped>\n",
       "    .dataframe tbody tr th:only-of-type {\n",
       "        vertical-align: middle;\n",
       "    }\n",
       "\n",
       "    .dataframe tbody tr th {\n",
       "        vertical-align: top;\n",
       "    }\n",
       "\n",
       "    .dataframe thead th {\n",
       "        text-align: right;\n",
       "    }\n",
       "</style>\n",
       "<table border=\"1\" class=\"dataframe\">\n",
       "  <thead>\n",
       "    <tr style=\"text-align: right;\">\n",
       "      <th></th>\n",
       "      <th>client_id</th>\n",
       "      <th>sex</th>\n",
       "      <th>age</th>\n",
       "      <th>car</th>\n",
       "      <th>car_type</th>\n",
       "      <th>decline_app_cnt</th>\n",
       "      <th>good_work</th>\n",
       "      <th>score_bki</th>\n",
       "      <th>bki_request_cnt</th>\n",
       "      <th>income</th>\n",
       "      <th>foreign_passport</th>\n",
       "      <th>default</th>\n",
       "      <th>Train</th>\n",
       "      <th>days</th>\n",
       "      <th>priznak_1</th>\n",
       "      <th>priznak_2</th>\n",
       "      <th>priznak_3</th>\n",
       "      <th>priznak_4</th>\n",
       "      <th>priznak_5</th>\n",
       "      <th>priznak_6</th>\n",
       "      <th>priznak_7</th>\n",
       "      <th>priznak_8</th>\n",
       "      <th>priznak_9</th>\n",
       "      <th>priznak_10</th>\n",
       "      <th>priznak_11</th>\n",
       "      <th>priznak_12</th>\n",
       "      <th>priznak_13</th>\n",
       "      <th>priznak_14</th>\n",
       "      <th>priznak_15</th>\n",
       "      <th>priznak_16</th>\n",
       "      <th>priznak_17</th>\n",
       "      <th>priznak_18</th>\n",
       "      <th>priznak_19</th>\n",
       "      <th>priznak_20</th>\n",
       "      <th>priznak_21</th>\n",
       "      <th>priznak_22</th>\n",
       "      <th>priznak_23</th>\n",
       "      <th>priznak_24</th>\n",
       "      <th>priznak_25</th>\n",
       "      <th>education_ACD</th>\n",
       "      <th>education_GRD</th>\n",
       "      <th>education_PGR</th>\n",
       "      <th>education_SCH</th>\n",
       "      <th>education_UGR</th>\n",
       "      <th>region_rating_20</th>\n",
       "      <th>region_rating_30</th>\n",
       "      <th>region_rating_40</th>\n",
       "      <th>region_rating_50</th>\n",
       "      <th>region_rating_60</th>\n",
       "      <th>region_rating_70</th>\n",
       "      <th>region_rating_80</th>\n",
       "      <th>home_address_1</th>\n",
       "      <th>home_address_2</th>\n",
       "      <th>home_address_3</th>\n",
       "      <th>work_address_1</th>\n",
       "      <th>work_address_2</th>\n",
       "      <th>work_address_3</th>\n",
       "      <th>sna_1</th>\n",
       "      <th>sna_2</th>\n",
       "      <th>sna_3</th>\n",
       "      <th>sna_4</th>\n",
       "      <th>first_time_1</th>\n",
       "      <th>first_time_2</th>\n",
       "      <th>first_time_3</th>\n",
       "      <th>first_time_4</th>\n",
       "    </tr>\n",
       "  </thead>\n",
       "  <tbody>\n",
       "    <tr>\n",
       "      <th>client_id</th>\n",
       "      <td>1.000000</td>\n",
       "      <td>-0.033333</td>\n",
       "      <td>0.015535</td>\n",
       "      <td>-0.022271</td>\n",
       "      <td>-0.024695</td>\n",
       "      <td>-0.022520</td>\n",
       "      <td>0.003447</td>\n",
       "      <td>-0.061653</td>\n",
       "      <td>-0.008626</td>\n",
       "      <td>0.002900</td>\n",
       "      <td>-0.013739</td>\n",
       "      <td>-0.039242</td>\n",
       "      <td>0.002844</td>\n",
       "      <td>0.999581</td>\n",
       "      <td>0.012402</td>\n",
       "      <td>0.003766</td>\n",
       "      <td>-0.005449</td>\n",
       "      <td>-0.005555</td>\n",
       "      <td>-0.015603</td>\n",
       "      <td>-0.018697</td>\n",
       "      <td>-0.014065</td>\n",
       "      <td>0.175770</td>\n",
       "      <td>0.009720</td>\n",
       "      <td>-0.006657</td>\n",
       "      <td>0.013394</td>\n",
       "      <td>-0.019415</td>\n",
       "      <td>0.011162</td>\n",
       "      <td>0.022398</td>\n",
       "      <td>0.053947</td>\n",
       "      <td>-0.020644</td>\n",
       "      <td>-0.021052</td>\n",
       "      <td>0.004893</td>\n",
       "      <td>0.019764</td>\n",
       "      <td>0.018923</td>\n",
       "      <td>-0.497606</td>\n",
       "      <td>-0.259976</td>\n",
       "      <td>-0.033968</td>\n",
       "      <td>-0.016814</td>\n",
       "      <td>0.026718</td>\n",
       "      <td>-0.000222</td>\n",
       "      <td>0.031792</td>\n",
       "      <td>-0.002091</td>\n",
       "      <td>-0.050430</td>\n",
       "      <td>0.031338</td>\n",
       "      <td>0.003024</td>\n",
       "      <td>-0.004653</td>\n",
       "      <td>-0.008062</td>\n",
       "      <td>0.003060</td>\n",
       "      <td>0.001381</td>\n",
       "      <td>-0.002338</td>\n",
       "      <td>0.004711</td>\n",
       "      <td>-0.182347</td>\n",
       "      <td>0.190167</td>\n",
       "      <td>-0.032556</td>\n",
       "      <td>-0.078084</td>\n",
       "      <td>-0.140950</td>\n",
       "      <td>0.179965</td>\n",
       "      <td>0.006758</td>\n",
       "      <td>-0.010024</td>\n",
       "      <td>-0.003767</td>\n",
       "      <td>0.003123</td>\n",
       "      <td>0.009287</td>\n",
       "      <td>-0.021229</td>\n",
       "      <td>-0.024239</td>\n",
       "      <td>0.037276</td>\n",
       "    </tr>\n",
       "    <tr>\n",
       "      <th>sex</th>\n",
       "      <td>-0.033333</td>\n",
       "      <td>1.000000</td>\n",
       "      <td>-0.134411</td>\n",
       "      <td>0.277470</td>\n",
       "      <td>0.224822</td>\n",
       "      <td>0.022335</td>\n",
       "      <td>-0.044026</td>\n",
       "      <td>-0.046214</td>\n",
       "      <td>-0.052160</td>\n",
       "      <td>0.305326</td>\n",
       "      <td>0.085924</td>\n",
       "      <td>0.019619</td>\n",
       "      <td>-0.005135</td>\n",
       "      <td>-0.033811</td>\n",
       "      <td>0.017899</td>\n",
       "      <td>0.109298</td>\n",
       "      <td>-0.015378</td>\n",
       "      <td>0.096435</td>\n",
       "      <td>0.015030</td>\n",
       "      <td>0.274942</td>\n",
       "      <td>0.082145</td>\n",
       "      <td>0.060607</td>\n",
       "      <td>0.041525</td>\n",
       "      <td>0.031825</td>\n",
       "      <td>-0.086482</td>\n",
       "      <td>-0.046865</td>\n",
       "      <td>0.040111</td>\n",
       "      <td>-0.031455</td>\n",
       "      <td>0.016261</td>\n",
       "      <td>0.021107</td>\n",
       "      <td>-0.017486</td>\n",
       "      <td>-0.016907</td>\n",
       "      <td>-0.032048</td>\n",
       "      <td>-0.021847</td>\n",
       "      <td>0.024731</td>\n",
       "      <td>-0.000830</td>\n",
       "      <td>0.002363</td>\n",
       "      <td>0.178020</td>\n",
       "      <td>0.070921</td>\n",
       "      <td>0.017238</td>\n",
       "      <td>0.022769</td>\n",
       "      <td>0.019994</td>\n",
       "      <td>-0.040150</td>\n",
       "      <td>0.017589</td>\n",
       "      <td>-0.023470</td>\n",
       "      <td>-0.012078</td>\n",
       "      <td>-0.051163</td>\n",
       "      <td>-0.043214</td>\n",
       "      <td>-0.006790</td>\n",
       "      <td>0.045934</td>\n",
       "      <td>0.087714</td>\n",
       "      <td>-0.036289</td>\n",
       "      <td>0.033477</td>\n",
       "      <td>0.010375</td>\n",
       "      <td>-0.062010</td>\n",
       "      <td>-0.022596</td>\n",
       "      <td>0.060769</td>\n",
       "      <td>-0.000473</td>\n",
       "      <td>0.008966</td>\n",
       "      <td>-0.004159</td>\n",
       "      <td>-0.005375</td>\n",
       "      <td>-0.015820</td>\n",
       "      <td>0.006459</td>\n",
       "      <td>-0.002517</td>\n",
       "      <td>0.010985</td>\n",
       "    </tr>\n",
       "    <tr>\n",
       "      <th>age</th>\n",
       "      <td>0.015535</td>\n",
       "      <td>-0.134411</td>\n",
       "      <td>1.000000</td>\n",
       "      <td>-0.048263</td>\n",
       "      <td>-0.044402</td>\n",
       "      <td>-0.121932</td>\n",
       "      <td>-0.072233</td>\n",
       "      <td>-0.104682</td>\n",
       "      <td>0.045198</td>\n",
       "      <td>-0.117274</td>\n",
       "      <td>-0.040238</td>\n",
       "      <td>-0.025004</td>\n",
       "      <td>0.003864</td>\n",
       "      <td>0.015831</td>\n",
       "      <td>0.215850</td>\n",
       "      <td>-0.087010</td>\n",
       "      <td>0.051401</td>\n",
       "      <td>-0.054703</td>\n",
       "      <td>-0.080210</td>\n",
       "      <td>-0.052625</td>\n",
       "      <td>-0.054963</td>\n",
       "      <td>0.002920</td>\n",
       "      <td>0.088015</td>\n",
       "      <td>-0.051125</td>\n",
       "      <td>0.044801</td>\n",
       "      <td>0.184582</td>\n",
       "      <td>-0.195759</td>\n",
       "      <td>-0.076042</td>\n",
       "      <td>-0.043039</td>\n",
       "      <td>-0.114208</td>\n",
       "      <td>0.101115</td>\n",
       "      <td>0.299184</td>\n",
       "      <td>0.021006</td>\n",
       "      <td>0.114439</td>\n",
       "      <td>-0.021252</td>\n",
       "      <td>-0.000511</td>\n",
       "      <td>-0.009558</td>\n",
       "      <td>-0.953060</td>\n",
       "      <td>-0.529329</td>\n",
       "      <td>0.004797</td>\n",
       "      <td>-0.069744</td>\n",
       "      <td>-0.007772</td>\n",
       "      <td>0.168704</td>\n",
       "      <td>-0.149820</td>\n",
       "      <td>0.012867</td>\n",
       "      <td>0.010163</td>\n",
       "      <td>0.049155</td>\n",
       "      <td>0.038578</td>\n",
       "      <td>-0.007366</td>\n",
       "      <td>-0.047778</td>\n",
       "      <td>-0.060083</td>\n",
       "      <td>-0.011618</td>\n",
       "      <td>0.010311</td>\n",
       "      <td>0.004894</td>\n",
       "      <td>0.010520</td>\n",
       "      <td>-0.007846</td>\n",
       "      <td>0.000430</td>\n",
       "      <td>0.094354</td>\n",
       "      <td>-0.079816</td>\n",
       "      <td>-0.061850</td>\n",
       "      <td>-0.008311</td>\n",
       "      <td>-0.012392</td>\n",
       "      <td>-0.075937</td>\n",
       "      <td>-0.021080</td>\n",
       "      <td>0.097870</td>\n",
       "    </tr>\n",
       "    <tr>\n",
       "      <th>car</th>\n",
       "      <td>-0.022271</td>\n",
       "      <td>0.277470</td>\n",
       "      <td>-0.048263</td>\n",
       "      <td>1.000000</td>\n",
       "      <td>0.698760</td>\n",
       "      <td>-0.039005</td>\n",
       "      <td>0.001565</td>\n",
       "      <td>-0.043080</td>\n",
       "      <td>-0.045470</td>\n",
       "      <td>0.323183</td>\n",
       "      <td>0.106893</td>\n",
       "      <td>-0.043161</td>\n",
       "      <td>-0.002382</td>\n",
       "      <td>-0.022468</td>\n",
       "      <td>0.063707</td>\n",
       "      <td>0.061221</td>\n",
       "      <td>0.033704</td>\n",
       "      <td>0.103386</td>\n",
       "      <td>-0.028734</td>\n",
       "      <td>0.962875</td>\n",
       "      <td>0.266528</td>\n",
       "      <td>-0.016380</td>\n",
       "      <td>0.122550</td>\n",
       "      <td>0.024427</td>\n",
       "      <td>-0.106866</td>\n",
       "      <td>-0.075589</td>\n",
       "      <td>0.024621</td>\n",
       "      <td>0.003193</td>\n",
       "      <td>-0.072363</td>\n",
       "      <td>-0.041725</td>\n",
       "      <td>0.081295</td>\n",
       "      <td>0.015274</td>\n",
       "      <td>-0.045058</td>\n",
       "      <td>0.039715</td>\n",
       "      <td>0.012132</td>\n",
       "      <td>0.013044</td>\n",
       "      <td>-0.003258</td>\n",
       "      <td>0.085762</td>\n",
       "      <td>0.114353</td>\n",
       "      <td>0.023503</td>\n",
       "      <td>0.109157</td>\n",
       "      <td>0.066957</td>\n",
       "      <td>-0.119598</td>\n",
       "      <td>-0.002624</td>\n",
       "      <td>-0.010881</td>\n",
       "      <td>-0.011222</td>\n",
       "      <td>-0.029880</td>\n",
       "      <td>-0.026220</td>\n",
       "      <td>0.001092</td>\n",
       "      <td>0.023280</td>\n",
       "      <td>0.049803</td>\n",
       "      <td>0.025902</td>\n",
       "      <td>-0.026069</td>\n",
       "      <td>0.000984</td>\n",
       "      <td>-0.004355</td>\n",
       "      <td>0.019000</td>\n",
       "      <td>-0.014662</td>\n",
       "      <td>0.064902</td>\n",
       "      <td>-0.008561</td>\n",
       "      <td>-0.018171</td>\n",
       "      <td>-0.065529</td>\n",
       "      <td>-0.079398</td>\n",
       "      <td>-0.022534</td>\n",
       "      <td>0.026573</td>\n",
       "      <td>0.056512</td>\n",
       "    </tr>\n",
       "    <tr>\n",
       "      <th>car_type</th>\n",
       "      <td>-0.024695</td>\n",
       "      <td>0.224822</td>\n",
       "      <td>-0.044402</td>\n",
       "      <td>0.698760</td>\n",
       "      <td>1.000000</td>\n",
       "      <td>-0.050902</td>\n",
       "      <td>0.016160</td>\n",
       "      <td>-0.042107</td>\n",
       "      <td>-0.016938</td>\n",
       "      <td>0.369761</td>\n",
       "      <td>0.145373</td>\n",
       "      <td>-0.057484</td>\n",
       "      <td>-0.003309</td>\n",
       "      <td>-0.024865</td>\n",
       "      <td>0.058026</td>\n",
       "      <td>0.114127</td>\n",
       "      <td>0.013581</td>\n",
       "      <td>0.090399</td>\n",
       "      <td>-0.037425</td>\n",
       "      <td>0.700693</td>\n",
       "      <td>0.232888</td>\n",
       "      <td>-0.004550</td>\n",
       "      <td>0.125400</td>\n",
       "      <td>0.007024</td>\n",
       "      <td>-0.145523</td>\n",
       "      <td>-0.087918</td>\n",
       "      <td>0.022433</td>\n",
       "      <td>0.019002</td>\n",
       "      <td>-0.079859</td>\n",
       "      <td>-0.053270</td>\n",
       "      <td>0.141800</td>\n",
       "      <td>0.016028</td>\n",
       "      <td>-0.033117</td>\n",
       "      <td>0.050693</td>\n",
       "      <td>0.015278</td>\n",
       "      <td>0.008852</td>\n",
       "      <td>-0.004821</td>\n",
       "      <td>0.094953</td>\n",
       "      <td>0.155305</td>\n",
       "      <td>0.033088</td>\n",
       "      <td>0.153081</td>\n",
       "      <td>0.086565</td>\n",
       "      <td>-0.157802</td>\n",
       "      <td>-0.015459</td>\n",
       "      <td>-0.011590</td>\n",
       "      <td>-0.011721</td>\n",
       "      <td>-0.032034</td>\n",
       "      <td>-0.051686</td>\n",
       "      <td>-0.024867</td>\n",
       "      <td>0.051977</td>\n",
       "      <td>0.093662</td>\n",
       "      <td>0.011631</td>\n",
       "      <td>-0.011246</td>\n",
       "      <td>-0.001336</td>\n",
       "      <td>-0.001172</td>\n",
       "      <td>-0.000149</td>\n",
       "      <td>0.000893</td>\n",
       "      <td>0.078137</td>\n",
       "      <td>-0.013672</td>\n",
       "      <td>-0.021906</td>\n",
       "      <td>-0.075641</td>\n",
       "      <td>-0.087207</td>\n",
       "      <td>-0.025082</td>\n",
       "      <td>0.024861</td>\n",
       "      <td>0.067254</td>\n",
       "    </tr>\n",
       "    <tr>\n",
       "      <th>...</th>\n",
       "      <td>...</td>\n",
       "      <td>...</td>\n",
       "      <td>...</td>\n",
       "      <td>...</td>\n",
       "      <td>...</td>\n",
       "      <td>...</td>\n",
       "      <td>...</td>\n",
       "      <td>...</td>\n",
       "      <td>...</td>\n",
       "      <td>...</td>\n",
       "      <td>...</td>\n",
       "      <td>...</td>\n",
       "      <td>...</td>\n",
       "      <td>...</td>\n",
       "      <td>...</td>\n",
       "      <td>...</td>\n",
       "      <td>...</td>\n",
       "      <td>...</td>\n",
       "      <td>...</td>\n",
       "      <td>...</td>\n",
       "      <td>...</td>\n",
       "      <td>...</td>\n",
       "      <td>...</td>\n",
       "      <td>...</td>\n",
       "      <td>...</td>\n",
       "      <td>...</td>\n",
       "      <td>...</td>\n",
       "      <td>...</td>\n",
       "      <td>...</td>\n",
       "      <td>...</td>\n",
       "      <td>...</td>\n",
       "      <td>...</td>\n",
       "      <td>...</td>\n",
       "      <td>...</td>\n",
       "      <td>...</td>\n",
       "      <td>...</td>\n",
       "      <td>...</td>\n",
       "      <td>...</td>\n",
       "      <td>...</td>\n",
       "      <td>...</td>\n",
       "      <td>...</td>\n",
       "      <td>...</td>\n",
       "      <td>...</td>\n",
       "      <td>...</td>\n",
       "      <td>...</td>\n",
       "      <td>...</td>\n",
       "      <td>...</td>\n",
       "      <td>...</td>\n",
       "      <td>...</td>\n",
       "      <td>...</td>\n",
       "      <td>...</td>\n",
       "      <td>...</td>\n",
       "      <td>...</td>\n",
       "      <td>...</td>\n",
       "      <td>...</td>\n",
       "      <td>...</td>\n",
       "      <td>...</td>\n",
       "      <td>...</td>\n",
       "      <td>...</td>\n",
       "      <td>...</td>\n",
       "      <td>...</td>\n",
       "      <td>...</td>\n",
       "      <td>...</td>\n",
       "      <td>...</td>\n",
       "      <td>...</td>\n",
       "    </tr>\n",
       "    <tr>\n",
       "      <th>sna_4</th>\n",
       "      <td>0.003123</td>\n",
       "      <td>-0.005375</td>\n",
       "      <td>-0.008311</td>\n",
       "      <td>-0.065529</td>\n",
       "      <td>-0.075641</td>\n",
       "      <td>0.046361</td>\n",
       "      <td>-0.039868</td>\n",
       "      <td>0.043830</td>\n",
       "      <td>0.010202</td>\n",
       "      <td>-0.110610</td>\n",
       "      <td>-0.157076</td>\n",
       "      <td>0.110448</td>\n",
       "      <td>0.001942</td>\n",
       "      <td>0.003240</td>\n",
       "      <td>-0.043243</td>\n",
       "      <td>-0.073518</td>\n",
       "      <td>0.020595</td>\n",
       "      <td>-0.031103</td>\n",
       "      <td>0.256989</td>\n",
       "      <td>-0.071584</td>\n",
       "      <td>-0.052850</td>\n",
       "      <td>0.140822</td>\n",
       "      <td>-0.037008</td>\n",
       "      <td>0.369375</td>\n",
       "      <td>0.156981</td>\n",
       "      <td>0.478281</td>\n",
       "      <td>-0.009104</td>\n",
       "      <td>-0.025043</td>\n",
       "      <td>0.833359</td>\n",
       "      <td>0.240940</td>\n",
       "      <td>-0.011484</td>\n",
       "      <td>-0.018318</td>\n",
       "      <td>0.012528</td>\n",
       "      <td>-0.043890</td>\n",
       "      <td>-0.014519</td>\n",
       "      <td>0.014181</td>\n",
       "      <td>-0.001475</td>\n",
       "      <td>-0.000350</td>\n",
       "      <td>-0.063315</td>\n",
       "      <td>-0.002509</td>\n",
       "      <td>-0.083600</td>\n",
       "      <td>-0.024455</td>\n",
       "      <td>0.081680</td>\n",
       "      <td>0.004044</td>\n",
       "      <td>0.003419</td>\n",
       "      <td>0.009964</td>\n",
       "      <td>0.005095</td>\n",
       "      <td>0.045087</td>\n",
       "      <td>0.016747</td>\n",
       "      <td>-0.025248</td>\n",
       "      <td>-0.067190</td>\n",
       "      <td>-0.140683</td>\n",
       "      <td>0.138392</td>\n",
       "      <td>0.006999</td>\n",
       "      <td>-0.083534</td>\n",
       "      <td>-0.079965</td>\n",
       "      <td>0.127403</td>\n",
       "      <td>-0.581239</td>\n",
       "      <td>-0.177949</td>\n",
       "      <td>-0.105656</td>\n",
       "      <td>1.000000</td>\n",
       "      <td>0.506922</td>\n",
       "      <td>-0.038846</td>\n",
       "      <td>-0.174752</td>\n",
       "      <td>-0.202557</td>\n",
       "    </tr>\n",
       "    <tr>\n",
       "      <th>first_time_1</th>\n",
       "      <td>0.009287</td>\n",
       "      <td>-0.015820</td>\n",
       "      <td>-0.012392</td>\n",
       "      <td>-0.079398</td>\n",
       "      <td>-0.087207</td>\n",
       "      <td>0.046006</td>\n",
       "      <td>-0.047012</td>\n",
       "      <td>0.029692</td>\n",
       "      <td>-0.009792</td>\n",
       "      <td>-0.128033</td>\n",
       "      <td>-0.146859</td>\n",
       "      <td>0.079187</td>\n",
       "      <td>-0.001001</td>\n",
       "      <td>0.009539</td>\n",
       "      <td>-0.064485</td>\n",
       "      <td>-0.071272</td>\n",
       "      <td>0.010683</td>\n",
       "      <td>-0.016341</td>\n",
       "      <td>0.142128</td>\n",
       "      <td>-0.085493</td>\n",
       "      <td>-0.033209</td>\n",
       "      <td>0.094260</td>\n",
       "      <td>-0.047856</td>\n",
       "      <td>-0.163670</td>\n",
       "      <td>0.146768</td>\n",
       "      <td>0.345456</td>\n",
       "      <td>-0.002375</td>\n",
       "      <td>-0.036704</td>\n",
       "      <td>0.492726</td>\n",
       "      <td>0.147921</td>\n",
       "      <td>-0.024938</td>\n",
       "      <td>-0.037134</td>\n",
       "      <td>-0.000736</td>\n",
       "      <td>-0.044314</td>\n",
       "      <td>-0.019178</td>\n",
       "      <td>0.014965</td>\n",
       "      <td>0.004489</td>\n",
       "      <td>0.006845</td>\n",
       "      <td>-0.068946</td>\n",
       "      <td>-0.011565</td>\n",
       "      <td>-0.094793</td>\n",
       "      <td>-0.030778</td>\n",
       "      <td>0.089154</td>\n",
       "      <td>0.012128</td>\n",
       "      <td>-0.009619</td>\n",
       "      <td>0.002302</td>\n",
       "      <td>0.009441</td>\n",
       "      <td>0.044003</td>\n",
       "      <td>0.014399</td>\n",
       "      <td>-0.022055</td>\n",
       "      <td>-0.066710</td>\n",
       "      <td>-0.090932</td>\n",
       "      <td>0.087317</td>\n",
       "      <td>0.012759</td>\n",
       "      <td>-0.066418</td>\n",
       "      <td>-0.040046</td>\n",
       "      <td>0.079658</td>\n",
       "      <td>-0.417889</td>\n",
       "      <td>0.000921</td>\n",
       "      <td>0.064555</td>\n",
       "      <td>0.506922</td>\n",
       "      <td>1.000000</td>\n",
       "      <td>-0.192300</td>\n",
       "      <td>-0.382102</td>\n",
       "      <td>-0.260670</td>\n",
       "    </tr>\n",
       "    <tr>\n",
       "      <th>first_time_2</th>\n",
       "      <td>-0.021229</td>\n",
       "      <td>0.006459</td>\n",
       "      <td>-0.075937</td>\n",
       "      <td>-0.022534</td>\n",
       "      <td>-0.025082</td>\n",
       "      <td>0.046090</td>\n",
       "      <td>-0.019065</td>\n",
       "      <td>0.043998</td>\n",
       "      <td>-0.003659</td>\n",
       "      <td>-0.019665</td>\n",
       "      <td>-0.037741</td>\n",
       "      <td>0.036820</td>\n",
       "      <td>0.000666</td>\n",
       "      <td>-0.021196</td>\n",
       "      <td>-0.053527</td>\n",
       "      <td>-0.001292</td>\n",
       "      <td>0.001234</td>\n",
       "      <td>-0.000163</td>\n",
       "      <td>0.026360</td>\n",
       "      <td>-0.025050</td>\n",
       "      <td>0.006165</td>\n",
       "      <td>-0.011706</td>\n",
       "      <td>-0.031693</td>\n",
       "      <td>-0.064131</td>\n",
       "      <td>0.037463</td>\n",
       "      <td>0.098915</td>\n",
       "      <td>-0.001000</td>\n",
       "      <td>-0.018669</td>\n",
       "      <td>0.031249</td>\n",
       "      <td>0.045525</td>\n",
       "      <td>-0.016687</td>\n",
       "      <td>-0.041105</td>\n",
       "      <td>-0.002418</td>\n",
       "      <td>-0.043444</td>\n",
       "      <td>0.008292</td>\n",
       "      <td>0.011342</td>\n",
       "      <td>0.006815</td>\n",
       "      <td>0.080499</td>\n",
       "      <td>0.015344</td>\n",
       "      <td>-0.007575</td>\n",
       "      <td>-0.032626</td>\n",
       "      <td>-0.010073</td>\n",
       "      <td>0.018012</td>\n",
       "      <td>0.023091</td>\n",
       "      <td>0.006566</td>\n",
       "      <td>0.005601</td>\n",
       "      <td>0.006687</td>\n",
       "      <td>-0.014514</td>\n",
       "      <td>0.007034</td>\n",
       "      <td>0.036040</td>\n",
       "      <td>-0.025033</td>\n",
       "      <td>0.013704</td>\n",
       "      <td>-0.013374</td>\n",
       "      <td>-0.001093</td>\n",
       "      <td>-0.000466</td>\n",
       "      <td>0.014669</td>\n",
       "      <td>-0.013188</td>\n",
       "      <td>-0.123230</td>\n",
       "      <td>0.138294</td>\n",
       "      <td>0.107840</td>\n",
       "      <td>-0.038846</td>\n",
       "      <td>-0.192300</td>\n",
       "      <td>1.000000</td>\n",
       "      <td>-0.368886</td>\n",
       "      <td>-0.251654</td>\n",
       "    </tr>\n",
       "    <tr>\n",
       "      <th>first_time_3</th>\n",
       "      <td>-0.024239</td>\n",
       "      <td>-0.002517</td>\n",
       "      <td>-0.021080</td>\n",
       "      <td>0.026573</td>\n",
       "      <td>0.024861</td>\n",
       "      <td>-0.010049</td>\n",
       "      <td>0.014095</td>\n",
       "      <td>0.010896</td>\n",
       "      <td>0.011299</td>\n",
       "      <td>0.017866</td>\n",
       "      <td>-0.008870</td>\n",
       "      <td>-0.017311</td>\n",
       "      <td>0.001607</td>\n",
       "      <td>-0.024094</td>\n",
       "      <td>0.026644</td>\n",
       "      <td>-0.027637</td>\n",
       "      <td>0.044969</td>\n",
       "      <td>-0.007094</td>\n",
       "      <td>-0.049795</td>\n",
       "      <td>0.019932</td>\n",
       "      <td>0.016939</td>\n",
       "      <td>-0.062627</td>\n",
       "      <td>0.043124</td>\n",
       "      <td>0.080640</td>\n",
       "      <td>0.008731</td>\n",
       "      <td>-0.110742</td>\n",
       "      <td>0.005640</td>\n",
       "      <td>0.006049</td>\n",
       "      <td>-0.172857</td>\n",
       "      <td>-0.049958</td>\n",
       "      <td>0.005226</td>\n",
       "      <td>0.013548</td>\n",
       "      <td>0.007597</td>\n",
       "      <td>0.008207</td>\n",
       "      <td>0.011759</td>\n",
       "      <td>0.009889</td>\n",
       "      <td>-0.005783</td>\n",
       "      <td>0.015062</td>\n",
       "      <td>0.023944</td>\n",
       "      <td>-0.004325</td>\n",
       "      <td>0.018607</td>\n",
       "      <td>0.002163</td>\n",
       "      <td>-0.018298</td>\n",
       "      <td>0.001253</td>\n",
       "      <td>0.029556</td>\n",
       "      <td>0.015382</td>\n",
       "      <td>0.014240</td>\n",
       "      <td>0.004781</td>\n",
       "      <td>-0.001806</td>\n",
       "      <td>0.020274</td>\n",
       "      <td>-0.041349</td>\n",
       "      <td>0.064164</td>\n",
       "      <td>-0.062600</td>\n",
       "      <td>-0.005195</td>\n",
       "      <td>0.029295</td>\n",
       "      <td>0.044213</td>\n",
       "      <td>-0.059548</td>\n",
       "      <td>0.128882</td>\n",
       "      <td>0.025601</td>\n",
       "      <td>-0.030156</td>\n",
       "      <td>-0.174752</td>\n",
       "      <td>-0.382102</td>\n",
       "      <td>-0.368886</td>\n",
       "      <td>1.000000</td>\n",
       "      <td>-0.500037</td>\n",
       "    </tr>\n",
       "    <tr>\n",
       "      <th>first_time_4</th>\n",
       "      <td>0.037276</td>\n",
       "      <td>0.010985</td>\n",
       "      <td>0.097870</td>\n",
       "      <td>0.056512</td>\n",
       "      <td>0.067254</td>\n",
       "      <td>-0.066376</td>\n",
       "      <td>0.040096</td>\n",
       "      <td>-0.074449</td>\n",
       "      <td>-0.001396</td>\n",
       "      <td>0.105559</td>\n",
       "      <td>0.167059</td>\n",
       "      <td>-0.078774</td>\n",
       "      <td>-0.001523</td>\n",
       "      <td>0.036868</td>\n",
       "      <td>0.069549</td>\n",
       "      <td>0.093339</td>\n",
       "      <td>-0.061172</td>\n",
       "      <td>0.022148</td>\n",
       "      <td>-0.086970</td>\n",
       "      <td>0.071354</td>\n",
       "      <td>0.004020</td>\n",
       "      <td>0.000259</td>\n",
       "      <td>0.018424</td>\n",
       "      <td>0.101908</td>\n",
       "      <td>-0.166592</td>\n",
       "      <td>-0.252138</td>\n",
       "      <td>-0.003534</td>\n",
       "      <td>0.040083</td>\n",
       "      <td>-0.251066</td>\n",
       "      <td>-0.107728</td>\n",
       "      <td>0.029308</td>\n",
       "      <td>0.050666</td>\n",
       "      <td>-0.005971</td>\n",
       "      <td>0.064812</td>\n",
       "      <td>-0.003869</td>\n",
       "      <td>-0.033472</td>\n",
       "      <td>-0.002963</td>\n",
       "      <td>-0.090109</td>\n",
       "      <td>0.018955</td>\n",
       "      <td>0.021111</td>\n",
       "      <td>0.087127</td>\n",
       "      <td>0.032255</td>\n",
       "      <td>-0.070464</td>\n",
       "      <td>-0.031053</td>\n",
       "      <td>-0.030787</td>\n",
       "      <td>-0.024089</td>\n",
       "      <td>-0.029802</td>\n",
       "      <td>-0.030917</td>\n",
       "      <td>-0.016126</td>\n",
       "      <td>-0.034224</td>\n",
       "      <td>0.124805</td>\n",
       "      <td>-0.006514</td>\n",
       "      <td>0.007554</td>\n",
       "      <td>-0.004099</td>\n",
       "      <td>0.023917</td>\n",
       "      <td>-0.028172</td>\n",
       "      <td>0.010480</td>\n",
       "      <td>0.313751</td>\n",
       "      <td>-0.145228</td>\n",
       "      <td>-0.110946</td>\n",
       "      <td>-0.202557</td>\n",
       "      <td>-0.260670</td>\n",
       "      <td>-0.251654</td>\n",
       "      <td>-0.500037</td>\n",
       "      <td>1.000000</td>\n",
       "    </tr>\n",
       "  </tbody>\n",
       "</table>\n",
       "<p>65 rows × 65 columns</p>\n",
       "</div>"
      ],
      "text/plain": [
       "              client_id       sex       age       car  car_type  \\\n",
       "client_id      1.000000 -0.033333  0.015535 -0.022271 -0.024695   \n",
       "sex           -0.033333  1.000000 -0.134411  0.277470  0.224822   \n",
       "age            0.015535 -0.134411  1.000000 -0.048263 -0.044402   \n",
       "car           -0.022271  0.277470 -0.048263  1.000000  0.698760   \n",
       "car_type      -0.024695  0.224822 -0.044402  0.698760  1.000000   \n",
       "...                 ...       ...       ...       ...       ...   \n",
       "sna_4          0.003123 -0.005375 -0.008311 -0.065529 -0.075641   \n",
       "first_time_1   0.009287 -0.015820 -0.012392 -0.079398 -0.087207   \n",
       "first_time_2  -0.021229  0.006459 -0.075937 -0.022534 -0.025082   \n",
       "first_time_3  -0.024239 -0.002517 -0.021080  0.026573  0.024861   \n",
       "first_time_4   0.037276  0.010985  0.097870  0.056512  0.067254   \n",
       "\n",
       "              decline_app_cnt  good_work  score_bki  bki_request_cnt  \\\n",
       "client_id           -0.022520   0.003447  -0.061653        -0.008626   \n",
       "sex                  0.022335  -0.044026  -0.046214        -0.052160   \n",
       "age                 -0.121932  -0.072233  -0.104682         0.045198   \n",
       "car                 -0.039005   0.001565  -0.043080        -0.045470   \n",
       "car_type            -0.050902   0.016160  -0.042107        -0.016938   \n",
       "...                       ...        ...        ...              ...   \n",
       "sna_4                0.046361  -0.039868   0.043830         0.010202   \n",
       "first_time_1         0.046006  -0.047012   0.029692        -0.009792   \n",
       "first_time_2         0.046090  -0.019065   0.043998        -0.003659   \n",
       "first_time_3        -0.010049   0.014095   0.010896         0.011299   \n",
       "first_time_4        -0.066376   0.040096  -0.074449        -0.001396   \n",
       "\n",
       "                income  foreign_passport   default     Train      days  \\\n",
       "client_id     0.002900         -0.013739 -0.039242  0.002844  0.999581   \n",
       "sex           0.305326          0.085924  0.019619 -0.005135 -0.033811   \n",
       "age          -0.117274         -0.040238 -0.025004  0.003864  0.015831   \n",
       "car           0.323183          0.106893 -0.043161 -0.002382 -0.022468   \n",
       "car_type      0.369761          0.145373 -0.057484 -0.003309 -0.024865   \n",
       "...                ...               ...       ...       ...       ...   \n",
       "sna_4        -0.110610         -0.157076  0.110448  0.001942  0.003240   \n",
       "first_time_1 -0.128033         -0.146859  0.079187 -0.001001  0.009539   \n",
       "first_time_2 -0.019665         -0.037741  0.036820  0.000666 -0.021196   \n",
       "first_time_3  0.017866         -0.008870 -0.017311  0.001607 -0.024094   \n",
       "first_time_4  0.105559          0.167059 -0.078774 -0.001523  0.036868   \n",
       "\n",
       "              priznak_1  priznak_2  priznak_3  priznak_4  priznak_5  \\\n",
       "client_id      0.012402   0.003766  -0.005449  -0.005555  -0.015603   \n",
       "sex            0.017899   0.109298  -0.015378   0.096435   0.015030   \n",
       "age            0.215850  -0.087010   0.051401  -0.054703  -0.080210   \n",
       "car            0.063707   0.061221   0.033704   0.103386  -0.028734   \n",
       "car_type       0.058026   0.114127   0.013581   0.090399  -0.037425   \n",
       "...                 ...        ...        ...        ...        ...   \n",
       "sna_4         -0.043243  -0.073518   0.020595  -0.031103   0.256989   \n",
       "first_time_1  -0.064485  -0.071272   0.010683  -0.016341   0.142128   \n",
       "first_time_2  -0.053527  -0.001292   0.001234  -0.000163   0.026360   \n",
       "first_time_3   0.026644  -0.027637   0.044969  -0.007094  -0.049795   \n",
       "first_time_4   0.069549   0.093339  -0.061172   0.022148  -0.086970   \n",
       "\n",
       "              priznak_6  priznak_7  priznak_8  priznak_9  priznak_10  \\\n",
       "client_id     -0.018697  -0.014065   0.175770   0.009720   -0.006657   \n",
       "sex            0.274942   0.082145   0.060607   0.041525    0.031825   \n",
       "age           -0.052625  -0.054963   0.002920   0.088015   -0.051125   \n",
       "car            0.962875   0.266528  -0.016380   0.122550    0.024427   \n",
       "car_type       0.700693   0.232888  -0.004550   0.125400    0.007024   \n",
       "...                 ...        ...        ...        ...         ...   \n",
       "sna_4         -0.071584  -0.052850   0.140822  -0.037008    0.369375   \n",
       "first_time_1  -0.085493  -0.033209   0.094260  -0.047856   -0.163670   \n",
       "first_time_2  -0.025050   0.006165  -0.011706  -0.031693   -0.064131   \n",
       "first_time_3   0.019932   0.016939  -0.062627   0.043124    0.080640   \n",
       "first_time_4   0.071354   0.004020   0.000259   0.018424    0.101908   \n",
       "\n",
       "              priznak_11  priznak_12  priznak_13  priznak_14  priznak_15  \\\n",
       "client_id       0.013394   -0.019415    0.011162    0.022398    0.053947   \n",
       "sex            -0.086482   -0.046865    0.040111   -0.031455    0.016261   \n",
       "age             0.044801    0.184582   -0.195759   -0.076042   -0.043039   \n",
       "car            -0.106866   -0.075589    0.024621    0.003193   -0.072363   \n",
       "car_type       -0.145523   -0.087918    0.022433    0.019002   -0.079859   \n",
       "...                  ...         ...         ...         ...         ...   \n",
       "sna_4           0.156981    0.478281   -0.009104   -0.025043    0.833359   \n",
       "first_time_1    0.146768    0.345456   -0.002375   -0.036704    0.492726   \n",
       "first_time_2    0.037463    0.098915   -0.001000   -0.018669    0.031249   \n",
       "first_time_3    0.008731   -0.110742    0.005640    0.006049   -0.172857   \n",
       "first_time_4   -0.166592   -0.252138   -0.003534    0.040083   -0.251066   \n",
       "\n",
       "              priznak_16  priznak_17  priznak_18  priznak_19  priznak_20  \\\n",
       "client_id      -0.020644   -0.021052    0.004893    0.019764    0.018923   \n",
       "sex             0.021107   -0.017486   -0.016907   -0.032048   -0.021847   \n",
       "age            -0.114208    0.101115    0.299184    0.021006    0.114439   \n",
       "car            -0.041725    0.081295    0.015274   -0.045058    0.039715   \n",
       "car_type       -0.053270    0.141800    0.016028   -0.033117    0.050693   \n",
       "...                  ...         ...         ...         ...         ...   \n",
       "sna_4           0.240940   -0.011484   -0.018318    0.012528   -0.043890   \n",
       "first_time_1    0.147921   -0.024938   -0.037134   -0.000736   -0.044314   \n",
       "first_time_2    0.045525   -0.016687   -0.041105   -0.002418   -0.043444   \n",
       "first_time_3   -0.049958    0.005226    0.013548    0.007597    0.008207   \n",
       "first_time_4   -0.107728    0.029308    0.050666   -0.005971    0.064812   \n",
       "\n",
       "              priznak_21  priznak_22  priznak_23  priznak_24  priznak_25  \\\n",
       "client_id      -0.497606   -0.259976   -0.033968   -0.016814    0.026718   \n",
       "sex             0.024731   -0.000830    0.002363    0.178020    0.070921   \n",
       "age            -0.021252   -0.000511   -0.009558   -0.953060   -0.529329   \n",
       "car             0.012132    0.013044   -0.003258    0.085762    0.114353   \n",
       "car_type        0.015278    0.008852   -0.004821    0.094953    0.155305   \n",
       "...                  ...         ...         ...         ...         ...   \n",
       "sna_4          -0.014519    0.014181   -0.001475   -0.000350   -0.063315   \n",
       "first_time_1   -0.019178    0.014965    0.004489    0.006845   -0.068946   \n",
       "first_time_2    0.008292    0.011342    0.006815    0.080499    0.015344   \n",
       "first_time_3    0.011759    0.009889   -0.005783    0.015062    0.023944   \n",
       "first_time_4   -0.003869   -0.033472   -0.002963   -0.090109    0.018955   \n",
       "\n",
       "              education_ACD  education_GRD  education_PGR  education_SCH  \\\n",
       "client_id         -0.000222       0.031792      -0.002091      -0.050430   \n",
       "sex                0.017238       0.022769       0.019994      -0.040150   \n",
       "age                0.004797      -0.069744      -0.007772       0.168704   \n",
       "car                0.023503       0.109157       0.066957      -0.119598   \n",
       "car_type           0.033088       0.153081       0.086565      -0.157802   \n",
       "...                     ...            ...            ...            ...   \n",
       "sna_4             -0.002509      -0.083600      -0.024455       0.081680   \n",
       "first_time_1      -0.011565      -0.094793      -0.030778       0.089154   \n",
       "first_time_2      -0.007575      -0.032626      -0.010073       0.018012   \n",
       "first_time_3      -0.004325       0.018607       0.002163      -0.018298   \n",
       "first_time_4       0.021111       0.087127       0.032255      -0.070464   \n",
       "\n",
       "              education_UGR  region_rating_20  region_rating_30  \\\n",
       "client_id          0.031338          0.003024         -0.004653   \n",
       "sex                0.017589         -0.023470         -0.012078   \n",
       "age               -0.149820          0.012867          0.010163   \n",
       "car               -0.002624         -0.010881         -0.011222   \n",
       "car_type          -0.015459         -0.011590         -0.011721   \n",
       "...                     ...               ...               ...   \n",
       "sna_4              0.004044          0.003419          0.009964   \n",
       "first_time_1       0.012128         -0.009619          0.002302   \n",
       "first_time_2       0.023091          0.006566          0.005601   \n",
       "first_time_3       0.001253          0.029556          0.015382   \n",
       "first_time_4      -0.031053         -0.030787         -0.024089   \n",
       "\n",
       "              region_rating_40  region_rating_50  region_rating_60  \\\n",
       "client_id            -0.008062          0.003060          0.001381   \n",
       "sex                  -0.051163         -0.043214         -0.006790   \n",
       "age                   0.049155          0.038578         -0.007366   \n",
       "car                  -0.029880         -0.026220          0.001092   \n",
       "car_type             -0.032034         -0.051686         -0.024867   \n",
       "...                        ...               ...               ...   \n",
       "sna_4                 0.005095          0.045087          0.016747   \n",
       "first_time_1          0.009441          0.044003          0.014399   \n",
       "first_time_2          0.006687         -0.014514          0.007034   \n",
       "first_time_3          0.014240          0.004781         -0.001806   \n",
       "first_time_4         -0.029802         -0.030917         -0.016126   \n",
       "\n",
       "              region_rating_70  region_rating_80  home_address_1  \\\n",
       "client_id            -0.002338          0.004711       -0.182347   \n",
       "sex                   0.045934          0.087714       -0.036289   \n",
       "age                  -0.047778         -0.060083       -0.011618   \n",
       "car                   0.023280          0.049803        0.025902   \n",
       "car_type              0.051977          0.093662        0.011631   \n",
       "...                        ...               ...             ...   \n",
       "sna_4                -0.025248         -0.067190       -0.140683   \n",
       "first_time_1         -0.022055         -0.066710       -0.090932   \n",
       "first_time_2          0.036040         -0.025033        0.013704   \n",
       "first_time_3          0.020274         -0.041349        0.064164   \n",
       "first_time_4         -0.034224          0.124805       -0.006514   \n",
       "\n",
       "              home_address_2  home_address_3  work_address_1  work_address_2  \\\n",
       "client_id           0.190167       -0.032556       -0.078084       -0.140950   \n",
       "sex                 0.033477        0.010375       -0.062010       -0.022596   \n",
       "age                 0.010311        0.004894        0.010520       -0.007846   \n",
       "car                -0.026069        0.000984       -0.004355        0.019000   \n",
       "car_type           -0.011246       -0.001336       -0.001172       -0.000149   \n",
       "...                      ...             ...             ...             ...   \n",
       "sna_4               0.138392        0.006999       -0.083534       -0.079965   \n",
       "first_time_1        0.087317        0.012759       -0.066418       -0.040046   \n",
       "first_time_2       -0.013374       -0.001093       -0.000466        0.014669   \n",
       "first_time_3       -0.062600       -0.005195        0.029295        0.044213   \n",
       "first_time_4        0.007554       -0.004099        0.023917       -0.028172   \n",
       "\n",
       "              work_address_3     sna_1     sna_2     sna_3     sna_4  \\\n",
       "client_id           0.179965  0.006758 -0.010024 -0.003767  0.003123   \n",
       "sex                 0.060769 -0.000473  0.008966 -0.004159 -0.005375   \n",
       "age                 0.000430  0.094354 -0.079816 -0.061850 -0.008311   \n",
       "car                -0.014662  0.064902 -0.008561 -0.018171 -0.065529   \n",
       "car_type            0.000893  0.078137 -0.013672 -0.021906 -0.075641   \n",
       "...                      ...       ...       ...       ...       ...   \n",
       "sna_4               0.127403 -0.581239 -0.177949 -0.105656  1.000000   \n",
       "first_time_1        0.079658 -0.417889  0.000921  0.064555  0.506922   \n",
       "first_time_2       -0.013188 -0.123230  0.138294  0.107840 -0.038846   \n",
       "first_time_3       -0.059548  0.128882  0.025601 -0.030156 -0.174752   \n",
       "first_time_4        0.010480  0.313751 -0.145228 -0.110946 -0.202557   \n",
       "\n",
       "              first_time_1  first_time_2  first_time_3  first_time_4  \n",
       "client_id         0.009287     -0.021229     -0.024239      0.037276  \n",
       "sex              -0.015820      0.006459     -0.002517      0.010985  \n",
       "age              -0.012392     -0.075937     -0.021080      0.097870  \n",
       "car              -0.079398     -0.022534      0.026573      0.056512  \n",
       "car_type         -0.087207     -0.025082      0.024861      0.067254  \n",
       "...                    ...           ...           ...           ...  \n",
       "sna_4             0.506922     -0.038846     -0.174752     -0.202557  \n",
       "first_time_1      1.000000     -0.192300     -0.382102     -0.260670  \n",
       "first_time_2     -0.192300      1.000000     -0.368886     -0.251654  \n",
       "first_time_3     -0.382102     -0.368886      1.000000     -0.500037  \n",
       "first_time_4     -0.260670     -0.251654     -0.500037      1.000000  \n",
       "\n",
       "[65 rows x 65 columns]"
      ]
     },
     "execution_count": 35,
     "metadata": {},
     "output_type": "execute_result"
    }
   ],
   "source": [
    "data.corr()"
   ]
  },
  {
   "cell_type": "code",
   "execution_count": 36,
   "id": "5a241508",
   "metadata": {
    "execution": {
     "iopub.execute_input": "2021-10-12T16:27:03.172558Z",
     "iopub.status.busy": "2021-10-12T16:27:03.168324Z",
     "iopub.status.idle": "2021-10-12T16:27:03.212946Z",
     "shell.execute_reply": "2021-10-12T16:27:03.212368Z",
     "shell.execute_reply.started": "2021-10-12T16:11:04.268668Z"
    },
    "papermill": {
     "duration": 0.168644,
     "end_time": "2021-10-12T16:27:03.213114",
     "exception": false,
     "start_time": "2021-10-12T16:27:03.044470",
     "status": "completed"
    },
    "tags": []
   },
   "outputs": [],
   "source": [
    "data = data.drop(['app_date', 'education_GRD', 'good_work', 'region_rating_80', 'sna_3', 'home_address_2', 'education_ACD', 'sna_4'], axis=1)"
   ]
  },
  {
   "cell_type": "code",
   "execution_count": 37,
   "id": "373d5434",
   "metadata": {
    "execution": {
     "iopub.execute_input": "2021-10-12T16:27:03.473553Z",
     "iopub.status.busy": "2021-10-12T16:27:03.460055Z",
     "iopub.status.idle": "2021-10-12T16:27:03.502820Z",
     "shell.execute_reply": "2021-10-12T16:27:03.502142Z",
     "shell.execute_reply.started": "2021-10-12T16:11:04.317853Z"
    },
    "papermill": {
     "duration": 0.177414,
     "end_time": "2021-10-12T16:27:03.502990",
     "exception": false,
     "start_time": "2021-10-12T16:27:03.325576",
     "status": "completed"
    },
    "tags": []
   },
   "outputs": [
    {
     "data": {
      "text/html": [
       "<div>\n",
       "<style scoped>\n",
       "    .dataframe tbody tr th:only-of-type {\n",
       "        vertical-align: middle;\n",
       "    }\n",
       "\n",
       "    .dataframe tbody tr th {\n",
       "        vertical-align: top;\n",
       "    }\n",
       "\n",
       "    .dataframe thead th {\n",
       "        text-align: right;\n",
       "    }\n",
       "</style>\n",
       "<table border=\"1\" class=\"dataframe\">\n",
       "  <thead>\n",
       "    <tr style=\"text-align: right;\">\n",
       "      <th></th>\n",
       "      <th>client_id</th>\n",
       "      <th>sex</th>\n",
       "      <th>age</th>\n",
       "      <th>car</th>\n",
       "      <th>car_type</th>\n",
       "      <th>decline_app_cnt</th>\n",
       "      <th>score_bki</th>\n",
       "      <th>bki_request_cnt</th>\n",
       "      <th>income</th>\n",
       "      <th>foreign_passport</th>\n",
       "      <th>default</th>\n",
       "      <th>Train</th>\n",
       "      <th>days</th>\n",
       "      <th>priznak_1</th>\n",
       "      <th>priznak_2</th>\n",
       "      <th>priznak_3</th>\n",
       "      <th>priznak_4</th>\n",
       "      <th>priznak_5</th>\n",
       "      <th>priznak_6</th>\n",
       "      <th>priznak_7</th>\n",
       "      <th>priznak_8</th>\n",
       "      <th>priznak_9</th>\n",
       "      <th>priznak_10</th>\n",
       "      <th>priznak_11</th>\n",
       "      <th>priznak_12</th>\n",
       "      <th>priznak_13</th>\n",
       "      <th>priznak_14</th>\n",
       "      <th>priznak_15</th>\n",
       "      <th>priznak_16</th>\n",
       "      <th>priznak_17</th>\n",
       "      <th>priznak_18</th>\n",
       "      <th>priznak_19</th>\n",
       "      <th>priznak_20</th>\n",
       "      <th>priznak_21</th>\n",
       "      <th>priznak_22</th>\n",
       "      <th>priznak_23</th>\n",
       "      <th>priznak_24</th>\n",
       "      <th>priznak_25</th>\n",
       "      <th>education_PGR</th>\n",
       "      <th>education_SCH</th>\n",
       "      <th>education_UGR</th>\n",
       "      <th>region_rating_20</th>\n",
       "      <th>region_rating_30</th>\n",
       "      <th>region_rating_40</th>\n",
       "      <th>region_rating_50</th>\n",
       "      <th>region_rating_60</th>\n",
       "      <th>region_rating_70</th>\n",
       "      <th>home_address_1</th>\n",
       "      <th>home_address_3</th>\n",
       "      <th>work_address_1</th>\n",
       "      <th>work_address_2</th>\n",
       "      <th>work_address_3</th>\n",
       "      <th>sna_1</th>\n",
       "      <th>sna_2</th>\n",
       "      <th>first_time_1</th>\n",
       "      <th>first_time_2</th>\n",
       "      <th>first_time_3</th>\n",
       "      <th>first_time_4</th>\n",
       "    </tr>\n",
       "  </thead>\n",
       "  <tbody>\n",
       "    <tr>\n",
       "      <th>0</th>\n",
       "      <td>25905</td>\n",
       "      <td>1</td>\n",
       "      <td>1.975219</td>\n",
       "      <td>1</td>\n",
       "      <td>1</td>\n",
       "      <td>-0.418815</td>\n",
       "      <td>-2.008753</td>\n",
       "      <td>-0.281790</td>\n",
       "      <td>-0.786080</td>\n",
       "      <td>0</td>\n",
       "      <td>0.0</td>\n",
       "      <td>1</td>\n",
       "      <td>-0.934391</td>\n",
       "      <td>-2.296030</td>\n",
       "      <td>-0.587943</td>\n",
       "      <td>0.105112</td>\n",
       "      <td>-0.215311</td>\n",
       "      <td>-0.199072</td>\n",
       "      <td>1.104695</td>\n",
       "      <td>-0.185170</td>\n",
       "      <td>-0.948864</td>\n",
       "      <td>0.172040</td>\n",
       "      <td>-0.104565</td>\n",
       "      <td>0.418574</td>\n",
       "      <td>1.100701</td>\n",
       "      <td>-0.268003</td>\n",
       "      <td>-0.424894</td>\n",
       "      <td>0.871743</td>\n",
       "      <td>-0.342548</td>\n",
       "      <td>-0.895842</td>\n",
       "      <td>0.226195</td>\n",
       "      <td>0.596519</td>\n",
       "      <td>0.451868</td>\n",
       "      <td>-0.315977</td>\n",
       "      <td>0.613867</td>\n",
       "      <td>-0.023902</td>\n",
       "      <td>-1.568152</td>\n",
       "      <td>-1.119981</td>\n",
       "      <td>0</td>\n",
       "      <td>1</td>\n",
       "      <td>0</td>\n",
       "      <td>0</td>\n",
       "      <td>0</td>\n",
       "      <td>0</td>\n",
       "      <td>1</td>\n",
       "      <td>0</td>\n",
       "      <td>0</td>\n",
       "      <td>1</td>\n",
       "      <td>0</td>\n",
       "      <td>0</td>\n",
       "      <td>1</td>\n",
       "      <td>0</td>\n",
       "      <td>0</td>\n",
       "      <td>0</td>\n",
       "      <td>1</td>\n",
       "      <td>0</td>\n",
       "      <td>0</td>\n",
       "      <td>0</td>\n",
       "    </tr>\n",
       "    <tr>\n",
       "      <th>1</th>\n",
       "      <td>63161</td>\n",
       "      <td>0</td>\n",
       "      <td>1.714757</td>\n",
       "      <td>0</td>\n",
       "      <td>0</td>\n",
       "      <td>-0.418815</td>\n",
       "      <td>-1.532276</td>\n",
       "      <td>0.770563</td>\n",
       "      <td>-0.708472</td>\n",
       "      <td>0</td>\n",
       "      <td>0.0</td>\n",
       "      <td>1</td>\n",
       "      <td>0.281474</td>\n",
       "      <td>0.654775</td>\n",
       "      <td>-0.587943</td>\n",
       "      <td>0.129718</td>\n",
       "      <td>-0.865709</td>\n",
       "      <td>-0.199072</td>\n",
       "      <td>-0.668956</td>\n",
       "      <td>-0.185170</td>\n",
       "      <td>0.820066</td>\n",
       "      <td>0.209797</td>\n",
       "      <td>-0.472532</td>\n",
       "      <td>0.418574</td>\n",
       "      <td>1.100679</td>\n",
       "      <td>-0.515153</td>\n",
       "      <td>-0.424894</td>\n",
       "      <td>2.326493</td>\n",
       "      <td>-0.342548</td>\n",
       "      <td>-0.862382</td>\n",
       "      <td>0.359502</td>\n",
       "      <td>0.596519</td>\n",
       "      <td>0.451868</td>\n",
       "      <td>-0.315977</td>\n",
       "      <td>0.613867</td>\n",
       "      <td>-0.023902</td>\n",
       "      <td>-1.451676</td>\n",
       "      <td>-1.093218</td>\n",
       "      <td>0</td>\n",
       "      <td>1</td>\n",
       "      <td>0</td>\n",
       "      <td>0</td>\n",
       "      <td>0</td>\n",
       "      <td>0</td>\n",
       "      <td>1</td>\n",
       "      <td>0</td>\n",
       "      <td>0</td>\n",
       "      <td>0</td>\n",
       "      <td>0</td>\n",
       "      <td>0</td>\n",
       "      <td>0</td>\n",
       "      <td>1</td>\n",
       "      <td>0</td>\n",
       "      <td>0</td>\n",
       "      <td>1</td>\n",
       "      <td>0</td>\n",
       "      <td>0</td>\n",
       "      <td>0</td>\n",
       "    </tr>\n",
       "    <tr>\n",
       "      <th>2</th>\n",
       "      <td>25887</td>\n",
       "      <td>1</td>\n",
       "      <td>-1.237142</td>\n",
       "      <td>1</td>\n",
       "      <td>0</td>\n",
       "      <td>2.621662</td>\n",
       "      <td>-1.408142</td>\n",
       "      <td>-0.281790</td>\n",
       "      <td>-0.052834</td>\n",
       "      <td>1</td>\n",
       "      <td>0.0</td>\n",
       "      <td>1</td>\n",
       "      <td>-0.934391</td>\n",
       "      <td>-0.521607</td>\n",
       "      <td>1.872131</td>\n",
       "      <td>-1.421836</td>\n",
       "      <td>-0.096985</td>\n",
       "      <td>0.100990</td>\n",
       "      <td>2.168885</td>\n",
       "      <td>4.050438</td>\n",
       "      <td>-0.948864</td>\n",
       "      <td>-2.115094</td>\n",
       "      <td>-0.104565</td>\n",
       "      <td>-2.394190</td>\n",
       "      <td>-0.787635</td>\n",
       "      <td>0.156139</td>\n",
       "      <td>-0.424894</td>\n",
       "      <td>-0.764850</td>\n",
       "      <td>0.955208</td>\n",
       "      <td>-1.180574</td>\n",
       "      <td>-0.508472</td>\n",
       "      <td>0.596519</td>\n",
       "      <td>-2.213034</td>\n",
       "      <td>-0.315977</td>\n",
       "      <td>0.613867</td>\n",
       "      <td>0.042369</td>\n",
       "      <td>1.434824</td>\n",
       "      <td>-0.349713</td>\n",
       "      <td>0</td>\n",
       "      <td>1</td>\n",
       "      <td>0</td>\n",
       "      <td>0</td>\n",
       "      <td>0</td>\n",
       "      <td>0</td>\n",
       "      <td>0</td>\n",
       "      <td>0</td>\n",
       "      <td>0</td>\n",
       "      <td>1</td>\n",
       "      <td>0</td>\n",
       "      <td>0</td>\n",
       "      <td>1</td>\n",
       "      <td>0</td>\n",
       "      <td>1</td>\n",
       "      <td>0</td>\n",
       "      <td>0</td>\n",
       "      <td>0</td>\n",
       "      <td>0</td>\n",
       "      <td>1</td>\n",
       "    </tr>\n",
       "    <tr>\n",
       "      <th>3</th>\n",
       "      <td>16222</td>\n",
       "      <td>0</td>\n",
       "      <td>1.193834</td>\n",
       "      <td>0</td>\n",
       "      <td>0</td>\n",
       "      <td>-0.418815</td>\n",
       "      <td>-2.057471</td>\n",
       "      <td>0.333797</td>\n",
       "      <td>-1.629771</td>\n",
       "      <td>0</td>\n",
       "      <td>0.0</td>\n",
       "      <td>1</td>\n",
       "      <td>-1.214975</td>\n",
       "      <td>0.786083</td>\n",
       "      <td>-0.587943</td>\n",
       "      <td>-0.162379</td>\n",
       "      <td>-0.763678</td>\n",
       "      <td>-0.199072</td>\n",
       "      <td>-0.668956</td>\n",
       "      <td>-0.185170</td>\n",
       "      <td>0.820066</td>\n",
       "      <td>-0.225018</td>\n",
       "      <td>-0.604829</td>\n",
       "      <td>0.418574</td>\n",
       "      <td>-0.200770</td>\n",
       "      <td>-0.102851</td>\n",
       "      <td>-0.424894</td>\n",
       "      <td>-0.401163</td>\n",
       "      <td>-0.342548</td>\n",
       "      <td>1.250336</td>\n",
       "      <td>0.608238</td>\n",
       "      <td>0.596519</td>\n",
       "      <td>0.451868</td>\n",
       "      <td>-0.315977</td>\n",
       "      <td>0.613867</td>\n",
       "      <td>-0.023902</td>\n",
       "      <td>-1.363864</td>\n",
       "      <td>-1.030688</td>\n",
       "      <td>0</td>\n",
       "      <td>1</td>\n",
       "      <td>0</td>\n",
       "      <td>0</td>\n",
       "      <td>0</td>\n",
       "      <td>0</td>\n",
       "      <td>1</td>\n",
       "      <td>0</td>\n",
       "      <td>0</td>\n",
       "      <td>0</td>\n",
       "      <td>0</td>\n",
       "      <td>0</td>\n",
       "      <td>0</td>\n",
       "      <td>1</td>\n",
       "      <td>1</td>\n",
       "      <td>0</td>\n",
       "      <td>0</td>\n",
       "      <td>0</td>\n",
       "      <td>1</td>\n",
       "      <td>0</td>\n",
       "    </tr>\n",
       "    <tr>\n",
       "      <th>4</th>\n",
       "      <td>101655</td>\n",
       "      <td>1</td>\n",
       "      <td>0.759731</td>\n",
       "      <td>0</td>\n",
       "      <td>0</td>\n",
       "      <td>-0.418815</td>\n",
       "      <td>-1.244723</td>\n",
       "      <td>-0.281790</td>\n",
       "      <td>-0.052834</td>\n",
       "      <td>1</td>\n",
       "      <td>0.0</td>\n",
       "      <td>1</td>\n",
       "      <td>1.434987</td>\n",
       "      <td>0.516365</td>\n",
       "      <td>-0.288111</td>\n",
       "      <td>-0.444378</td>\n",
       "      <td>-0.096985</td>\n",
       "      <td>-0.199072</td>\n",
       "      <td>-0.668956</td>\n",
       "      <td>-0.185170</td>\n",
       "      <td>0.820066</td>\n",
       "      <td>-0.092438</td>\n",
       "      <td>-0.104565</td>\n",
       "      <td>-2.313257</td>\n",
       "      <td>0.231312</td>\n",
       "      <td>-0.517029</td>\n",
       "      <td>2.749057</td>\n",
       "      <td>-0.401163</td>\n",
       "      <td>-0.342548</td>\n",
       "      <td>-0.951625</td>\n",
       "      <td>0.686752</td>\n",
       "      <td>0.596519</td>\n",
       "      <td>0.451868</td>\n",
       "      <td>-0.315977</td>\n",
       "      <td>-1.629017</td>\n",
       "      <td>-0.023902</td>\n",
       "      <td>-0.844691</td>\n",
       "      <td>0.360299</td>\n",
       "      <td>0</td>\n",
       "      <td>0</td>\n",
       "      <td>0</td>\n",
       "      <td>0</td>\n",
       "      <td>0</td>\n",
       "      <td>0</td>\n",
       "      <td>0</td>\n",
       "      <td>1</td>\n",
       "      <td>0</td>\n",
       "      <td>0</td>\n",
       "      <td>0</td>\n",
       "      <td>0</td>\n",
       "      <td>0</td>\n",
       "      <td>1</td>\n",
       "      <td>1</td>\n",
       "      <td>0</td>\n",
       "      <td>0</td>\n",
       "      <td>0</td>\n",
       "      <td>0</td>\n",
       "      <td>1</td>\n",
       "    </tr>\n",
       "  </tbody>\n",
       "</table>\n",
       "</div>"
      ],
      "text/plain": [
       "   client_id  sex       age  car  car_type  decline_app_cnt  score_bki  \\\n",
       "0      25905    1  1.975219    1         1        -0.418815  -2.008753   \n",
       "1      63161    0  1.714757    0         0        -0.418815  -1.532276   \n",
       "2      25887    1 -1.237142    1         0         2.621662  -1.408142   \n",
       "3      16222    0  1.193834    0         0        -0.418815  -2.057471   \n",
       "4     101655    1  0.759731    0         0        -0.418815  -1.244723   \n",
       "\n",
       "   bki_request_cnt    income  foreign_passport  default  Train      days  \\\n",
       "0        -0.281790 -0.786080                 0      0.0      1 -0.934391   \n",
       "1         0.770563 -0.708472                 0      0.0      1  0.281474   \n",
       "2        -0.281790 -0.052834                 1      0.0      1 -0.934391   \n",
       "3         0.333797 -1.629771                 0      0.0      1 -1.214975   \n",
       "4        -0.281790 -0.052834                 1      0.0      1  1.434987   \n",
       "\n",
       "   priznak_1  priznak_2  priznak_3  priznak_4  priznak_5  priznak_6  \\\n",
       "0  -2.296030  -0.587943   0.105112  -0.215311  -0.199072   1.104695   \n",
       "1   0.654775  -0.587943   0.129718  -0.865709  -0.199072  -0.668956   \n",
       "2  -0.521607   1.872131  -1.421836  -0.096985   0.100990   2.168885   \n",
       "3   0.786083  -0.587943  -0.162379  -0.763678  -0.199072  -0.668956   \n",
       "4   0.516365  -0.288111  -0.444378  -0.096985  -0.199072  -0.668956   \n",
       "\n",
       "   priznak_7  priznak_8  priznak_9  priznak_10  priznak_11  priznak_12  \\\n",
       "0  -0.185170  -0.948864   0.172040   -0.104565    0.418574    1.100701   \n",
       "1  -0.185170   0.820066   0.209797   -0.472532    0.418574    1.100679   \n",
       "2   4.050438  -0.948864  -2.115094   -0.104565   -2.394190   -0.787635   \n",
       "3  -0.185170   0.820066  -0.225018   -0.604829    0.418574   -0.200770   \n",
       "4  -0.185170   0.820066  -0.092438   -0.104565   -2.313257    0.231312   \n",
       "\n",
       "   priznak_13  priznak_14  priznak_15  priznak_16  priznak_17  priznak_18  \\\n",
       "0   -0.268003   -0.424894    0.871743   -0.342548   -0.895842    0.226195   \n",
       "1   -0.515153   -0.424894    2.326493   -0.342548   -0.862382    0.359502   \n",
       "2    0.156139   -0.424894   -0.764850    0.955208   -1.180574   -0.508472   \n",
       "3   -0.102851   -0.424894   -0.401163   -0.342548    1.250336    0.608238   \n",
       "4   -0.517029    2.749057   -0.401163   -0.342548   -0.951625    0.686752   \n",
       "\n",
       "   priznak_19  priznak_20  priznak_21  priznak_22  priznak_23  priznak_24  \\\n",
       "0    0.596519    0.451868   -0.315977    0.613867   -0.023902   -1.568152   \n",
       "1    0.596519    0.451868   -0.315977    0.613867   -0.023902   -1.451676   \n",
       "2    0.596519   -2.213034   -0.315977    0.613867    0.042369    1.434824   \n",
       "3    0.596519    0.451868   -0.315977    0.613867   -0.023902   -1.363864   \n",
       "4    0.596519    0.451868   -0.315977   -1.629017   -0.023902   -0.844691   \n",
       "\n",
       "   priznak_25  education_PGR  education_SCH  education_UGR  region_rating_20  \\\n",
       "0   -1.119981              0              1              0                 0   \n",
       "1   -1.093218              0              1              0                 0   \n",
       "2   -0.349713              0              1              0                 0   \n",
       "3   -1.030688              0              1              0                 0   \n",
       "4    0.360299              0              0              0                 0   \n",
       "\n",
       "   region_rating_30  region_rating_40  region_rating_50  region_rating_60  \\\n",
       "0                 0                 0                 1                 0   \n",
       "1                 0                 0                 1                 0   \n",
       "2                 0                 0                 0                 0   \n",
       "3                 0                 0                 1                 0   \n",
       "4                 0                 0                 0                 1   \n",
       "\n",
       "   region_rating_70  home_address_1  home_address_3  work_address_1  \\\n",
       "0                 0               1               0               0   \n",
       "1                 0               0               0               0   \n",
       "2                 0               1               0               0   \n",
       "3                 0               0               0               0   \n",
       "4                 0               0               0               0   \n",
       "\n",
       "   work_address_2  work_address_3  sna_1  sna_2  first_time_1  first_time_2  \\\n",
       "0               1               0      0      0             1             0   \n",
       "1               0               1      0      0             1             0   \n",
       "2               1               0      1      0             0             0   \n",
       "3               0               1      1      0             0             0   \n",
       "4               0               1      1      0             0             0   \n",
       "\n",
       "   first_time_3  first_time_4  \n",
       "0             0             0  \n",
       "1             0             0  \n",
       "2             0             1  \n",
       "3             1             0  \n",
       "4             0             1  "
      ]
     },
     "execution_count": 37,
     "metadata": {},
     "output_type": "execute_result"
    }
   ],
   "source": [
    "data.head()"
   ]
  },
  {
   "cell_type": "markdown",
   "id": "331887d7",
   "metadata": {
    "papermill": {
     "duration": 0.109335,
     "end_time": "2021-10-12T16:27:03.728270",
     "exception": false,
     "start_time": "2021-10-12T16:27:03.618935",
     "status": "completed"
    },
    "tags": []
   },
   "source": [
    "#### Построение модели"
   ]
  },
  {
   "cell_type": "code",
   "execution_count": 38,
   "id": "b7c6f0d8",
   "metadata": {
    "execution": {
     "iopub.execute_input": "2021-10-12T16:27:03.963855Z",
     "iopub.status.busy": "2021-10-12T16:27:03.963114Z",
     "iopub.status.idle": "2021-10-12T16:27:04.009696Z",
     "shell.execute_reply": "2021-10-12T16:27:04.010252Z",
     "shell.execute_reply.started": "2021-10-12T16:11:04.362666Z"
    },
    "papermill": {
     "duration": 0.167141,
     "end_time": "2021-10-12T16:27:04.010432",
     "exception": false,
     "start_time": "2021-10-12T16:27:03.843291",
     "status": "completed"
    },
    "tags": []
   },
   "outputs": [],
   "source": [
    "train_data = data.query('Train == 1').drop(['Train', 'client_id'], axis=1)\n",
    "test_data = data.query('Train == 0').drop(['Train', 'client_id', 'default'], axis=1)\n",
    "y = train_data.default.values\n",
    "X = train_data.drop(['default'], axis=1)"
   ]
  },
  {
   "cell_type": "code",
   "execution_count": 39,
   "id": "2ea4c3d6",
   "metadata": {
    "execution": {
     "iopub.execute_input": "2021-10-12T16:27:04.236501Z",
     "iopub.status.busy": "2021-10-12T16:27:04.235456Z",
     "iopub.status.idle": "2021-10-12T16:27:04.272006Z",
     "shell.execute_reply": "2021-10-12T16:27:04.271349Z",
     "shell.execute_reply.started": "2021-10-12T16:11:04.422796Z"
    },
    "papermill": {
     "duration": 0.150751,
     "end_time": "2021-10-12T16:27:04.272185",
     "exception": false,
     "start_time": "2021-10-12T16:27:04.121434",
     "status": "completed"
    },
    "tags": []
   },
   "outputs": [],
   "source": [
    "X_train, X_test, y_train, y_test = train_test_split(X, y, test_size=0.20, random_state=42)"
   ]
  },
  {
   "cell_type": "markdown",
   "id": "bcf951f8",
   "metadata": {
    "papermill": {
     "duration": 0.111396,
     "end_time": "2021-10-12T16:27:04.490951",
     "exception": false,
     "start_time": "2021-10-12T16:27:04.379555",
     "status": "completed"
    },
    "tags": []
   },
   "source": [
    "#### Обучение модели"
   ]
  },
  {
   "cell_type": "code",
   "execution_count": 40,
   "id": "b82fe7ce",
   "metadata": {
    "execution": {
     "iopub.execute_input": "2021-10-12T16:27:04.717110Z",
     "iopub.status.busy": "2021-10-12T16:27:04.716036Z",
     "iopub.status.idle": "2021-10-12T16:27:06.777410Z",
     "shell.execute_reply": "2021-10-12T16:27:06.777903Z",
     "shell.execute_reply.started": "2021-10-12T16:11:04.460491Z"
    },
    "papermill": {
     "duration": 2.177663,
     "end_time": "2021-10-12T16:27:06.778075",
     "exception": false,
     "start_time": "2021-10-12T16:27:04.600412",
     "status": "completed"
    },
    "tags": []
   },
   "outputs": [
    {
     "data": {
      "image/png": "[encoded data removed]",
      "text/plain": [
       "<Figure size 432x288 with 1 Axes>"
      ]
     },
     "metadata": {
      "needs_background": "light"
     },
     "output_type": "display_data"
    }
   ],
   "source": [
    "model = LogisticRegression(random_state=42, solver='liblinear')\n",
    "model.fit(X_train, y_train)\n",
    "y_pred_proba = model.predict_proba(X_test)[:, 1]\n",
    "y_pred = model.predict(X_test)\n",
    "fpr, tpr, threshold = roc_curve(y_test, y_pred_proba)\n",
    "roc_auc = roc_auc_score(y_test, y_pred_proba)\n",
    "plt.figure()\n",
    "plt.plot([0, 1], label='Baseline', linestyle='--')\n",
    "plt.plot(fpr, tpr, label='Regression')\n",
    "plt.title('Logistic Regression ROC AUC = %0.5f' % roc_auc)\n",
    "plt.ylabel('True Positive Rate')\n",
    "plt.xlabel('False Positive Rate')\n",
    "plt.legend(loc='lower right')\n",
    "plt.show()"
   ]
  },
  {
   "cell_type": "code",
   "execution_count": 41,
   "id": "090e401a",
   "metadata": {
    "execution": {
     "iopub.execute_input": "2021-10-12T16:27:07.003315Z",
     "iopub.status.busy": "2021-10-12T16:27:07.002234Z",
     "iopub.status.idle": "2021-10-12T16:27:07.037440Z",
     "shell.execute_reply": "2021-10-12T16:27:07.037916Z",
     "shell.execute_reply.started": "2021-10-12T16:11:06.556666Z"
    },
    "papermill": {
     "duration": 0.149788,
     "end_time": "2021-10-12T16:27:07.038109",
     "exception": false,
     "start_time": "2021-10-12T16:27:06.888321",
     "status": "completed"
    },
    "tags": []
   },
   "outputs": [
    {
     "name": "stdout",
     "output_type": "stream",
     "text": [
      "accuracy_score: 0.8754065040650406\n",
      "precision_score: 0.4387755102040816\n",
      "recall_score: 0.02353585112205802\n",
      "f1_score: 0.04467532467532468\n",
      "roc_auc: 0.746664157841659\n"
     ]
    }
   ],
   "source": [
    "print('accuracy_score:', accuracy_score(y_test, y_pred))\n",
    "print('precision_score:', precision_score(y_test, y_pred))\n",
    "print('recall_score:', recall_score(y_test, y_pred))\n",
    "print('f1_score:', f1_score(y_test, y_pred))\n",
    "print('roc_auc:', roc_auc_score(y_test, y_pred_proba))"
   ]
  },
  {
   "cell_type": "code",
   "execution_count": 42,
   "id": "178b6f20",
   "metadata": {
    "execution": {
     "iopub.execute_input": "2021-10-12T16:27:07.282084Z",
     "iopub.status.busy": "2021-10-12T16:27:07.281410Z",
     "iopub.status.idle": "2021-10-12T16:27:07.547997Z",
     "shell.execute_reply": "2021-10-12T16:27:07.548556Z",
     "shell.execute_reply.started": "2021-10-12T16:11:06.599440Z"
    },
    "papermill": {
     "duration": 0.401176,
     "end_time": "2021-10-12T16:27:07.548745",
     "exception": false,
     "start_time": "2021-10-12T16:27:07.147569",
     "status": "completed"
    },
    "tags": []
   },
   "outputs": [
    {
     "data": {
      "text/plain": [
       "<AxesSubplot:title={'center':'Confusion Matrix'}, xlabel='Predicted label', ylabel='True label'>"
      ]
     },
     "execution_count": 42,
     "metadata": {},
     "output_type": "execute_result"
    },
    {
     "data": {
      "image/png": "[encoded data removed]",
      "text/plain": [
       "<Figure size 360x360 with 2 Axes>"
      ]
     },
     "metadata": {
      "needs_background": "light"
     },
     "output_type": "display_data"
    }
   ],
   "source": [
    "skplt.metrics.plot_confusion_matrix(y_test, y_pred, figsize=(5, 5))"
   ]
  },
  {
   "cell_type": "markdown",
   "id": "642b70a5",
   "metadata": {
    "papermill": {
     "duration": 0.111841,
     "end_time": "2021-10-12T16:27:07.771756",
     "exception": false,
     "start_time": "2021-10-12T16:27:07.659915",
     "status": "completed"
    },
    "tags": []
   },
   "source": [
    "Правим нашу модель предсказаний."
   ]
  },
  {
   "cell_type": "markdown",
   "id": "c1919d02",
   "metadata": {
    "papermill": {
     "duration": 0.133274,
     "end_time": "2021-10-12T16:27:08.020345",
     "exception": false,
     "start_time": "2021-10-12T16:27:07.887071",
     "status": "completed"
    },
    "tags": []
   },
   "source": [
    "**Настройка параметров**"
   ]
  },
  {
   "cell_type": "code",
   "execution_count": 43,
   "id": "b646e6d8",
   "metadata": {
    "execution": {
     "iopub.execute_input": "2021-10-12T16:27:08.252694Z",
     "iopub.status.busy": "2021-10-12T16:27:08.252013Z",
     "iopub.status.idle": "2021-10-12T16:27:08.255202Z",
     "shell.execute_reply": "2021-10-12T16:27:08.254542Z",
     "shell.execute_reply.started": "2021-10-12T16:11:06.904045Z"
    },
    "papermill": {
     "duration": 0.11935,
     "end_time": "2021-10-12T16:27:08.255348",
     "exception": false,
     "start_time": "2021-10-12T16:27:08.135998",
     "status": "completed"
    },
    "tags": []
   },
   "outputs": [],
   "source": [
    "#C = [0.1, 1, 10]\n",
    "#penalty = ['l2']\n",
    "#solver = ['newton-cg','liblinear','sag', 'saga', 'lbfgs']\n",
    "#class_weight = ['balanced', {1:0.7, 0:0.3}]\n",
    "#param = dict(penalty=penalty, solver=solver, class_weight=class_weight, C=C)\n",
    "#gridsearch = GridSearchCV(model, param_grid=param, scoring='f1', n_jobs=-1, cv=5)\n",
    "#grid_result = gridsearch.fit(X_train, y_train)\n",
    "#print('Best Score: ', grid_result.best_score_)\n",
    "#print('Best Params: ', grid_result.best_params_)"
   ]
  },
  {
   "cell_type": "code",
   "execution_count": 44,
   "id": "c5e0a650",
   "metadata": {
    "execution": {
     "iopub.execute_input": "2021-10-12T16:27:08.483622Z",
     "iopub.status.busy": "2021-10-12T16:27:08.480649Z",
     "iopub.status.idle": "2021-10-12T16:27:12.871670Z",
     "shell.execute_reply": "2021-10-12T16:27:12.870954Z",
     "shell.execute_reply.started": "2021-10-12T16:11:06.910404Z"
    },
    "papermill": {
     "duration": 4.508086,
     "end_time": "2021-10-12T16:27:12.871829",
     "exception": false,
     "start_time": "2021-10-12T16:27:08.363743",
     "status": "completed"
    },
    "tags": []
   },
   "outputs": [
    {
     "data": {
      "image/png": "[encoded data removed]",
      "text/plain": [
       "<Figure size 432x288 with 1 Axes>"
      ]
     },
     "metadata": {
      "needs_background": "light"
     },
     "output_type": "display_data"
    }
   ],
   "source": [
    "model = LogisticRegression(random_state=42, C=10, penalty='l2', class_weight={\n",
    "                            1: 0.7, 0: 0.3}, solver='newton-cg', max_iter=10000)\n",
    "model.fit(X_train, y_train)\n",
    "y_pred_proba = model.predict_proba(X_test)[:, 1]\n",
    "y_pred = model.predict(X_test)\n",
    "fpr, tpr, threshold = roc_curve(y_test, y_pred_proba)\n",
    "roc_auc = roc_auc_score(y_test, y_pred_proba)\n",
    "plt.figure()\n",
    "plt.plot([0, 1], label='Baseline', linestyle='--')\n",
    "plt.plot(fpr, tpr, label='Regression')\n",
    "plt.title('Logistic Regression ROC AUC = %0.5f' % roc_auc)\n",
    "plt.ylabel('True Positive Rate')\n",
    "plt.xlabel('False Positive Rate')\n",
    "plt.legend(loc='lower right')\n",
    "plt.show()"
   ]
  },
  {
   "cell_type": "code",
   "execution_count": 45,
   "id": "df6683f8",
   "metadata": {
    "execution": {
     "iopub.execute_input": "2021-10-12T16:27:13.101047Z",
     "iopub.status.busy": "2021-10-12T16:27:13.099984Z",
     "iopub.status.idle": "2021-10-12T16:27:13.137179Z",
     "shell.execute_reply": "2021-10-12T16:27:13.137698Z",
     "shell.execute_reply.started": "2021-10-12T16:11:12.330565Z"
    },
    "papermill": {
     "duration": 0.154783,
     "end_time": "2021-10-12T16:27:13.137874",
     "exception": false,
     "start_time": "2021-10-12T16:27:12.983091",
     "status": "completed"
    },
    "tags": []
   },
   "outputs": [
    {
     "name": "stdout",
     "output_type": "stream",
     "text": [
      "accuracy_score: 0.8557588075880759\n",
      "precision_score: 0.36222627737226276\n",
      "recall_score: 0.21729611384783798\n",
      "f1_score: 0.2716387273349299\n",
      "roc_auc: 0.7464810322375972\n"
     ]
    }
   ],
   "source": [
    "print('accuracy_score:', accuracy_score(y_test, y_pred))\n",
    "print('precision_score:', precision_score(y_test, y_pred))\n",
    "print('recall_score:', recall_score(y_test, y_pred))\n",
    "print('f1_score:', f1_score(y_test, y_pred))\n",
    "print('roc_auc:', roc_auc_score(y_test, y_pred_proba))"
   ]
  },
  {
   "cell_type": "code",
   "execution_count": 46,
   "id": "6443936f",
   "metadata": {
    "execution": {
     "iopub.execute_input": "2021-10-12T16:27:13.362006Z",
     "iopub.status.busy": "2021-10-12T16:27:13.361011Z",
     "iopub.status.idle": "2021-10-12T16:27:13.652745Z",
     "shell.execute_reply": "2021-10-12T16:27:13.651398Z",
     "shell.execute_reply.started": "2021-10-12T16:11:12.373955Z"
    },
    "papermill": {
     "duration": 0.405183,
     "end_time": "2021-10-12T16:27:13.652916",
     "exception": false,
     "start_time": "2021-10-12T16:27:13.247733",
     "status": "completed"
    },
    "tags": []
   },
   "outputs": [
    {
     "data": {
      "text/plain": [
       "<AxesSubplot:title={'center':'Confusion Matrix'}, xlabel='Predicted label', ylabel='True label'>"
      ]
     },
     "execution_count": 46,
     "metadata": {},
     "output_type": "execute_result"
    },
    {
     "data": {
      "image/png": "[encoded data removed]",
      "text/plain": [
       "<Figure size 360x360 with 2 Axes>"
      ]
     },
     "metadata": {
      "needs_background": "light"
     },
     "output_type": "display_data"
    }
   ],
   "source": [
    "skplt.metrics.plot_confusion_matrix(y_test, y_pred, figsize=(5, 5))"
   ]
  },
  {
   "cell_type": "markdown",
   "id": "2de32a83",
   "metadata": {
    "papermill": {
     "duration": 0.110814,
     "end_time": "2021-10-12T16:27:13.875540",
     "exception": false,
     "start_time": "2021-10-12T16:27:13.764726",
     "status": "completed"
    },
    "tags": []
   },
   "source": [
    "**Вывод:** при ситуации когда наша целевая переменная была несбалансированна у нас получались низкие значения у f1-score метрики. Оптимизировав гиперпараметры мы приводим матрицу к удобному виду и улучшению f1-score метрики."
   ]
  },
  {
   "cell_type": "markdown",
   "id": "41a72f27",
   "metadata": {
    "papermill": {
     "duration": 0.117421,
     "end_time": "2021-10-12T16:27:14.105308",
     "exception": false,
     "start_time": "2021-10-12T16:27:13.987887",
     "status": "completed"
    },
    "tags": []
   },
   "source": [
    "#### Submit"
   ]
  },
  {
   "cell_type": "code",
   "execution_count": 47,
   "id": "67bd2872",
   "metadata": {
    "execution": {
     "iopub.execute_input": "2021-10-12T16:27:14.343590Z",
     "iopub.status.busy": "2021-10-12T16:27:14.342793Z",
     "iopub.status.idle": "2021-10-12T16:27:14.358517Z",
     "shell.execute_reply": "2021-10-12T16:27:14.359509Z",
     "shell.execute_reply.started": "2021-10-12T16:11:12.671503Z"
    },
    "papermill": {
     "duration": 0.136135,
     "end_time": "2021-10-12T16:27:14.359797",
     "exception": false,
     "start_time": "2021-10-12T16:27:14.223662",
     "status": "completed"
    },
    "tags": []
   },
   "outputs": [
    {
     "data": {
      "text/plain": [
       "array([0.08247734, 0.50648494, 0.14884863, ..., 0.47600604, 0.43231059,\n",
       "       0.42715255])"
      ]
     },
     "execution_count": 47,
     "metadata": {},
     "output_type": "execute_result"
    }
   ],
   "source": [
    "predict_submission = model.predict_proba(test_data)[:,1]\n",
    "predict_submission"
   ]
  },
  {
   "cell_type": "code",
   "execution_count": 48,
   "id": "b938bc45",
   "metadata": {
    "execution": {
     "iopub.execute_input": "2021-10-12T16:27:14.675517Z",
     "iopub.status.busy": "2021-10-12T16:27:14.674516Z",
     "iopub.status.idle": "2021-10-12T16:27:14.767715Z",
     "shell.execute_reply": "2021-10-12T16:27:14.768595Z",
     "shell.execute_reply.started": "2021-10-12T16:11:12.701084Z"
    },
    "papermill": {
     "duration": 0.226158,
     "end_time": "2021-10-12T16:27:14.768849",
     "exception": false,
     "start_time": "2021-10-12T16:27:14.542691",
     "status": "completed"
    },
    "tags": []
   },
   "outputs": [],
   "source": [
    "for_ids = pd.read_csv('/kaggle/input/sf-dst-scoring/test.csv')"
   ]
  },
  {
   "cell_type": "code",
   "execution_count": 49,
   "id": "30f447c5",
   "metadata": {
    "execution": {
     "iopub.execute_input": "2021-10-12T16:27:15.023699Z",
     "iopub.status.busy": "2021-10-12T16:27:15.022270Z",
     "iopub.status.idle": "2021-10-12T16:27:15.036444Z",
     "shell.execute_reply": "2021-10-12T16:27:15.037040Z",
     "shell.execute_reply.started": "2021-10-12T16:11:12.841225Z"
    },
    "papermill": {
     "duration": 0.140167,
     "end_time": "2021-10-12T16:27:15.037235",
     "exception": false,
     "start_time": "2021-10-12T16:27:14.897068",
     "status": "completed"
    },
    "tags": []
   },
   "outputs": [
    {
     "data": {
      "text/html": [
       "<div>\n",
       "<style scoped>\n",
       "    .dataframe tbody tr th:only-of-type {\n",
       "        vertical-align: middle;\n",
       "    }\n",
       "\n",
       "    .dataframe tbody tr th {\n",
       "        vertical-align: top;\n",
       "    }\n",
       "\n",
       "    .dataframe thead th {\n",
       "        text-align: right;\n",
       "    }\n",
       "</style>\n",
       "<table border=\"1\" class=\"dataframe\">\n",
       "  <thead>\n",
       "    <tr style=\"text-align: right;\">\n",
       "      <th></th>\n",
       "      <th>client_id</th>\n",
       "      <th>default</th>\n",
       "    </tr>\n",
       "  </thead>\n",
       "  <tbody>\n",
       "    <tr>\n",
       "      <th>0</th>\n",
       "      <td>74835</td>\n",
       "      <td>0.082477</td>\n",
       "    </tr>\n",
       "    <tr>\n",
       "      <th>1</th>\n",
       "      <td>17527</td>\n",
       "      <td>0.506485</td>\n",
       "    </tr>\n",
       "    <tr>\n",
       "      <th>2</th>\n",
       "      <td>75683</td>\n",
       "      <td>0.148849</td>\n",
       "    </tr>\n",
       "    <tr>\n",
       "      <th>3</th>\n",
       "      <td>26883</td>\n",
       "      <td>0.167250</td>\n",
       "    </tr>\n",
       "    <tr>\n",
       "      <th>4</th>\n",
       "      <td>28862</td>\n",
       "      <td>0.047134</td>\n",
       "    </tr>\n",
       "    <tr>\n",
       "      <th>...</th>\n",
       "      <td>...</td>\n",
       "      <td>...</td>\n",
       "    </tr>\n",
       "    <tr>\n",
       "      <th>36344</th>\n",
       "      <td>83775</td>\n",
       "      <td>0.567145</td>\n",
       "    </tr>\n",
       "    <tr>\n",
       "      <th>36345</th>\n",
       "      <td>106254</td>\n",
       "      <td>0.039441</td>\n",
       "    </tr>\n",
       "    <tr>\n",
       "      <th>36346</th>\n",
       "      <td>81852</td>\n",
       "      <td>0.476006</td>\n",
       "    </tr>\n",
       "    <tr>\n",
       "      <th>36347</th>\n",
       "      <td>1971</td>\n",
       "      <td>0.432311</td>\n",
       "    </tr>\n",
       "    <tr>\n",
       "      <th>36348</th>\n",
       "      <td>69044</td>\n",
       "      <td>0.427153</td>\n",
       "    </tr>\n",
       "  </tbody>\n",
       "</table>\n",
       "<p>36349 rows × 2 columns</p>\n",
       "</div>"
      ],
      "text/plain": [
       "       client_id   default\n",
       "0          74835  0.082477\n",
       "1          17527  0.506485\n",
       "2          75683  0.148849\n",
       "3          26883  0.167250\n",
       "4          28862  0.047134\n",
       "...          ...       ...\n",
       "36344      83775  0.567145\n",
       "36345     106254  0.039441\n",
       "36346      81852  0.476006\n",
       "36347       1971  0.432311\n",
       "36348      69044  0.427153\n",
       "\n",
       "[36349 rows x 2 columns]"
      ]
     },
     "execution_count": 49,
     "metadata": {},
     "output_type": "execute_result"
    }
   ],
   "source": [
    "sample_submission = pd.DataFrame(columns = ['client_id','default'])\n",
    "sample_submission['client_id'] = for_ids.client_id\n",
    "sample_submission['default'] = predict_submission\n",
    "sample_submission"
   ]
  },
  {
   "cell_type": "code",
   "execution_count": 50,
   "id": "e367cc12",
   "metadata": {
    "execution": {
     "iopub.execute_input": "2021-10-12T16:27:15.267242Z",
     "iopub.status.busy": "2021-10-12T16:27:15.266188Z",
     "iopub.status.idle": "2021-10-12T16:27:15.409744Z",
     "shell.execute_reply": "2021-10-12T16:27:15.409124Z",
     "shell.execute_reply.started": "2021-10-12T16:11:12.870538Z"
    },
    "papermill": {
     "duration": 0.260069,
     "end_time": "2021-10-12T16:27:15.409892",
     "exception": false,
     "start_time": "2021-10-12T16:27:15.149823",
     "status": "completed"
    },
    "tags": []
   },
   "outputs": [],
   "source": [
    "sample_submission.to_csv('submission.csv', index=False)"
   ]
  }
 ],
 "metadata": {
  "kernelspec": {
   "display_name": "Python 3",
   "language": "python",
   "name": "python3"
  },
  "language_info": {
   "codemirror_mode": {
    "name": "ipython",
    "version": 3
   },
   "file_extension": ".py",
   "mimetype": "text/x-python",
   "name": "python",
   "nbconvert_exporter": "python",
   "pygments_lexer": "ipython3",
   "version": "3.7.10"
  },
  "papermill": {
   "default_parameters": {},
   "duration": 72.871924,
   "end_time": "2021-10-12T16:27:16.235139",
   "environment_variables": {},
   "exception": null,
   "input_path": "__notebook__.ipynb",
   "output_path": "__notebook__.ipynb",
   "parameters": {},
   "start_time": "2021-10-12T16:26:03.363215",
   "version": "2.3.3"
  }
 },
 "nbformat": 4,
 "nbformat_minor": 5
}
