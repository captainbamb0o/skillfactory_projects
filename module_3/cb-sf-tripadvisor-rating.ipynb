{
 "cells": [
  {
   "cell_type": "markdown",
   "metadata": {},
   "source": [
    "# Predict TripAdvisor Rating\n",
    "## В этом соревновании нам предстоит предсказать рейтинг ресторана в TripAdvisor\n",
    "**По ходу задачи:**\n",
    "* Прокачаем работу с pandas\n",
    "* Научимся работать с Kaggle Notebooks\n",
    "* Поймем как делать предобработку различных данных\n",
    "* Научимся работать с пропущенными данными (Nan)\n",
    "* Познакомимся с различными видами кодирования признаков\n",
    "* Немного попробуем [Feature Engineering](https://ru.wikipedia.org/wiki/Конструирование_признаков) (генерировать новые признаки)\n",
    "* И совсем немного затронем ML\n",
    "* И многое другое...   \n",
    "\n",
    "\n",
    "\n",
    "### И самое важное, все это вы сможете сделать самостоятельно!\n",
    "\n",
    "*Этот Ноутбук являетсся Примером/Шаблоном к этому соревнованию (Baseline) и не служит готовым решением!*   \n",
    "Вы можете использовать его как основу для построения своего решения.\n",
    "\n",
    "> что такое baseline решение, зачем оно нужно и почему предоставлять baseline к соревнованию стало важным стандартом на kaggle и других площадках.   \n",
    "**baseline** создается больше как шаблон, где можно посмотреть как происходит обращение с входящими данными и что нужно получить на выходе. При этом МЛ начинка может быть достаточно простой, просто для примера. Это помогает быстрее приступить к самому МЛ, а не тратить ценное время на чисто инженерные задачи. \n",
    "Также baseline являеться хорошей опорной точкой по метрике. Если твое решение хуже baseline - ты явно делаешь что-то не то и стоит попробовать другой путь) \n",
    "\n",
    "В контексте нашего соревнования baseline идет с небольшими примерами того, что можно делать с данными, и с инструкцией, что делать дальше, чтобы улучшить результат.  Вообще готовым решением это сложно назвать, так как используются всего 2 самых простых признака (а остальные исключаются)."
   ]
  },
  {
   "cell_type": "markdown",
   "metadata": {},
   "source": [
    "# import"
   ]
  },
  {
   "cell_type": "code",
   "execution_count": 1,
   "metadata": {
    "_cell_guid": "b1076dfc-b9ad-4769-8c92-a6c4dae69d19",
    "_uuid": "8f2839f25d086af736a60e9eeb907d3b93b6e0e5",
    "execution": {
     "iopub.execute_input": "2021-07-25T15:49:07.342335Z",
     "iopub.status.busy": "2021-07-25T15:49:07.341717Z",
     "iopub.status.idle": "2021-07-25T15:49:08.605709Z",
     "shell.execute_reply": "2021-07-25T15:49:08.604735Z",
     "shell.execute_reply.started": "2021-07-25T15:49:07.341996Z"
    }
   },
   "outputs": [
    {
     "name": "stdout",
     "output_type": "stream",
     "text": [
      "/kaggle/input/sf-dst-restaurant-rating/sample_submission.csv\n",
      "/kaggle/input/sf-dst-restaurant-rating/main_task.csv\n",
      "/kaggle/input/sf-dst-restaurant-rating/kaggle_task.csv\n"
     ]
    }
   ],
   "source": [
    "# This Python 3 environment comes with many helpful analytics libraries installed\n",
    "# It is defined by the kaggle/python docker image: https://github.com/kaggle/docker-python\n",
    "# For example, here's several helpful packages to load in \n",
    "\n",
    "import pandas as pd\n",
    "import numpy as np\n",
    "import seaborn as sns\n",
    "import matplotlib.pyplot as plt\n",
    "import re\n",
    "import math\n",
    "from sklearn.preprocessing import MinMaxScaler\n",
    "from itertools import combinations\n",
    "from scipy.stats import ttest_ind\n",
    "from datetime import datetime, timedelta\n",
    "from sklearn.model_selection import train_test_split\n",
    "\n",
    "pd.set_option('display.max_rows', 50)\n",
    "pd.set_option('display.max_columns', 50)\n",
    "import warnings; warnings.simplefilter('ignore')\n",
    "\n",
    "# Импортируем необходимые библиотеки:\n",
    "from sklearn.ensemble import RandomForestRegressor # инструмент для создания и обучения модели\n",
    "from sklearn import metrics # инструменты для оценки точности модели\n",
    "\n",
    "# Input data files are available in the \"../input/\" directory.\n",
    "# For example, running this (by clicking run or pressing Shift+Enter) will list all files under the input directory\n",
    "\n",
    "import os\n",
    "for dirname, _, filenames in os.walk('/kaggle/input'):\n",
    "    for filename in filenames:\n",
    "        print(os.path.join(dirname, filename))\n",
    "\n",
    "# Any results you write to the current directory are saved as output."
   ]
  },
  {
   "cell_type": "code",
   "execution_count": 2,
   "metadata": {
    "execution": {
     "iopub.execute_input": "2021-07-25T15:49:08.608311Z",
     "iopub.status.busy": "2021-07-25T15:49:08.607923Z",
     "iopub.status.idle": "2021-07-25T15:49:08.613081Z",
     "shell.execute_reply": "2021-07-25T15:49:08.612002Z",
     "shell.execute_reply.started": "2021-07-25T15:49:08.608238Z"
    }
   },
   "outputs": [],
   "source": [
    "# всегда фиксируйте RANDOM_SEED, чтобы ваши эксперименты были воспроизводимы!\n",
    "RANDOM_SEED = 42"
   ]
  },
  {
   "cell_type": "code",
   "execution_count": 3,
   "metadata": {
    "execution": {
     "iopub.execute_input": "2021-07-25T15:49:08.614677Z",
     "iopub.status.busy": "2021-07-25T15:49:08.614433Z",
     "iopub.status.idle": "2021-07-25T15:49:10.950234Z",
     "shell.execute_reply": "2021-07-25T15:49:10.949063Z",
     "shell.execute_reply.started": "2021-07-25T15:49:08.614634Z"
    }
   },
   "outputs": [],
   "source": [
    "# зафиксируем версию пакетов, чтобы эксперименты были воспроизводимы:\n",
    "!pip freeze > requirements.txt"
   ]
  },
  {
   "cell_type": "markdown",
   "metadata": {},
   "source": [
    "# DATA"
   ]
  },
  {
   "cell_type": "code",
   "execution_count": 4,
   "metadata": {
    "_cell_guid": "79c7e3d0-c299-4dcb-8224-4455121ee9b0",
    "_uuid": "d629ff2d2480ee46fbb7e2d37f6b5fab8052498a",
    "execution": {
     "iopub.execute_input": "2021-07-25T15:49:10.952046Z",
     "iopub.status.busy": "2021-07-25T15:49:10.951800Z",
     "iopub.status.idle": "2021-07-25T15:49:11.253728Z",
     "shell.execute_reply": "2021-07-25T15:49:11.252738Z",
     "shell.execute_reply.started": "2021-07-25T15:49:10.952010Z"
    }
   },
   "outputs": [],
   "source": [
    "# загружаем датасеты\n",
    "DATA_DIR = '/kaggle/input/sf-dst-restaurant-rating/'\n",
    "df_train = pd.read_csv(DATA_DIR+'/main_task.csv')\n",
    "df_test = pd.read_csv(DATA_DIR+'kaggle_task.csv')\n",
    "sample_submission = pd.read_csv(DATA_DIR+'/sample_submission.csv')\n",
    "\n",
    "# отмечает тренировочный и тестовый датасет\n",
    "df_train['sample'] = 1 # помечаем где у нас трейн\n",
    "df_test['sample'] = 0 # помечаем где у нас тест\n",
    "df_test['Rating'] = 0 # в тесте у нас нет значения Rating, мы его должны предсказать, по этому пока просто заполняем нулями\n",
    "\n",
    "data = df_test.append(df_train, sort=False).reset_index(drop=True) # объединяем"
   ]
  },
  {
   "cell_type": "code",
   "execution_count": 5,
   "metadata": {
    "execution": {
     "iopub.execute_input": "2021-07-25T15:49:11.255384Z",
     "iopub.status.busy": "2021-07-25T15:49:11.255145Z",
     "iopub.status.idle": "2021-07-25T15:49:11.302727Z",
     "shell.execute_reply": "2021-07-25T15:49:11.301900Z",
     "shell.execute_reply.started": "2021-07-25T15:49:11.255348Z"
    }
   },
   "outputs": [
    {
     "name": "stdout",
     "output_type": "stream",
     "text": [
      "<class 'pandas.core.frame.DataFrame'>\n",
      "RangeIndex: 50000 entries, 0 to 49999\n",
      "Data columns (total 11 columns):\n",
      "Restaurant_id        50000 non-null object\n",
      "City                 50000 non-null object\n",
      "Cuisine Style        38410 non-null object\n",
      "Ranking              50000 non-null float64\n",
      "Price Range          32639 non-null object\n",
      "Number of Reviews    46800 non-null float64\n",
      "Reviews              49998 non-null object\n",
      "URL_TA               50000 non-null object\n",
      "ID_TA                50000 non-null object\n",
      "sample               50000 non-null int64\n",
      "Rating               50000 non-null float64\n",
      "dtypes: float64(3), int64(1), object(7)\n",
      "memory usage: 4.2+ MB\n"
     ]
    }
   ],
   "source": [
    "data.info()"
   ]
  },
  {
   "cell_type": "markdown",
   "metadata": {},
   "source": [
    "Подробнее по признакам:\n",
    "* City: Город \n",
    "* Cuisine Style: Кухня\n",
    "* Ranking: Ранг ресторана относительно других ресторанов в этом городе\n",
    "* Price Range: Цены в ресторане в 3 категориях\n",
    "* Number of Reviews: Количество отзывов\n",
    "* Reviews: 2 последних отзыва и даты этих отзывов\n",
    "* URL_TA: страница ресторана на 'www.tripadvisor.com' \n",
    "* ID_TA: ID ресторана в TripAdvisor\n",
    "* Rating: Рейтинг ресторана"
   ]
  },
  {
   "cell_type": "code",
   "execution_count": 6,
   "metadata": {
    "execution": {
     "iopub.execute_input": "2021-07-25T15:49:11.306861Z",
     "iopub.status.busy": "2021-07-25T15:49:11.306587Z",
     "iopub.status.idle": "2021-07-25T15:49:11.335881Z",
     "shell.execute_reply": "2021-07-25T15:49:11.335052Z",
     "shell.execute_reply.started": "2021-07-25T15:49:11.306816Z"
    }
   },
   "outputs": [
    {
     "data": {
      "text/html": [
       "<div>\n",
       "<style scoped>\n",
       "    .dataframe tbody tr th:only-of-type {\n",
       "        vertical-align: middle;\n",
       "    }\n",
       "\n",
       "    .dataframe tbody tr th {\n",
       "        vertical-align: top;\n",
       "    }\n",
       "\n",
       "    .dataframe thead th {\n",
       "        text-align: right;\n",
       "    }\n",
       "</style>\n",
       "<table border=\"1\" class=\"dataframe\">\n",
       "  <thead>\n",
       "    <tr style=\"text-align: right;\">\n",
       "      <th></th>\n",
       "      <th>Restaurant_id</th>\n",
       "      <th>City</th>\n",
       "      <th>Cuisine Style</th>\n",
       "      <th>Ranking</th>\n",
       "      <th>Price Range</th>\n",
       "      <th>Number of Reviews</th>\n",
       "      <th>Reviews</th>\n",
       "      <th>URL_TA</th>\n",
       "      <th>ID_TA</th>\n",
       "      <th>sample</th>\n",
       "      <th>Rating</th>\n",
       "    </tr>\n",
       "  </thead>\n",
       "  <tbody>\n",
       "    <tr>\n",
       "      <th>14972</th>\n",
       "      <td>id_1718</td>\n",
       "      <td>Lisbon</td>\n",
       "      <td>['European', 'Portuguese']</td>\n",
       "      <td>1720.0</td>\n",
       "      <td>$</td>\n",
       "      <td>119.0</td>\n",
       "      <td>[['Average food but good enough', 'Great exper...</td>\n",
       "      <td>/Restaurant_Review-g189158-d4766793-Reviews-Re...</td>\n",
       "      <td>d4766793</td>\n",
       "      <td>1</td>\n",
       "      <td>3.5</td>\n",
       "    </tr>\n",
       "    <tr>\n",
       "      <th>36544</th>\n",
       "      <td>id_449</td>\n",
       "      <td>Oporto</td>\n",
       "      <td>['Portuguese', 'Bar', 'Mediterranean', 'Europe...</td>\n",
       "      <td>450.0</td>\n",
       "      <td>$</td>\n",
       "      <td>140.0</td>\n",
       "      <td>[['Great little lunch spot', 'Great little fin...</td>\n",
       "      <td>/Restaurant_Review-g189180-d8319624-Reviews-Ca...</td>\n",
       "      <td>d8319624</td>\n",
       "      <td>1</td>\n",
       "      <td>4.0</td>\n",
       "    </tr>\n",
       "    <tr>\n",
       "      <th>17048</th>\n",
       "      <td>id_367</td>\n",
       "      <td>Barcelona</td>\n",
       "      <td>['Spanish', 'Grill']</td>\n",
       "      <td>368.0</td>\n",
       "      <td>$$$$</td>\n",
       "      <td>1285.0</td>\n",
       "      <td>[['Very authentic, nearly all locals. I felt.....</td>\n",
       "      <td>/Restaurant_Review-g187497-d969312-Reviews-Asa...</td>\n",
       "      <td>d969312</td>\n",
       "      <td>1</td>\n",
       "      <td>4.0</td>\n",
       "    </tr>\n",
       "    <tr>\n",
       "      <th>31937</th>\n",
       "      <td>id_1083</td>\n",
       "      <td>Warsaw</td>\n",
       "      <td>['Polish', 'European', 'Arabic']</td>\n",
       "      <td>1084.0</td>\n",
       "      <td>$</td>\n",
       "      <td>NaN</td>\n",
       "      <td>[[], []]</td>\n",
       "      <td>/Restaurant_Review-g274856-d13323744-Reviews-S...</td>\n",
       "      <td>d13323744</td>\n",
       "      <td>1</td>\n",
       "      <td>5.0</td>\n",
       "    </tr>\n",
       "    <tr>\n",
       "      <th>35128</th>\n",
       "      <td>id_3458</td>\n",
       "      <td>Madrid</td>\n",
       "      <td>['Italian']</td>\n",
       "      <td>3460.0</td>\n",
       "      <td>$</td>\n",
       "      <td>5.0</td>\n",
       "      <td>[['A small bundle of Italian joy!'], ['07/06/2...</td>\n",
       "      <td>/Restaurant_Review-g187514-d10210890-Reviews-I...</td>\n",
       "      <td>d10210890</td>\n",
       "      <td>1</td>\n",
       "      <td>4.5</td>\n",
       "    </tr>\n",
       "  </tbody>\n",
       "</table>\n",
       "</div>"
      ],
      "text/plain": [
       "      Restaurant_id       City  \\\n",
       "14972       id_1718     Lisbon   \n",
       "36544        id_449     Oporto   \n",
       "17048        id_367  Barcelona   \n",
       "31937       id_1083     Warsaw   \n",
       "35128       id_3458     Madrid   \n",
       "\n",
       "                                           Cuisine Style  Ranking Price Range  \\\n",
       "14972                         ['European', 'Portuguese']   1720.0           $   \n",
       "36544  ['Portuguese', 'Bar', 'Mediterranean', 'Europe...    450.0           $   \n",
       "17048                               ['Spanish', 'Grill']    368.0        $$$$   \n",
       "31937                   ['Polish', 'European', 'Arabic']   1084.0           $   \n",
       "35128                                        ['Italian']   3460.0           $   \n",
       "\n",
       "       Number of Reviews                                            Reviews  \\\n",
       "14972              119.0  [['Average food but good enough', 'Great exper...   \n",
       "36544              140.0  [['Great little lunch spot', 'Great little fin...   \n",
       "17048             1285.0  [['Very authentic, nearly all locals. I felt.....   \n",
       "31937                NaN                                           [[], []]   \n",
       "35128                5.0  [['A small bundle of Italian joy!'], ['07/06/2...   \n",
       "\n",
       "                                                  URL_TA      ID_TA  sample  \\\n",
       "14972  /Restaurant_Review-g189158-d4766793-Reviews-Re...   d4766793       1   \n",
       "36544  /Restaurant_Review-g189180-d8319624-Reviews-Ca...   d8319624       1   \n",
       "17048  /Restaurant_Review-g187497-d969312-Reviews-Asa...    d969312       1   \n",
       "31937  /Restaurant_Review-g274856-d13323744-Reviews-S...  d13323744       1   \n",
       "35128  /Restaurant_Review-g187514-d10210890-Reviews-I...  d10210890       1   \n",
       "\n",
       "       Rating  \n",
       "14972     3.5  \n",
       "36544     4.0  \n",
       "17048     4.0  \n",
       "31937     5.0  \n",
       "35128     4.5  "
      ]
     },
     "execution_count": 6,
     "metadata": {},
     "output_type": "execute_result"
    }
   ],
   "source": [
    "data.sample(5)"
   ]
  },
  {
   "cell_type": "code",
   "execution_count": 7,
   "metadata": {
    "execution": {
     "iopub.execute_input": "2021-07-25T15:49:11.338960Z",
     "iopub.status.busy": "2021-07-25T15:49:11.338733Z",
     "iopub.status.idle": "2021-07-25T15:49:11.347638Z",
     "shell.execute_reply": "2021-07-25T15:49:11.346328Z",
     "shell.execute_reply.started": "2021-07-25T15:49:11.338925Z"
    }
   },
   "outputs": [
    {
     "data": {
      "text/plain": [
       "\"[['Very good reviews!', 'Fine dining in Hakaniemi'], ['12/05/2017', '10/29/2017']]\""
      ]
     },
     "execution_count": 7,
     "metadata": {},
     "output_type": "execute_result"
    }
   ],
   "source": [
    "data.Reviews[1]"
   ]
  },
  {
   "cell_type": "markdown",
   "metadata": {},
   "source": [
    "# Функции"
   ]
  },
  {
   "cell_type": "code",
   "execution_count": 8,
   "metadata": {
    "execution": {
     "iopub.execute_input": "2021-07-25T15:49:11.349463Z",
     "iopub.status.busy": "2021-07-25T15:49:11.349118Z",
     "iopub.status.idle": "2021-07-25T15:49:11.366455Z",
     "shell.execute_reply": "2021-07-25T15:49:11.365440Z",
     "shell.execute_reply.started": "2021-07-25T15:49:11.349408Z"
    }
   },
   "outputs": [],
   "source": [
    "#Положительные слова в отзывах ресторанов\n",
    "def good_words(scroll):\n",
    "    \n",
    "    i = 0\n",
    "    for word in scroll:\n",
    "        for mood in key_words:\n",
    "            if mood == word.lower():\n",
    "                i += 1\n",
    "    return i\n",
    "\n",
    "#Вывод основных статистических данных категориальных признаков\n",
    "def categorical_data_value(col):\n",
    "\n",
    "    display(pd.DataFrame(data[col].value_counts()))\n",
    "    display(data[col].describe())\n",
    "\n",
    "# Построение гистограммы и вывод основных статистических данных цифровых признаков\n",
    "def numerical_data_value(col):\n",
    "    \n",
    "    display(data[col].hist(bins=100))\n",
    "    display(data[col].describe())\n",
    "\n",
    "# Построение гистограммы цифровых признаков с выбросами, а также вывод границ выбросов\n",
    "def numerical_hist(col, end):\n",
    "\n",
    "    median = data[col].median()\n",
    "    IQR = data[col].quantile(0.75) - data[col].quantile(0.25)\n",
    "    perc25 = data[col].quantile(0.25)\n",
    "    perc75 = data[col].quantile(0.75)\n",
    "    l_side = perc25 - 1.5*IQR\n",
    "    r_side = perc75 + 1.5*IQR\n",
    "    print('25 percentile: {}'.format(perc25),\n",
    "          '\\n75 percentile: {}'.format(perc75),\n",
    "          '\\nData Outlier Boundaries:',\n",
    "          '\\nleft: {}'.format(l_side),\n",
    "          '\\nright: {}'.format(r_side))\n",
    "    data[col].loc[data[col].between(perc25 - 1.5*IQR, perc75 + 1.5*IQR)]\\\n",
    "        .hist(bins=100, range=(0, end), label='values')\n",
    "    data[col].loc[data[col] >= r_side].hist(alpha=0.5, bins=100, range=(0, end),\n",
    "                                        label='Data Outlier')\n",
    "    plt.legend()\n",
    "    \n",
    "# Нормализация признака\n",
    "def normalise_col(column):\n",
    "\n",
    "    scaler = MinMaxScaler()\n",
    "    get_column = pd.DataFrame(data[column])\n",
    "    get_column_norm = scaler.fit_transform(get_column)\n",
    "    return get_column_norm\n"
   ]
  },
  {
   "cell_type": "markdown",
   "metadata": {},
   "source": [
    "Как видим, большинство признаков у нас требует очистки и предварительной обработки."
   ]
  },
  {
   "cell_type": "markdown",
   "metadata": {},
   "source": [
    "# Cleaning and Prepping Data\n",
    "Обычно данные содержат в себе кучу мусора, который необходимо почистить, для того чтобы привести их в приемлемый формат. Чистка данных — это необходимый этап решения почти любой реальной задачи.   "
   ]
  },
  {
   "cell_type": "code",
   "execution_count": 9,
   "metadata": {
    "execution": {
     "iopub.execute_input": "2021-07-25T15:49:11.368473Z",
     "iopub.status.busy": "2021-07-25T15:49:11.368130Z",
     "iopub.status.idle": "2021-07-25T15:49:11.430807Z",
     "shell.execute_reply": "2021-07-25T15:49:11.429428Z",
     "shell.execute_reply.started": "2021-07-25T15:49:11.368419Z"
    }
   },
   "outputs": [
    {
     "data": {
      "text/html": [
       "<div>\n",
       "<style scoped>\n",
       "    .dataframe tbody tr th:only-of-type {\n",
       "        vertical-align: middle;\n",
       "    }\n",
       "\n",
       "    .dataframe tbody tr th {\n",
       "        vertical-align: top;\n",
       "    }\n",
       "\n",
       "    .dataframe thead th {\n",
       "        text-align: right;\n",
       "    }\n",
       "</style>\n",
       "<table border=\"1\" class=\"dataframe\">\n",
       "  <thead>\n",
       "    <tr style=\"text-align: right;\">\n",
       "      <th></th>\n",
       "      <th>NaN</th>\n",
       "    </tr>\n",
       "  </thead>\n",
       "  <tbody>\n",
       "    <tr>\n",
       "      <th>Restaurant_id</th>\n",
       "      <td>0</td>\n",
       "    </tr>\n",
       "    <tr>\n",
       "      <th>City</th>\n",
       "      <td>0</td>\n",
       "    </tr>\n",
       "    <tr>\n",
       "      <th>Cuisine Style</th>\n",
       "      <td>11590</td>\n",
       "    </tr>\n",
       "    <tr>\n",
       "      <th>Ranking</th>\n",
       "      <td>0</td>\n",
       "    </tr>\n",
       "    <tr>\n",
       "      <th>Price Range</th>\n",
       "      <td>17361</td>\n",
       "    </tr>\n",
       "    <tr>\n",
       "      <th>Number of Reviews</th>\n",
       "      <td>3200</td>\n",
       "    </tr>\n",
       "    <tr>\n",
       "      <th>Reviews</th>\n",
       "      <td>2</td>\n",
       "    </tr>\n",
       "    <tr>\n",
       "      <th>URL_TA</th>\n",
       "      <td>0</td>\n",
       "    </tr>\n",
       "    <tr>\n",
       "      <th>ID_TA</th>\n",
       "      <td>0</td>\n",
       "    </tr>\n",
       "    <tr>\n",
       "      <th>sample</th>\n",
       "      <td>0</td>\n",
       "    </tr>\n",
       "    <tr>\n",
       "      <th>Rating</th>\n",
       "      <td>0</td>\n",
       "    </tr>\n",
       "  </tbody>\n",
       "</table>\n",
       "</div>"
      ],
      "text/plain": [
       "                     NaN\n",
       "Restaurant_id          0\n",
       "City                   0\n",
       "Cuisine Style      11590\n",
       "Ranking                0\n",
       "Price Range        17361\n",
       "Number of Reviews   3200\n",
       "Reviews                2\n",
       "URL_TA                 0\n",
       "ID_TA                  0\n",
       "sample                 0\n",
       "Rating                 0"
      ]
     },
     "execution_count": 9,
     "metadata": {},
     "output_type": "execute_result"
    }
   ],
   "source": [
    "pd.DataFrame(data.isna().sum(), columns=['NaN'])"
   ]
  },
  {
   "cell_type": "code",
   "execution_count": 10,
   "metadata": {
    "execution": {
     "iopub.execute_input": "2021-07-25T15:49:11.432848Z",
     "iopub.status.busy": "2021-07-25T15:49:11.432496Z",
     "iopub.status.idle": "2021-07-25T15:49:11.438617Z",
     "shell.execute_reply": "2021-07-25T15:49:11.437675Z",
     "shell.execute_reply.started": "2021-07-25T15:49:11.432792Z"
    }
   },
   "outputs": [],
   "source": [
    "#сделаем колонки красивее и удобнее в использовании\n",
    "data.columns = ['_'.join(col.split()).lower() for col in data.columns]"
   ]
  },
  {
   "cell_type": "code",
   "execution_count": 11,
   "metadata": {
    "execution": {
     "iopub.execute_input": "2021-07-25T15:49:11.440731Z",
     "iopub.status.busy": "2021-07-25T15:49:11.440154Z",
     "iopub.status.idle": "2021-07-25T15:49:11.455199Z",
     "shell.execute_reply": "2021-07-25T15:49:11.454026Z",
     "shell.execute_reply.started": "2021-07-25T15:49:11.440461Z"
    }
   },
   "outputs": [
    {
     "data": {
      "text/plain": [
       "Index(['restaurant_id', 'city', 'cuisine_style', 'ranking', 'price_range',\n",
       "       'number_of_reviews', 'reviews', 'url_ta', 'id_ta', 'sample', 'rating'],\n",
       "      dtype='object')"
      ]
     },
     "execution_count": 11,
     "metadata": {},
     "output_type": "execute_result"
    }
   ],
   "source": [
    "data.columns"
   ]
  },
  {
   "cell_type": "markdown",
   "metadata": {},
   "source": [
    "# city"
   ]
  },
  {
   "cell_type": "code",
   "execution_count": 12,
   "metadata": {
    "execution": {
     "iopub.execute_input": "2021-07-25T15:49:11.456881Z",
     "iopub.status.busy": "2021-07-25T15:49:11.456540Z",
     "iopub.status.idle": "2021-07-25T15:49:11.512480Z",
     "shell.execute_reply": "2021-07-25T15:49:11.511296Z",
     "shell.execute_reply.started": "2021-07-25T15:49:11.456815Z"
    }
   },
   "outputs": [
    {
     "data": {
      "text/html": [
       "<div>\n",
       "<style scoped>\n",
       "    .dataframe tbody tr th:only-of-type {\n",
       "        vertical-align: middle;\n",
       "    }\n",
       "\n",
       "    .dataframe tbody tr th {\n",
       "        vertical-align: top;\n",
       "    }\n",
       "\n",
       "    .dataframe thead th {\n",
       "        text-align: right;\n",
       "    }\n",
       "</style>\n",
       "<table border=\"1\" class=\"dataframe\">\n",
       "  <thead>\n",
       "    <tr style=\"text-align: right;\">\n",
       "      <th></th>\n",
       "      <th>city</th>\n",
       "    </tr>\n",
       "  </thead>\n",
       "  <tbody>\n",
       "    <tr>\n",
       "      <th>London</th>\n",
       "      <td>7193</td>\n",
       "    </tr>\n",
       "    <tr>\n",
       "      <th>Paris</th>\n",
       "      <td>6108</td>\n",
       "    </tr>\n",
       "    <tr>\n",
       "      <th>Madrid</th>\n",
       "      <td>3813</td>\n",
       "    </tr>\n",
       "    <tr>\n",
       "      <th>Barcelona</th>\n",
       "      <td>3395</td>\n",
       "    </tr>\n",
       "    <tr>\n",
       "      <th>Berlin</th>\n",
       "      <td>2705</td>\n",
       "    </tr>\n",
       "    <tr>\n",
       "      <th>Milan</th>\n",
       "      <td>2694</td>\n",
       "    </tr>\n",
       "    <tr>\n",
       "      <th>Rome</th>\n",
       "      <td>2589</td>\n",
       "    </tr>\n",
       "    <tr>\n",
       "      <th>Prague</th>\n",
       "      <td>1816</td>\n",
       "    </tr>\n",
       "    <tr>\n",
       "      <th>Lisbon</th>\n",
       "      <td>1647</td>\n",
       "    </tr>\n",
       "    <tr>\n",
       "      <th>Vienna</th>\n",
       "      <td>1443</td>\n",
       "    </tr>\n",
       "    <tr>\n",
       "      <th>Amsterdam</th>\n",
       "      <td>1372</td>\n",
       "    </tr>\n",
       "    <tr>\n",
       "      <th>Brussels</th>\n",
       "      <td>1314</td>\n",
       "    </tr>\n",
       "    <tr>\n",
       "      <th>Hamburg</th>\n",
       "      <td>1186</td>\n",
       "    </tr>\n",
       "    <tr>\n",
       "      <th>Munich</th>\n",
       "      <td>1145</td>\n",
       "    </tr>\n",
       "    <tr>\n",
       "      <th>Lyon</th>\n",
       "      <td>1126</td>\n",
       "    </tr>\n",
       "    <tr>\n",
       "      <th>Stockholm</th>\n",
       "      <td>1033</td>\n",
       "    </tr>\n",
       "    <tr>\n",
       "      <th>Budapest</th>\n",
       "      <td>1021</td>\n",
       "    </tr>\n",
       "    <tr>\n",
       "      <th>Warsaw</th>\n",
       "      <td>925</td>\n",
       "    </tr>\n",
       "    <tr>\n",
       "      <th>Dublin</th>\n",
       "      <td>836</td>\n",
       "    </tr>\n",
       "    <tr>\n",
       "      <th>Copenhagen</th>\n",
       "      <td>819</td>\n",
       "    </tr>\n",
       "    <tr>\n",
       "      <th>Athens</th>\n",
       "      <td>776</td>\n",
       "    </tr>\n",
       "    <tr>\n",
       "      <th>Edinburgh</th>\n",
       "      <td>745</td>\n",
       "    </tr>\n",
       "    <tr>\n",
       "      <th>Zurich</th>\n",
       "      <td>685</td>\n",
       "    </tr>\n",
       "    <tr>\n",
       "      <th>Oporto</th>\n",
       "      <td>642</td>\n",
       "    </tr>\n",
       "    <tr>\n",
       "      <th>Geneva</th>\n",
       "      <td>590</td>\n",
       "    </tr>\n",
       "    <tr>\n",
       "      <th>Krakow</th>\n",
       "      <td>554</td>\n",
       "    </tr>\n",
       "    <tr>\n",
       "      <th>Oslo</th>\n",
       "      <td>488</td>\n",
       "    </tr>\n",
       "    <tr>\n",
       "      <th>Helsinki</th>\n",
       "      <td>475</td>\n",
       "    </tr>\n",
       "    <tr>\n",
       "      <th>Bratislava</th>\n",
       "      <td>380</td>\n",
       "    </tr>\n",
       "    <tr>\n",
       "      <th>Luxembourg</th>\n",
       "      <td>263</td>\n",
       "    </tr>\n",
       "    <tr>\n",
       "      <th>Ljubljana</th>\n",
       "      <td>222</td>\n",
       "    </tr>\n",
       "  </tbody>\n",
       "</table>\n",
       "</div>"
      ],
      "text/plain": [
       "            city\n",
       "London      7193\n",
       "Paris       6108\n",
       "Madrid      3813\n",
       "Barcelona   3395\n",
       "Berlin      2705\n",
       "Milan       2694\n",
       "Rome        2589\n",
       "Prague      1816\n",
       "Lisbon      1647\n",
       "Vienna      1443\n",
       "Amsterdam   1372\n",
       "Brussels    1314\n",
       "Hamburg     1186\n",
       "Munich      1145\n",
       "Lyon        1126\n",
       "Stockholm   1033\n",
       "Budapest    1021\n",
       "Warsaw       925\n",
       "Dublin       836\n",
       "Copenhagen   819\n",
       "Athens       776\n",
       "Edinburgh    745\n",
       "Zurich       685\n",
       "Oporto       642\n",
       "Geneva       590\n",
       "Krakow       554\n",
       "Oslo         488\n",
       "Helsinki     475\n",
       "Bratislava   380\n",
       "Luxembourg   263\n",
       "Ljubljana    222"
      ]
     },
     "metadata": {},
     "output_type": "display_data"
    },
    {
     "data": {
      "text/plain": [
       "count      50000\n",
       "unique        31\n",
       "top       London\n",
       "freq        7193\n",
       "Name: city, dtype: object"
      ]
     },
     "metadata": {},
     "output_type": "display_data"
    }
   ],
   "source": [
    "categorical_data_value('city')"
   ]
  },
  {
   "cell_type": "markdown",
   "metadata": {},
   "source": [
    "# cuisine_style"
   ]
  },
  {
   "cell_type": "code",
   "execution_count": 13,
   "metadata": {
    "execution": {
     "iopub.execute_input": "2021-07-25T15:49:11.514757Z",
     "iopub.status.busy": "2021-07-25T15:49:11.514241Z",
     "iopub.status.idle": "2021-07-25T15:49:11.526666Z",
     "shell.execute_reply": "2021-07-25T15:49:11.525923Z",
     "shell.execute_reply.started": "2021-07-25T15:49:11.514539Z"
    }
   },
   "outputs": [],
   "source": [
    "data['cuisine_style'].fillna('Traditional', inplace=True)"
   ]
  },
  {
   "cell_type": "markdown",
   "metadata": {},
   "source": [
    "# restaurant_id"
   ]
  },
  {
   "cell_type": "code",
   "execution_count": 14,
   "metadata": {
    "execution": {
     "iopub.execute_input": "2021-07-25T15:49:11.528455Z",
     "iopub.status.busy": "2021-07-25T15:49:11.528075Z",
     "iopub.status.idle": "2021-07-25T15:49:11.598862Z",
     "shell.execute_reply": "2021-07-25T15:49:11.598108Z",
     "shell.execute_reply.started": "2021-07-25T15:49:11.528409Z"
    }
   },
   "outputs": [
    {
     "data": {
      "text/html": [
       "<div>\n",
       "<style scoped>\n",
       "    .dataframe tbody tr th:only-of-type {\n",
       "        vertical-align: middle;\n",
       "    }\n",
       "\n",
       "    .dataframe tbody tr th {\n",
       "        vertical-align: top;\n",
       "    }\n",
       "\n",
       "    .dataframe thead th {\n",
       "        text-align: right;\n",
       "    }\n",
       "</style>\n",
       "<table border=\"1\" class=\"dataframe\">\n",
       "  <thead>\n",
       "    <tr style=\"text-align: right;\">\n",
       "      <th></th>\n",
       "      <th>restaurant_id</th>\n",
       "    </tr>\n",
       "  </thead>\n",
       "  <tbody>\n",
       "    <tr>\n",
       "      <th>id_871</th>\n",
       "      <td>19</td>\n",
       "    </tr>\n",
       "    <tr>\n",
       "      <th>id_633</th>\n",
       "      <td>19</td>\n",
       "    </tr>\n",
       "    <tr>\n",
       "      <th>id_436</th>\n",
       "      <td>19</td>\n",
       "    </tr>\n",
       "    <tr>\n",
       "      <th>id_227</th>\n",
       "      <td>19</td>\n",
       "    </tr>\n",
       "    <tr>\n",
       "      <th>id_585</th>\n",
       "      <td>18</td>\n",
       "    </tr>\n",
       "    <tr>\n",
       "      <th>...</th>\n",
       "      <td>...</td>\n",
       "    </tr>\n",
       "    <tr>\n",
       "      <th>id_10748</th>\n",
       "      <td>1</td>\n",
       "    </tr>\n",
       "    <tr>\n",
       "      <th>id_13927</th>\n",
       "      <td>1</td>\n",
       "    </tr>\n",
       "    <tr>\n",
       "      <th>id_12475</th>\n",
       "      <td>1</td>\n",
       "    </tr>\n",
       "    <tr>\n",
       "      <th>id_15500</th>\n",
       "      <td>1</td>\n",
       "    </tr>\n",
       "    <tr>\n",
       "      <th>id_9317</th>\n",
       "      <td>1</td>\n",
       "    </tr>\n",
       "  </tbody>\n",
       "</table>\n",
       "<p>13094 rows × 1 columns</p>\n",
       "</div>"
      ],
      "text/plain": [
       "          restaurant_id\n",
       "id_871               19\n",
       "id_633               19\n",
       "id_436               19\n",
       "id_227               19\n",
       "id_585               18\n",
       "...                 ...\n",
       "id_10748              1\n",
       "id_13927              1\n",
       "id_12475              1\n",
       "id_15500              1\n",
       "id_9317               1\n",
       "\n",
       "[13094 rows x 1 columns]"
      ]
     },
     "metadata": {},
     "output_type": "display_data"
    },
    {
     "data": {
      "text/plain": [
       "count      50000\n",
       "unique     13094\n",
       "top       id_871\n",
       "freq          19\n",
       "Name: restaurant_id, dtype: object"
      ]
     },
     "metadata": {},
     "output_type": "display_data"
    }
   ],
   "source": [
    "categorical_data_value('restaurant_id')"
   ]
  },
  {
   "cell_type": "markdown",
   "metadata": {},
   "source": [
    "# reviews"
   ]
  },
  {
   "cell_type": "code",
   "execution_count": 15,
   "metadata": {
    "execution": {
     "iopub.execute_input": "2021-07-25T15:49:11.600673Z",
     "iopub.status.busy": "2021-07-25T15:49:11.600412Z",
     "iopub.status.idle": "2021-07-25T15:49:13.585475Z",
     "shell.execute_reply": "2021-07-25T15:49:13.584467Z",
     "shell.execute_reply.started": "2021-07-25T15:49:11.600622Z"
    }
   },
   "outputs": [],
   "source": [
    "data['reviews_temp'] = data.reviews.dropna().apply(\n",
    "    lambda x: np.nan if x == '[[], []]' else x.split(', [')[0])\n",
    "data['review_temp_count'] = data['reviews_temp'].str.replace(\n",
    "    '\"', \"'\").str.split(\", '\").str.len()\n",
    "\n",
    "data['dates_temp'] = data.reviews.dropna().apply(\n",
    "    lambda x: np.nan if x == '[[], []]' else x.split(', [')[1])\n",
    "data.loc[data.dates_temp == \"59], ju...']\", 'dates_temp'] = \"'05/10/2015', '07/05/2014']]\"\n",
    "\n",
    "data['dates_temp_count'] = data['dates_temp'].str.split(\", '\").str.len()\n",
    "\n",
    "data['review_1_temp'] = data.reviews_temp.dropna().str.replace('\"', \"'\").apply(\n",
    "    lambda x: x[3:-3].split(\", '\")[0])\n",
    "data['review_1'] = data.review_1_temp.dropna().apply(lambda x: x[:-1])\n",
    "\n",
    "data['date_1_temp'] = data.dates_temp.dropna().apply(\n",
    "    lambda x: x[1:-2].split(\", '\")[0])\n",
    "data['date_1_s'] = data.date_1_temp.dropna().apply(lambda x: x[:-1])\n",
    "data['date_1'] = data.date_1_s.dropna().apply(lambda x: datetime.strptime(x, '%m/%d/%Y'))\n",
    "data['review_2'] = data[data.review_temp_count > 1].reviews_temp.dropna(\n",
    ").str.replace('\"', \"'\").apply(lambda x: x[3:-3].split(\", '\")[1])\n",
    "data['date_2_s'] = data[data.dates_temp_count > 1].dates_temp.dropna().apply(\n",
    "    lambda x: x[1:-3].split(\", '\")[1])\n",
    "data['date_2'] = data.date_2_s.dropna().apply(lambda x: datetime.strptime(x, '%m/%d/%Y'))\n",
    "data.drop(['reviews_temp', 'review_temp_count', 'dates_temp', 'dates_temp_count',\n",
    "         'review_1_temp', 'date_1_temp', 'date_1_s',\n",
    "         'date_2_s'], axis=1, inplace=True)"
   ]
  },
  {
   "cell_type": "markdown",
   "metadata": {},
   "source": [
    "#  number_of_reviews"
   ]
  },
  {
   "cell_type": "code",
   "execution_count": 16,
   "metadata": {
    "execution": {
     "iopub.execute_input": "2021-07-25T15:49:13.587136Z",
     "iopub.status.busy": "2021-07-25T15:49:13.586842Z",
     "iopub.status.idle": "2021-07-25T15:49:13.754859Z",
     "shell.execute_reply": "2021-07-25T15:49:13.753915Z",
     "shell.execute_reply.started": "2021-07-25T15:49:13.587084Z"
    }
   },
   "outputs": [],
   "source": [
    "data['dates_temp'] = data.reviews.dropna().apply(\n",
    "    lambda x: np.nan if x == '[[], []]' else x.split(', [')[1])\n",
    "data['dates_temp_count'] = data['dates_temp'].str.split(\", '\").str.len()\n",
    "\n",
    "mask_rev = (data.number_of_reviews.isna()) & (data.dates_temp_count == 1)\n",
    "data.loc[mask_rev, 'number_of_reviews'] = data.loc[mask_rev,\n",
    "                                            'number_of_reviews'].fillna(1)\n",
    "data.number_of_reviews.fillna(0, inplace=True)\n",
    "\n",
    "data.drop(['dates_temp', 'dates_temp_count'], axis=1, inplace=True)"
   ]
  },
  {
   "cell_type": "code",
   "execution_count": 17,
   "metadata": {
    "execution": {
     "iopub.execute_input": "2021-07-25T15:49:13.756482Z",
     "iopub.status.busy": "2021-07-25T15:49:13.756246Z",
     "iopub.status.idle": "2021-07-25T15:49:14.208968Z",
     "shell.execute_reply": "2021-07-25T15:49:14.207924Z",
     "shell.execute_reply.started": "2021-07-25T15:49:13.756446Z"
    }
   },
   "outputs": [
    {
     "data": {
      "text/plain": [
       "<matplotlib.axes._subplots.AxesSubplot at 0x7f6e445c1a58>"
      ]
     },
     "metadata": {},
     "output_type": "display_data"
    },
    {
     "data": {
      "text/plain": [
       "count    50000.000000\n",
       "mean       116.528560\n",
       "std        286.163568\n",
       "min          0.000000\n",
       "25%          7.000000\n",
       "50%         28.000000\n",
       "75%        105.000000\n",
       "max       9660.000000\n",
       "Name: number_of_reviews, dtype: float64"
      ]
     },
     "metadata": {},
     "output_type": "display_data"
    },
    {
     "data": {
      "image/png": "[encoded data removed]",
      "text/plain": [
       "<Figure size 432x288 with 1 Axes>"
      ]
     },
     "metadata": {
      "needs_background": "light"
     },
     "output_type": "display_data"
    }
   ],
   "source": [
    "numerical_data_value('number_of_reviews')"
   ]
  },
  {
   "cell_type": "code",
   "execution_count": 18,
   "metadata": {
    "execution": {
     "iopub.execute_input": "2021-07-25T15:49:14.210664Z",
     "iopub.status.busy": "2021-07-25T15:49:14.210302Z",
     "iopub.status.idle": "2021-07-25T15:49:15.073575Z",
     "shell.execute_reply": "2021-07-25T15:49:15.072583Z",
     "shell.execute_reply.started": "2021-07-25T15:49:14.210620Z"
    }
   },
   "outputs": [
    {
     "name": "stdout",
     "output_type": "stream",
     "text": [
      "25 percentile: 7.0 \n",
      "75 percentile: 105.0 \n",
      "Data Outlier Boundaries: \n",
      "left: -140.0 \n",
      "right: 252.0\n"
     ]
    },
    {
     "data": {
      "image/png": "[encoded data removed]",
      "text/plain": [
       "<Figure size 432x288 with 1 Axes>"
      ]
     },
     "metadata": {
      "needs_background": "light"
     },
     "output_type": "display_data"
    }
   ],
   "source": [
    "numerical_hist('number_of_reviews', 1000)"
   ]
  },
  {
   "cell_type": "code",
   "execution_count": 19,
   "metadata": {
    "execution": {
     "iopub.execute_input": "2021-07-25T15:49:15.075871Z",
     "iopub.status.busy": "2021-07-25T15:49:15.075404Z",
     "iopub.status.idle": "2021-07-25T15:49:15.086783Z",
     "shell.execute_reply": "2021-07-25T15:49:15.085710Z",
     "shell.execute_reply.started": "2021-07-25T15:49:15.075809Z"
    }
   },
   "outputs": [
    {
     "data": {
      "text/plain": [
       "673"
      ]
     },
     "execution_count": 19,
     "metadata": {},
     "output_type": "execute_result"
    }
   ],
   "source": [
    "len(data[(data.number_of_reviews > 1000) & (data['sample'] == 1)])"
   ]
  },
  {
   "cell_type": "markdown",
   "metadata": {},
   "source": [
    "#  review_mood"
   ]
  },
  {
   "cell_type": "code",
   "execution_count": 20,
   "metadata": {
    "execution": {
     "iopub.execute_input": "2021-07-25T15:49:15.088425Z",
     "iopub.status.busy": "2021-07-25T15:49:15.088096Z",
     "iopub.status.idle": "2021-07-25T15:49:16.873702Z",
     "shell.execute_reply": "2021-07-25T15:49:16.872351Z",
     "shell.execute_reply.started": "2021-07-25T15:49:15.088369Z"
    }
   },
   "outputs": [
    {
     "data": {
      "text/plain": [
       "<matplotlib.axes._subplots.AxesSubplot at 0x7f6e29156cf8>"
      ]
     },
     "metadata": {},
     "output_type": "display_data"
    },
    {
     "data": {
      "text/plain": [
       "count    50000.000000\n",
       "mean         0.959120\n",
       "std          0.975904\n",
       "min          0.000000\n",
       "25%          0.000000\n",
       "50%          1.000000\n",
       "75%          2.000000\n",
       "max          7.000000\n",
       "Name: review_mood, dtype: float64"
      ]
     },
     "metadata": {},
     "output_type": "display_data"
    },
    {
     "data": {
      "image/png": "[encoded data removed]",
      "text/plain": [
       "<Figure size 432x288 with 1 Axes>"
      ]
     },
     "metadata": {
      "needs_background": "light"
     },
     "output_type": "display_data"
    }
   ],
   "source": [
    "key_words = ['good','great','nice','best','excellent','but','delicious', 'friendly', 'lovely', 'amazing', 'tasty', 'little']\n",
    "data['words'] = data.reviews.str.findall(r\"(\\w+)\")\n",
    "data['review_mood'] = data.words.dropna().apply(good_words)\n",
    "data.review_mood.fillna(0, inplace=True)\n",
    "numerical_data_value('review_mood')"
   ]
  },
  {
   "cell_type": "markdown",
   "metadata": {},
   "source": [
    "# ranking"
   ]
  },
  {
   "cell_type": "code",
   "execution_count": 21,
   "metadata": {
    "execution": {
     "iopub.execute_input": "2021-07-25T15:49:16.876392Z",
     "iopub.status.busy": "2021-07-25T15:49:16.875801Z",
     "iopub.status.idle": "2021-07-25T15:49:17.352234Z",
     "shell.execute_reply": "2021-07-25T15:49:17.351264Z",
     "shell.execute_reply.started": "2021-07-25T15:49:16.876153Z"
    }
   },
   "outputs": [
    {
     "data": {
      "text/plain": [
       "<matplotlib.axes._subplots.AxesSubplot at 0x7f6e2905ee10>"
      ]
     },
     "metadata": {},
     "output_type": "display_data"
    },
    {
     "data": {
      "text/plain": [
       "count    50000.000000\n",
       "mean      3664.427520\n",
       "std       3700.092452\n",
       "min          1.000000\n",
       "25%        972.000000\n",
       "50%       2278.000000\n",
       "75%       5241.000000\n",
       "max      16444.000000\n",
       "Name: ranking, dtype: float64"
      ]
     },
     "metadata": {},
     "output_type": "display_data"
    },
    {
     "data": {
      "image/png": "[encoded data removed]",
      "text/plain": [
       "<Figure size 432x288 with 1 Axes>"
      ]
     },
     "metadata": {
      "needs_background": "light"
     },
     "output_type": "display_data"
    }
   ],
   "source": [
    "numerical_data_value('ranking')"
   ]
  },
  {
   "cell_type": "code",
   "execution_count": 22,
   "metadata": {
    "execution": {
     "iopub.execute_input": "2021-07-25T15:49:17.353689Z",
     "iopub.status.busy": "2021-07-25T15:49:17.353333Z",
     "iopub.status.idle": "2021-07-25T15:49:20.080373Z",
     "shell.execute_reply": "2021-07-25T15:49:20.079374Z",
     "shell.execute_reply.started": "2021-07-25T15:49:17.353650Z"
    }
   },
   "outputs": [
    {
     "data": {
      "image/png": "[encoded data removed]",
      "text/plain": [
       "<Figure size 432x288 with 1 Axes>"
      ]
     },
     "metadata": {
      "needs_background": "light"
     },
     "output_type": "display_data"
    }
   ],
   "source": [
    "for x in (data['city'].value_counts())[0:10].index:\n",
    "    data['ranking'][data['city'] == x].hist(bins=100)\n",
    "plt.show()"
   ]
  },
  {
   "cell_type": "markdown",
   "metadata": {},
   "source": [
    " # rating"
   ]
  },
  {
   "cell_type": "code",
   "execution_count": 23,
   "metadata": {
    "execution": {
     "iopub.execute_input": "2021-07-25T15:49:20.082436Z",
     "iopub.status.busy": "2021-07-25T15:49:20.081915Z",
     "iopub.status.idle": "2021-07-25T15:49:20.559773Z",
     "shell.execute_reply": "2021-07-25T15:49:20.558859Z",
     "shell.execute_reply.started": "2021-07-25T15:49:20.082378Z"
    }
   },
   "outputs": [
    {
     "data": {
      "text/plain": [
       "<matplotlib.axes._subplots.AxesSubplot at 0x7f6e28930dd8>"
      ]
     },
     "metadata": {},
     "output_type": "display_data"
    },
    {
     "data": {
      "text/plain": [
       "count    50000.000000\n",
       "mean         3.194430\n",
       "std          1.705453\n",
       "min          0.000000\n",
       "25%          3.000000\n",
       "50%          4.000000\n",
       "75%          4.500000\n",
       "max          5.000000\n",
       "Name: rating, dtype: float64"
      ]
     },
     "metadata": {},
     "output_type": "display_data"
    },
    {
     "data": {
      "image/png": "[encoded data removed]",
      "text/plain": [
       "<Figure size 432x288 with 1 Axes>"
      ]
     },
     "metadata": {
      "needs_background": "light"
     },
     "output_type": "display_data"
    }
   ],
   "source": [
    "numerical_data_value('rating')"
   ]
  },
  {
   "cell_type": "markdown",
   "metadata": {},
   "source": [
    "# price_range"
   ]
  },
  {
   "cell_type": "code",
   "execution_count": 24,
   "metadata": {
    "execution": {
     "iopub.execute_input": "2021-07-25T15:49:20.561809Z",
     "iopub.status.busy": "2021-07-25T15:49:20.561306Z",
     "iopub.status.idle": "2021-07-25T15:49:20.620304Z",
     "shell.execute_reply": "2021-07-25T15:49:20.619369Z",
     "shell.execute_reply.started": "2021-07-25T15:49:20.561752Z"
    }
   },
   "outputs": [
    {
     "data": {
      "text/html": [
       "<div>\n",
       "<style scoped>\n",
       "    .dataframe tbody tr th:only-of-type {\n",
       "        vertical-align: middle;\n",
       "    }\n",
       "\n",
       "    .dataframe tbody tr th {\n",
       "        vertical-align: top;\n",
       "    }\n",
       "\n",
       "    .dataframe thead th {\n",
       "        text-align: right;\n",
       "    }\n",
       "</style>\n",
       "<table border=\"1\" class=\"dataframe\">\n",
       "  <thead>\n",
       "    <tr style=\"text-align: right;\">\n",
       "      <th></th>\n",
       "      <th>price_range</th>\n",
       "    </tr>\n",
       "  </thead>\n",
       "  <tbody>\n",
       "    <tr>\n",
       "      <th>$$ - $$$</th>\n",
       "      <td>23041</td>\n",
       "    </tr>\n",
       "    <tr>\n",
       "      <th>$</th>\n",
       "      <td>7816</td>\n",
       "    </tr>\n",
       "    <tr>\n",
       "      <th>$$$$</th>\n",
       "      <td>1782</td>\n",
       "    </tr>\n",
       "  </tbody>\n",
       "</table>\n",
       "</div>"
      ],
      "text/plain": [
       "          price_range\n",
       "$$ - $$$        23041\n",
       "$                7816\n",
       "$$$$             1782"
      ]
     },
     "metadata": {},
     "output_type": "display_data"
    },
    {
     "data": {
      "text/plain": [
       "count        32639\n",
       "unique           3\n",
       "top       $$ - $$$\n",
       "freq         23041\n",
       "Name: price_range, dtype: object"
      ]
     },
     "metadata": {},
     "output_type": "display_data"
    }
   ],
   "source": [
    "categorical_data_value('price_range')"
   ]
  },
  {
   "cell_type": "code",
   "execution_count": 25,
   "metadata": {
    "execution": {
     "iopub.execute_input": "2021-07-25T15:49:20.622328Z",
     "iopub.status.busy": "2021-07-25T15:49:20.621813Z",
     "iopub.status.idle": "2021-07-25T15:49:20.635031Z",
     "shell.execute_reply": "2021-07-25T15:49:20.633699Z",
     "shell.execute_reply.started": "2021-07-25T15:49:20.622272Z"
    }
   },
   "outputs": [],
   "source": [
    "data.price_range.fillna('$$ - $$$', inplace=True)"
   ]
  },
  {
   "cell_type": "code",
   "execution_count": 26,
   "metadata": {
    "execution": {
     "iopub.execute_input": "2021-07-25T15:49:20.636609Z",
     "iopub.status.busy": "2021-07-25T15:49:20.636336Z",
     "iopub.status.idle": "2021-07-25T15:49:20.675644Z",
     "shell.execute_reply": "2021-07-25T15:49:20.674481Z",
     "shell.execute_reply.started": "2021-07-25T15:49:20.636562Z"
    }
   },
   "outputs": [],
   "source": [
    "data['price_range'].replace({'$': 5,'$$ - $$$': 50,'$$$$': 500}, inplace = True)"
   ]
  },
  {
   "cell_type": "code",
   "execution_count": 27,
   "metadata": {
    "execution": {
     "iopub.execute_input": "2021-07-25T15:49:20.677304Z",
     "iopub.status.busy": "2021-07-25T15:49:20.676962Z",
     "iopub.status.idle": "2021-07-25T15:49:20.697488Z",
     "shell.execute_reply": "2021-07-25T15:49:20.696704Z",
     "shell.execute_reply.started": "2021-07-25T15:49:20.677247Z"
    }
   },
   "outputs": [
    {
     "data": {
      "text/html": [
       "<div>\n",
       "<style scoped>\n",
       "    .dataframe tbody tr th:only-of-type {\n",
       "        vertical-align: middle;\n",
       "    }\n",
       "\n",
       "    .dataframe tbody tr th {\n",
       "        vertical-align: top;\n",
       "    }\n",
       "\n",
       "    .dataframe thead th {\n",
       "        text-align: right;\n",
       "    }\n",
       "</style>\n",
       "<table border=\"1\" class=\"dataframe\">\n",
       "  <thead>\n",
       "    <tr style=\"text-align: right;\">\n",
       "      <th></th>\n",
       "      <th>price_range</th>\n",
       "    </tr>\n",
       "  </thead>\n",
       "  <tbody>\n",
       "    <tr>\n",
       "      <th>50</th>\n",
       "      <td>40402</td>\n",
       "    </tr>\n",
       "    <tr>\n",
       "      <th>5</th>\n",
       "      <td>7816</td>\n",
       "    </tr>\n",
       "    <tr>\n",
       "      <th>500</th>\n",
       "      <td>1782</td>\n",
       "    </tr>\n",
       "  </tbody>\n",
       "</table>\n",
       "</div>"
      ],
      "text/plain": [
       "     price_range\n",
       "50         40402\n",
       "5           7816\n",
       "500         1782"
      ]
     },
     "metadata": {},
     "output_type": "display_data"
    },
    {
     "data": {
      "text/plain": [
       "count    50000.000000\n",
       "mean        59.003600\n",
       "std         86.329209\n",
       "min          5.000000\n",
       "25%         50.000000\n",
       "50%         50.000000\n",
       "75%         50.000000\n",
       "max        500.000000\n",
       "Name: price_range, dtype: float64"
      ]
     },
     "metadata": {},
     "output_type": "display_data"
    }
   ],
   "source": [
    "categorical_data_value('price_range')"
   ]
  },
  {
   "cell_type": "markdown",
   "metadata": {},
   "source": [
    "# median_city_price"
   ]
  },
  {
   "cell_type": "code",
   "execution_count": 28,
   "metadata": {
    "execution": {
     "iopub.execute_input": "2021-07-25T15:49:20.698847Z",
     "iopub.status.busy": "2021-07-25T15:49:20.698609Z",
     "iopub.status.idle": "2021-07-25T15:49:21.227552Z",
     "shell.execute_reply": "2021-07-25T15:49:21.226435Z",
     "shell.execute_reply.started": "2021-07-25T15:49:20.698803Z"
    }
   },
   "outputs": [
    {
     "data": {
      "text/plain": [
       "<matplotlib.axes._subplots.AxesSubplot at 0x7f6e2878e390>"
      ]
     },
     "metadata": {},
     "output_type": "display_data"
    },
    {
     "data": {
      "text/plain": [
       "count    50000.000000\n",
       "mean        59.003600\n",
       "std          6.049117\n",
       "min         48.862816\n",
       "25%         55.822711\n",
       "50%         59.075531\n",
       "75%         60.958904\n",
       "max         87.220339\n",
       "Name: median_city_price, dtype: float64"
      ]
     },
     "metadata": {},
     "output_type": "display_data"
    },
    {
     "data": {
      "image/png": "[encoded data removed]",
      "text/plain": [
       "<Figure size 432x288 with 1 Axes>"
      ]
     },
     "metadata": {
      "needs_background": "light"
     },
     "output_type": "display_data"
    }
   ],
   "source": [
    "median_city_price = data.groupby('city').price_range.mean().to_dict()\n",
    "data['median_city_price'] = data.city.map(median_city_price)\n",
    "numerical_data_value('median_city_price')"
   ]
  },
  {
   "cell_type": "markdown",
   "metadata": {},
   "source": [
    "### 2. Нормализация признаков\n"
   ]
  },
  {
   "cell_type": "code",
   "execution_count": 29,
   "metadata": {
    "execution": {
     "iopub.execute_input": "2021-07-25T15:49:21.231216Z",
     "iopub.status.busy": "2021-07-25T15:49:21.230793Z",
     "iopub.status.idle": "2021-07-25T15:49:24.743384Z",
     "shell.execute_reply": "2021-07-25T15:49:24.742477Z",
     "shell.execute_reply.started": "2021-07-25T15:49:21.231142Z"
    }
   },
   "outputs": [],
   "source": [
    "rank_city_min = data.groupby(['city'])['ranking'].min().to_dict()\n",
    "rank_city_max = data.groupby(['city'])['ranking'].max().to_dict()\n",
    "data['rank_city_min'] = data.city.map(rank_city_min)\n",
    "data['rank_city_max'] = data.city.map(rank_city_max)\n",
    "data['rank_norm'] = data.apply(lambda x: (\n",
    "    x['ranking'] - x['rank_city_min'])/(x['rank_city_max'] - x['rank_city_min']), axis=1)"
   ]
  },
  {
   "cell_type": "code",
   "execution_count": 30,
   "metadata": {
    "execution": {
     "iopub.execute_input": "2021-07-25T15:49:24.744840Z",
     "iopub.status.busy": "2021-07-25T15:49:24.744620Z",
     "iopub.status.idle": "2021-07-25T15:49:27.322585Z",
     "shell.execute_reply": "2021-07-25T15:49:27.321311Z",
     "shell.execute_reply.started": "2021-07-25T15:49:24.744807Z"
    }
   },
   "outputs": [
    {
     "data": {
      "image/png": "[encoded data removed]",
      "text/plain": [
       "<Figure size 432x288 with 1 Axes>"
      ]
     },
     "metadata": {
      "needs_background": "light"
     },
     "output_type": "display_data"
    }
   ],
   "source": [
    "for x in (data['city'].value_counts())[0:10].index:\n",
    "    data['rank_norm'][data['city'] == x].hist(bins=100)\n",
    "plt.show()"
   ]
  },
  {
   "cell_type": "code",
   "execution_count": 31,
   "metadata": {
    "execution": {
     "iopub.execute_input": "2021-07-25T15:49:27.324613Z",
     "iopub.status.busy": "2021-07-25T15:49:27.324268Z",
     "iopub.status.idle": "2021-07-25T15:49:27.347954Z",
     "shell.execute_reply": "2021-07-25T15:49:27.346830Z",
     "shell.execute_reply.started": "2021-07-25T15:49:27.324560Z"
    }
   },
   "outputs": [],
   "source": [
    "data['review_mood_normalise'] = normalise_col('review_mood')\n",
    "data['price_normalise'] = normalise_col('price_range')\n",
    "data['num_rev_normalise'] = normalise_col('number_of_reviews')"
   ]
  },
  {
   "cell_type": "markdown",
   "metadata": {},
   "source": [
    "# Добавление данных"
   ]
  },
  {
   "cell_type": "markdown",
   "metadata": {},
   "source": [
    "## Популяция"
   ]
  },
  {
   "cell_type": "code",
   "execution_count": 32,
   "metadata": {
    "execution": {
     "iopub.execute_input": "2021-07-25T15:49:27.350579Z",
     "iopub.status.busy": "2021-07-25T15:49:27.350002Z",
     "iopub.status.idle": "2021-07-25T15:49:27.375521Z",
     "shell.execute_reply": "2021-07-25T15:49:27.374584Z",
     "shell.execute_reply.started": "2021-07-25T15:49:27.350345Z"
    }
   },
   "outputs": [],
   "source": [
    "population = {\n",
    "    'London' : 8909081,\n",
    "    'Paris' : 2148271,\n",
    "    'Madrid' : 3223334,\n",
    "    'Barcelona' : 1620343,\n",
    "    'Berlin' : 3769495,\n",
    "    'Milan' : 1399860,\n",
    "    'Rome' : 2860009,\n",
    "    'Prague' : 1324277,\n",
    "    'Lisbon' : 505526,\n",
    "    'Vienna' : 2600000,\n",
    "    'Amsterdam' : 872680,\n",
    "    'Brussels' : 1208542,\n",
    "    'Hamburg' : 1845229,\n",
    "    'Munich' : 1484226,\n",
    "    'Lyon' : 516092,\n",
    "    'Stockholm' : 975904,\n",
    "    'Budapest' : 1752286,\n",
    "    'Warsaw' : 1793579,\n",
    "    'Dublin' : 554554,\n",
    "    'Copenhagen' : 794128,\n",
    "    'Athens' : 664046,\n",
    "    'Edinburgh' : 488050, \n",
    "    'Zurich' : 415215,\n",
    "    'Oporto' : 287591,\n",
    "    'Geneva' : 201818, \n",
    "    'Krakow' : 779115, \n",
    "    'Oslo' : 697549, \n",
    "    'Helsinki' : 656229,\n",
    "    'Bratislava' : 437726,\n",
    "    'Luxembourg' : 626108,\n",
    "    'Ljubljana' : 295504\n",
    "}\n",
    "\n",
    "data['population'] = data.city.map(population)"
   ]
  },
  {
   "cell_type": "markdown",
   "metadata": {},
   "source": [
    "## Столица"
   ]
  },
  {
   "cell_type": "code",
   "execution_count": 33,
   "metadata": {
    "execution": {
     "iopub.execute_input": "2021-07-25T15:49:27.377023Z",
     "iopub.status.busy": "2021-07-25T15:49:27.376792Z",
     "iopub.status.idle": "2021-07-25T15:49:27.429462Z",
     "shell.execute_reply": "2021-07-25T15:49:27.428637Z",
     "shell.execute_reply.started": "2021-07-25T15:49:27.376982Z"
    }
   },
   "outputs": [],
   "source": [
    "capital = ['London', 'Paris', 'Madrid', 'Berlin', 'Rome', 'Prague',\n",
    "          'Lisbon', 'Vienna', 'Amsterdam', 'Brussels', 'Stockholm',\n",
    "          'Budapest', 'Warsaw', 'Dublin', 'Copenhagen', 'Athens',\n",
    "          'Edinburgh', 'Oslo', 'Helsinki', 'Bratislava',\n",
    "          'Luxembourg', 'Ljubljana']\n",
    "data['is_capital'] = data.city.apply(lambda x: 1 if x in capital else 0)"
   ]
  },
  {
   "cell_type": "markdown",
   "metadata": {},
   "source": [
    "## Покупательская способность"
   ]
  },
  {
   "cell_type": "code",
   "execution_count": 34,
   "metadata": {
    "execution": {
     "iopub.execute_input": "2021-07-25T15:49:27.431038Z",
     "iopub.status.busy": "2021-07-25T15:49:27.430644Z",
     "iopub.status.idle": "2021-07-25T15:49:27.448527Z",
     "shell.execute_reply": "2021-07-25T15:49:27.447676Z",
     "shell.execute_reply.started": "2021-07-25T15:49:27.430846Z"
    }
   },
   "outputs": [],
   "source": [
    "purchasing_power_index = {\n",
    "    'London' : 24,\n",
    "    'Paris' : 22,\n",
    "    'Madrid' : 23,\n",
    "    'Barcelona' : 30,\n",
    "    'Berlin' : 8,\n",
    "    'Milan' : 40,\n",
    "    'Rome' : 37,\n",
    "    'Prague' : 31,\n",
    "    'Lisbon' : 48,\n",
    "    'Vienna' : 21,\n",
    "    'Amsterdam' : 19,\n",
    "    'Brussels' : 15,\n",
    "    'Hamburg' : 7,\n",
    "    'Munich' : 6,\n",
    "    'Lyon' : 70,\n",
    "    'Stockholm' : 13,\n",
    "    'Budapest' : 51,\n",
    "    'Warsaw' : 29,\n",
    "    'Dublin' : 27,\n",
    "    'Copenhagen' : 10,\n",
    "    'Athens' : 53,\n",
    "    'Edinburgh' : 16, \n",
    "    'Zurich' : 2,\n",
    "    'Oporto' : 42,\n",
    "    'Geneva' : 3, \n",
    "    'Krakow' : 36, \n",
    "    'Oslo' : 17, \n",
    "    'Helsinki' : 9,\n",
    "    'Bratislava' : 39,\n",
    "    'Luxembourg' : 4,\n",
    "    'Ljubljana' : 32\n",
    "}\n",
    "\n",
    "data['purchasing_power'] = data.city.map(purchasing_power_index)"
   ]
  },
  {
   "cell_type": "markdown",
   "metadata": {},
   "source": [
    "## ранг ресторана"
   ]
  },
  {
   "cell_type": "code",
   "execution_count": 35,
   "metadata": {
    "execution": {
     "iopub.execute_input": "2021-07-25T15:49:27.450157Z",
     "iopub.status.busy": "2021-07-25T15:49:27.449890Z",
     "iopub.status.idle": "2021-07-25T15:49:27.467435Z",
     "shell.execute_reply": "2021-07-25T15:49:27.466596Z",
     "shell.execute_reply.started": "2021-07-25T15:49:27.450104Z"
    }
   },
   "outputs": [],
   "source": [
    "data['ranking_of_reviews'] = data.ranking * data.number_of_reviews"
   ]
  },
  {
   "cell_type": "markdown",
   "metadata": {},
   "source": [
    "## соотношение ресторана и числа людей"
   ]
  },
  {
   "cell_type": "code",
   "execution_count": 36,
   "metadata": {
    "execution": {
     "iopub.execute_input": "2021-07-25T15:49:27.469023Z",
     "iopub.status.busy": "2021-07-25T15:49:27.468685Z",
     "iopub.status.idle": "2021-07-25T15:49:27.478396Z",
     "shell.execute_reply": "2021-07-25T15:49:27.477561Z",
     "shell.execute_reply.started": "2021-07-25T15:49:27.468968Z"
    }
   },
   "outputs": [],
   "source": [
    "data['reviews_per_population'] = data.number_of_reviews / data.population"
   ]
  },
  {
   "cell_type": "markdown",
   "metadata": {},
   "source": [
    "## максимальный ранг"
   ]
  },
  {
   "cell_type": "code",
   "execution_count": 37,
   "metadata": {
    "execution": {
     "iopub.execute_input": "2021-07-25T15:49:27.479829Z",
     "iopub.status.busy": "2021-07-25T15:49:27.479436Z",
     "iopub.status.idle": "2021-07-25T15:49:27.503769Z",
     "shell.execute_reply": "2021-07-25T15:49:27.502785Z",
     "shell.execute_reply.started": "2021-07-25T15:49:27.479789Z"
    }
   },
   "outputs": [],
   "source": [
    "ranking_max_per_city = data.groupby('city')['ranking'].max()\n",
    "data['rating_max_per_city'] = data.city.map(ranking_max_per_city)"
   ]
  },
  {
   "cell_type": "markdown",
   "metadata": {},
   "source": [
    "# Анализ данных"
   ]
  },
  {
   "cell_type": "code",
   "execution_count": 38,
   "metadata": {
    "execution": {
     "iopub.execute_input": "2021-07-25T15:49:27.505556Z",
     "iopub.status.busy": "2021-07-25T15:49:27.505294Z",
     "iopub.status.idle": "2021-07-25T15:49:27.569037Z",
     "shell.execute_reply": "2021-07-25T15:49:27.568088Z",
     "shell.execute_reply.started": "2021-07-25T15:49:27.505507Z"
    }
   },
   "outputs": [
    {
     "name": "stdout",
     "output_type": "stream",
     "text": [
      "<class 'pandas.core.frame.DataFrame'>\n",
      "RangeIndex: 50000 entries, 0 to 49999\n",
      "Data columns (total 30 columns):\n",
      "restaurant_id             50000 non-null object\n",
      "city                      50000 non-null object\n",
      "cuisine_style             50000 non-null object\n",
      "ranking                   50000 non-null float64\n",
      "price_range               50000 non-null int64\n",
      "number_of_reviews         50000 non-null float64\n",
      "reviews                   49998 non-null object\n",
      "url_ta                    50000 non-null object\n",
      "id_ta                     50000 non-null object\n",
      "sample                    50000 non-null int64\n",
      "rating                    50000 non-null float64\n",
      "review_1                  41886 non-null object\n",
      "date_1                    41886 non-null datetime64[ns]\n",
      "review_2                  36205 non-null object\n",
      "date_2                    36206 non-null datetime64[ns]\n",
      "words                     49998 non-null object\n",
      "review_mood               50000 non-null float64\n",
      "median_city_price         50000 non-null float64\n",
      "rank_city_min             50000 non-null float64\n",
      "rank_city_max             50000 non-null float64\n",
      "rank_norm                 50000 non-null float64\n",
      "review_mood_normalise     50000 non-null float64\n",
      "price_normalise           50000 non-null float64\n",
      "num_rev_normalise         50000 non-null float64\n",
      "population                50000 non-null int64\n",
      "is_capital                50000 non-null int64\n",
      "purchasing_power          50000 non-null int64\n",
      "ranking_of_reviews        50000 non-null float64\n",
      "reviews_per_population    50000 non-null float64\n",
      "rating_max_per_city       50000 non-null float64\n",
      "dtypes: datetime64[ns](2), float64(14), int64(5), object(9)\n",
      "memory usage: 11.4+ MB\n"
     ]
    }
   ],
   "source": [
    "data.info()"
   ]
  },
  {
   "cell_type": "code",
   "execution_count": 39,
   "metadata": {
    "execution": {
     "iopub.execute_input": "2021-07-25T15:49:27.575246Z",
     "iopub.status.busy": "2021-07-25T15:49:27.574961Z",
     "iopub.status.idle": "2021-07-25T15:49:28.348400Z",
     "shell.execute_reply": "2021-07-25T15:49:28.347483Z",
     "shell.execute_reply.started": "2021-07-25T15:49:27.575197Z"
    }
   },
   "outputs": [
    {
     "data": {
      "text/plain": [
       "<matplotlib.axes._subplots.AxesSubplot at 0x7f6e286bb0b8>"
      ]
     },
     "execution_count": 39,
     "metadata": {},
     "output_type": "execute_result"
    },
    {
     "data": {
      "image/png": "[encoded data removed]",
      "text/plain": [
       "<Figure size 1080x720 with 2 Axes>"
      ]
     },
     "metadata": {
      "needs_background": "light"
     },
     "output_type": "display_data"
    }
   ],
   "source": [
    "plt.rcParams['figure.figsize'] = (15,10)\n",
    "sns.heatmap(data.drop(['sample'], axis=1).corr(),)"
   ]
  },
  {
   "cell_type": "code",
   "execution_count": 40,
   "metadata": {
    "execution": {
     "iopub.execute_input": "2021-07-25T15:49:28.350548Z",
     "iopub.status.busy": "2021-07-25T15:49:28.350012Z",
     "iopub.status.idle": "2021-07-25T15:49:28.366264Z",
     "shell.execute_reply": "2021-07-25T15:49:28.365432Z",
     "shell.execute_reply.started": "2021-07-25T15:49:28.350490Z"
    }
   },
   "outputs": [],
   "source": [
    "data.drop(['cuisine_style', 'review_mood', 'price_range','ranking',\n",
    "         'number_of_reviews', 'id_ta', 'url_ta', 'restaurant_id'], axis=1, inplace=True)"
   ]
  },
  {
   "cell_type": "markdown",
   "metadata": {},
   "source": [
    "# Dummy"
   ]
  },
  {
   "cell_type": "code",
   "execution_count": 41,
   "metadata": {
    "execution": {
     "iopub.execute_input": "2021-07-25T15:49:28.368128Z",
     "iopub.status.busy": "2021-07-25T15:49:28.367630Z",
     "iopub.status.idle": "2021-07-25T15:49:28.380327Z",
     "shell.execute_reply": "2021-07-25T15:49:28.379495Z",
     "shell.execute_reply.started": "2021-07-25T15:49:28.368072Z"
    }
   },
   "outputs": [
    {
     "data": {
      "text/plain": [
       "Index(['city', 'reviews', 'sample', 'rating', 'review_1', 'date_1', 'review_2',\n",
       "       'date_2', 'words', 'median_city_price', 'rank_city_min',\n",
       "       'rank_city_max', 'rank_norm', 'review_mood_normalise',\n",
       "       'price_normalise', 'num_rev_normalise', 'population', 'is_capital',\n",
       "       'purchasing_power', 'ranking_of_reviews', 'reviews_per_population',\n",
       "       'rating_max_per_city'],\n",
       "      dtype='object')"
      ]
     },
     "execution_count": 41,
     "metadata": {},
     "output_type": "execute_result"
    }
   ],
   "source": [
    "data.columns"
   ]
  },
  {
   "cell_type": "code",
   "execution_count": 42,
   "metadata": {
    "execution": {
     "iopub.execute_input": "2021-07-25T15:49:28.382302Z",
     "iopub.status.busy": "2021-07-25T15:49:28.382030Z",
     "iopub.status.idle": "2021-07-25T15:49:30.071201Z",
     "shell.execute_reply": "2021-07-25T15:49:30.070101Z",
     "shell.execute_reply.started": "2021-07-25T15:49:28.382259Z"
    }
   },
   "outputs": [
    {
     "data": {
      "text/plain": [
       "<matplotlib.axes._subplots.AxesSubplot at 0x7f6e28e67b38>"
      ]
     },
     "execution_count": 42,
     "metadata": {},
     "output_type": "execute_result"
    },
    {
     "data": {
      "image/png": "[encoded data removed]",
      "text/plain": [
       "<Figure size 1080x720 with 2 Axes>"
      ]
     },
     "metadata": {
      "needs_background": "light"
     },
     "output_type": "display_data"
    }
   ],
   "source": [
    "data = pd.get_dummies(data, columns=['city', ], dummy_na=True)\n",
    "data.drop('city_nan', axis=1, inplace=True)\n",
    "\n",
    "plt.rcParams['figure.figsize'] = (15,10)\n",
    "sns.heatmap(data.corr(),)"
   ]
  },
  {
   "cell_type": "code",
   "execution_count": 43,
   "metadata": {
    "execution": {
     "iopub.execute_input": "2021-07-25T15:49:30.072858Z",
     "iopub.status.busy": "2021-07-25T15:49:30.072516Z",
     "iopub.status.idle": "2021-07-25T15:49:30.123662Z",
     "shell.execute_reply": "2021-07-25T15:49:30.122521Z",
     "shell.execute_reply.started": "2021-07-25T15:49:30.072802Z"
    }
   },
   "outputs": [
    {
     "data": {
      "text/html": [
       "<div>\n",
       "<style scoped>\n",
       "    .dataframe tbody tr th:only-of-type {\n",
       "        vertical-align: middle;\n",
       "    }\n",
       "\n",
       "    .dataframe tbody tr th {\n",
       "        vertical-align: top;\n",
       "    }\n",
       "\n",
       "    .dataframe thead th {\n",
       "        text-align: right;\n",
       "    }\n",
       "</style>\n",
       "<table border=\"1\" class=\"dataframe\">\n",
       "  <thead>\n",
       "    <tr style=\"text-align: right;\">\n",
       "      <th></th>\n",
       "      <th>reviews</th>\n",
       "      <th>sample</th>\n",
       "      <th>rating</th>\n",
       "      <th>review_1</th>\n",
       "      <th>date_1</th>\n",
       "      <th>review_2</th>\n",
       "      <th>date_2</th>\n",
       "      <th>words</th>\n",
       "      <th>median_city_price</th>\n",
       "      <th>rank_city_min</th>\n",
       "      <th>rank_city_max</th>\n",
       "      <th>rank_norm</th>\n",
       "      <th>review_mood_normalise</th>\n",
       "      <th>price_normalise</th>\n",
       "      <th>num_rev_normalise</th>\n",
       "      <th>population</th>\n",
       "      <th>is_capital</th>\n",
       "      <th>purchasing_power</th>\n",
       "      <th>ranking_of_reviews</th>\n",
       "      <th>reviews_per_population</th>\n",
       "      <th>rating_max_per_city</th>\n",
       "      <th>city_Amsterdam</th>\n",
       "      <th>city_Athens</th>\n",
       "      <th>city_Barcelona</th>\n",
       "      <th>city_Berlin</th>\n",
       "      <th>...</th>\n",
       "      <th>city_Budapest</th>\n",
       "      <th>city_Copenhagen</th>\n",
       "      <th>city_Dublin</th>\n",
       "      <th>city_Edinburgh</th>\n",
       "      <th>city_Geneva</th>\n",
       "      <th>city_Hamburg</th>\n",
       "      <th>city_Helsinki</th>\n",
       "      <th>city_Krakow</th>\n",
       "      <th>city_Lisbon</th>\n",
       "      <th>city_Ljubljana</th>\n",
       "      <th>city_London</th>\n",
       "      <th>city_Luxembourg</th>\n",
       "      <th>city_Lyon</th>\n",
       "      <th>city_Madrid</th>\n",
       "      <th>city_Milan</th>\n",
       "      <th>city_Munich</th>\n",
       "      <th>city_Oporto</th>\n",
       "      <th>city_Oslo</th>\n",
       "      <th>city_Paris</th>\n",
       "      <th>city_Prague</th>\n",
       "      <th>city_Rome</th>\n",
       "      <th>city_Stockholm</th>\n",
       "      <th>city_Vienna</th>\n",
       "      <th>city_Warsaw</th>\n",
       "      <th>city_Zurich</th>\n",
       "    </tr>\n",
       "  </thead>\n",
       "  <tbody>\n",
       "    <tr>\n",
       "      <th>0</th>\n",
       "      <td>[[], []]</td>\n",
       "      <td>0</td>\n",
       "      <td>0.0</td>\n",
       "      <td>NaN</td>\n",
       "      <td>NaT</td>\n",
       "      <td>NaN</td>\n",
       "      <td>NaT</td>\n",
       "      <td>[]</td>\n",
       "      <td>65.478880</td>\n",
       "      <td>3.0</td>\n",
       "      <td>13986.0</td>\n",
       "      <td>0.92684</td>\n",
       "      <td>0.000000</td>\n",
       "      <td>0.090909</td>\n",
       "      <td>0.000414</td>\n",
       "      <td>2148271</td>\n",
       "      <td>1</td>\n",
       "      <td>22</td>\n",
       "      <td>51852.0</td>\n",
       "      <td>0.000002</td>\n",
       "      <td>13986.0</td>\n",
       "      <td>0</td>\n",
       "      <td>0</td>\n",
       "      <td>0</td>\n",
       "      <td>0</td>\n",
       "      <td>...</td>\n",
       "      <td>0</td>\n",
       "      <td>0</td>\n",
       "      <td>0</td>\n",
       "      <td>0</td>\n",
       "      <td>0</td>\n",
       "      <td>0</td>\n",
       "      <td>0</td>\n",
       "      <td>0</td>\n",
       "      <td>0</td>\n",
       "      <td>0</td>\n",
       "      <td>0</td>\n",
       "      <td>0</td>\n",
       "      <td>0</td>\n",
       "      <td>0</td>\n",
       "      <td>0</td>\n",
       "      <td>0</td>\n",
       "      <td>0</td>\n",
       "      <td>0</td>\n",
       "      <td>1</td>\n",
       "      <td>0</td>\n",
       "      <td>0</td>\n",
       "      <td>0</td>\n",
       "      <td>0</td>\n",
       "      <td>0</td>\n",
       "      <td>0</td>\n",
       "    </tr>\n",
       "    <tr>\n",
       "      <th>1</th>\n",
       "      <td>[['Very good reviews!', 'Fine dining in Hakani...</td>\n",
       "      <td>0</td>\n",
       "      <td>0.0</td>\n",
       "      <td>Very good reviews!</td>\n",
       "      <td>2017-12-05</td>\n",
       "      <td>Fine dining in Hakaniem</td>\n",
       "      <td>2017-10-29</td>\n",
       "      <td>[Very, good, reviews, Fine, dining, in, Hakani...</td>\n",
       "      <td>62.221053</td>\n",
       "      <td>4.0</td>\n",
       "      <td>1141.0</td>\n",
       "      <td>0.08971</td>\n",
       "      <td>0.142857</td>\n",
       "      <td>0.090909</td>\n",
       "      <td>0.010041</td>\n",
       "      <td>656229</td>\n",
       "      <td>1</td>\n",
       "      <td>9</td>\n",
       "      <td>10282.0</td>\n",
       "      <td>0.000148</td>\n",
       "      <td>1141.0</td>\n",
       "      <td>0</td>\n",
       "      <td>0</td>\n",
       "      <td>0</td>\n",
       "      <td>0</td>\n",
       "      <td>...</td>\n",
       "      <td>0</td>\n",
       "      <td>0</td>\n",
       "      <td>0</td>\n",
       "      <td>0</td>\n",
       "      <td>0</td>\n",
       "      <td>0</td>\n",
       "      <td>1</td>\n",
       "      <td>0</td>\n",
       "      <td>0</td>\n",
       "      <td>0</td>\n",
       "      <td>0</td>\n",
       "      <td>0</td>\n",
       "      <td>0</td>\n",
       "      <td>0</td>\n",
       "      <td>0</td>\n",
       "      <td>0</td>\n",
       "      <td>0</td>\n",
       "      <td>0</td>\n",
       "      <td>0</td>\n",
       "      <td>0</td>\n",
       "      <td>0</td>\n",
       "      <td>0</td>\n",
       "      <td>0</td>\n",
       "      <td>0</td>\n",
       "      <td>0</td>\n",
       "    </tr>\n",
       "  </tbody>\n",
       "</table>\n",
       "<p>2 rows × 52 columns</p>\n",
       "</div>"
      ],
      "text/plain": [
       "                                             reviews  sample  rating  \\\n",
       "0                                           [[], []]       0     0.0   \n",
       "1  [['Very good reviews!', 'Fine dining in Hakani...       0     0.0   \n",
       "\n",
       "             review_1     date_1                 review_2     date_2  \\\n",
       "0                 NaN        NaT                      NaN        NaT   \n",
       "1  Very good reviews! 2017-12-05  Fine dining in Hakaniem 2017-10-29   \n",
       "\n",
       "                                               words  median_city_price  \\\n",
       "0                                                 []          65.478880   \n",
       "1  [Very, good, reviews, Fine, dining, in, Hakani...          62.221053   \n",
       "\n",
       "   rank_city_min  rank_city_max  rank_norm  review_mood_normalise  \\\n",
       "0            3.0        13986.0    0.92684               0.000000   \n",
       "1            4.0         1141.0    0.08971               0.142857   \n",
       "\n",
       "   price_normalise  num_rev_normalise  population  is_capital  \\\n",
       "0         0.090909           0.000414     2148271           1   \n",
       "1         0.090909           0.010041      656229           1   \n",
       "\n",
       "   purchasing_power  ranking_of_reviews  reviews_per_population  \\\n",
       "0                22             51852.0                0.000002   \n",
       "1                 9             10282.0                0.000148   \n",
       "\n",
       "   rating_max_per_city  city_Amsterdam  city_Athens  city_Barcelona  \\\n",
       "0              13986.0               0            0               0   \n",
       "1               1141.0               0            0               0   \n",
       "\n",
       "   city_Berlin  ...  city_Budapest  city_Copenhagen  city_Dublin  \\\n",
       "0            0  ...              0                0            0   \n",
       "1            0  ...              0                0            0   \n",
       "\n",
       "   city_Edinburgh  city_Geneva  city_Hamburg  city_Helsinki  city_Krakow  \\\n",
       "0               0            0             0              0            0   \n",
       "1               0            0             0              1            0   \n",
       "\n",
       "   city_Lisbon  city_Ljubljana  city_London  city_Luxembourg  city_Lyon  \\\n",
       "0            0               0            0                0          0   \n",
       "1            0               0            0                0          0   \n",
       "\n",
       "   city_Madrid  city_Milan  city_Munich  city_Oporto  city_Oslo  city_Paris  \\\n",
       "0            0           0            0            0          0           1   \n",
       "1            0           0            0            0          0           0   \n",
       "\n",
       "   city_Prague  city_Rome  city_Stockholm  city_Vienna  city_Warsaw  \\\n",
       "0            0          0               0            0            0   \n",
       "1            0          0               0            0            0   \n",
       "\n",
       "   city_Zurich  \n",
       "0            0  \n",
       "1            0  \n",
       "\n",
       "[2 rows x 52 columns]"
      ]
     },
     "execution_count": 43,
     "metadata": {},
     "output_type": "execute_result"
    }
   ],
   "source": [
    "data.head(2)"
   ]
  },
  {
   "cell_type": "code",
   "execution_count": 44,
   "metadata": {
    "execution": {
     "iopub.execute_input": "2021-07-25T15:49:30.125765Z",
     "iopub.status.busy": "2021-07-25T15:49:30.125211Z",
     "iopub.status.idle": "2021-07-25T15:49:30.161790Z",
     "shell.execute_reply": "2021-07-25T15:49:30.161024Z",
     "shell.execute_reply.started": "2021-07-25T15:49:30.125492Z"
    }
   },
   "outputs": [
    {
     "data": {
      "text/html": [
       "<div>\n",
       "<style scoped>\n",
       "    .dataframe tbody tr th:only-of-type {\n",
       "        vertical-align: middle;\n",
       "    }\n",
       "\n",
       "    .dataframe tbody tr th {\n",
       "        vertical-align: top;\n",
       "    }\n",
       "\n",
       "    .dataframe thead th {\n",
       "        text-align: right;\n",
       "    }\n",
       "</style>\n",
       "<table border=\"1\" class=\"dataframe\">\n",
       "  <thead>\n",
       "    <tr style=\"text-align: right;\">\n",
       "      <th></th>\n",
       "      <th>sample</th>\n",
       "      <th>rating</th>\n",
       "      <th>median_city_price</th>\n",
       "      <th>rank_city_min</th>\n",
       "      <th>rank_city_max</th>\n",
       "      <th>rank_norm</th>\n",
       "      <th>review_mood_normalise</th>\n",
       "      <th>price_normalise</th>\n",
       "      <th>num_rev_normalise</th>\n",
       "      <th>population</th>\n",
       "      <th>is_capital</th>\n",
       "      <th>purchasing_power</th>\n",
       "      <th>ranking_of_reviews</th>\n",
       "      <th>reviews_per_population</th>\n",
       "      <th>rating_max_per_city</th>\n",
       "      <th>city_Amsterdam</th>\n",
       "      <th>city_Athens</th>\n",
       "      <th>city_Barcelona</th>\n",
       "      <th>city_Berlin</th>\n",
       "      <th>city_Bratislava</th>\n",
       "      <th>city_Brussels</th>\n",
       "      <th>city_Budapest</th>\n",
       "      <th>city_Copenhagen</th>\n",
       "      <th>city_Dublin</th>\n",
       "      <th>city_Edinburgh</th>\n",
       "      <th>city_Geneva</th>\n",
       "      <th>city_Hamburg</th>\n",
       "      <th>city_Helsinki</th>\n",
       "      <th>city_Krakow</th>\n",
       "      <th>city_Lisbon</th>\n",
       "      <th>city_Ljubljana</th>\n",
       "      <th>city_London</th>\n",
       "      <th>city_Luxembourg</th>\n",
       "      <th>city_Lyon</th>\n",
       "      <th>city_Madrid</th>\n",
       "      <th>city_Milan</th>\n",
       "      <th>city_Munich</th>\n",
       "      <th>city_Oporto</th>\n",
       "      <th>city_Oslo</th>\n",
       "      <th>city_Paris</th>\n",
       "      <th>city_Prague</th>\n",
       "      <th>city_Rome</th>\n",
       "      <th>city_Stockholm</th>\n",
       "      <th>city_Vienna</th>\n",
       "      <th>city_Warsaw</th>\n",
       "      <th>city_Zurich</th>\n",
       "    </tr>\n",
       "  </thead>\n",
       "  <tbody>\n",
       "    <tr>\n",
       "      <th>0</th>\n",
       "      <td>0</td>\n",
       "      <td>0.0</td>\n",
       "      <td>65.478880</td>\n",
       "      <td>3.0</td>\n",
       "      <td>13986.0</td>\n",
       "      <td>0.92684</td>\n",
       "      <td>0.000000</td>\n",
       "      <td>0.090909</td>\n",
       "      <td>0.000414</td>\n",
       "      <td>2148271</td>\n",
       "      <td>1</td>\n",
       "      <td>22</td>\n",
       "      <td>51852.0</td>\n",
       "      <td>0.000002</td>\n",
       "      <td>13986.0</td>\n",
       "      <td>0</td>\n",
       "      <td>0</td>\n",
       "      <td>0</td>\n",
       "      <td>0</td>\n",
       "      <td>0</td>\n",
       "      <td>0</td>\n",
       "      <td>0</td>\n",
       "      <td>0</td>\n",
       "      <td>0</td>\n",
       "      <td>0</td>\n",
       "      <td>0</td>\n",
       "      <td>0</td>\n",
       "      <td>0</td>\n",
       "      <td>0</td>\n",
       "      <td>0</td>\n",
       "      <td>0</td>\n",
       "      <td>0</td>\n",
       "      <td>0</td>\n",
       "      <td>0</td>\n",
       "      <td>0</td>\n",
       "      <td>0</td>\n",
       "      <td>0</td>\n",
       "      <td>0</td>\n",
       "      <td>0</td>\n",
       "      <td>1</td>\n",
       "      <td>0</td>\n",
       "      <td>0</td>\n",
       "      <td>0</td>\n",
       "      <td>0</td>\n",
       "      <td>0</td>\n",
       "      <td>0</td>\n",
       "    </tr>\n",
       "    <tr>\n",
       "      <th>1</th>\n",
       "      <td>0</td>\n",
       "      <td>0.0</td>\n",
       "      <td>62.221053</td>\n",
       "      <td>4.0</td>\n",
       "      <td>1141.0</td>\n",
       "      <td>0.08971</td>\n",
       "      <td>0.142857</td>\n",
       "      <td>0.090909</td>\n",
       "      <td>0.010041</td>\n",
       "      <td>656229</td>\n",
       "      <td>1</td>\n",
       "      <td>9</td>\n",
       "      <td>10282.0</td>\n",
       "      <td>0.000148</td>\n",
       "      <td>1141.0</td>\n",
       "      <td>0</td>\n",
       "      <td>0</td>\n",
       "      <td>0</td>\n",
       "      <td>0</td>\n",
       "      <td>0</td>\n",
       "      <td>0</td>\n",
       "      <td>0</td>\n",
       "      <td>0</td>\n",
       "      <td>0</td>\n",
       "      <td>0</td>\n",
       "      <td>0</td>\n",
       "      <td>0</td>\n",
       "      <td>1</td>\n",
       "      <td>0</td>\n",
       "      <td>0</td>\n",
       "      <td>0</td>\n",
       "      <td>0</td>\n",
       "      <td>0</td>\n",
       "      <td>0</td>\n",
       "      <td>0</td>\n",
       "      <td>0</td>\n",
       "      <td>0</td>\n",
       "      <td>0</td>\n",
       "      <td>0</td>\n",
       "      <td>0</td>\n",
       "      <td>0</td>\n",
       "      <td>0</td>\n",
       "      <td>0</td>\n",
       "      <td>0</td>\n",
       "      <td>0</td>\n",
       "      <td>0</td>\n",
       "    </tr>\n",
       "  </tbody>\n",
       "</table>\n",
       "</div>"
      ],
      "text/plain": [
       "   sample  rating  median_city_price  rank_city_min  rank_city_max  rank_norm  \\\n",
       "0       0     0.0          65.478880            3.0        13986.0    0.92684   \n",
       "1       0     0.0          62.221053            4.0         1141.0    0.08971   \n",
       "\n",
       "   review_mood_normalise  price_normalise  num_rev_normalise  population  \\\n",
       "0               0.000000         0.090909           0.000414     2148271   \n",
       "1               0.142857         0.090909           0.010041      656229   \n",
       "\n",
       "   is_capital  purchasing_power  ranking_of_reviews  reviews_per_population  \\\n",
       "0           1                22             51852.0                0.000002   \n",
       "1           1                 9             10282.0                0.000148   \n",
       "\n",
       "   rating_max_per_city  city_Amsterdam  city_Athens  city_Barcelona  \\\n",
       "0              13986.0               0            0               0   \n",
       "1               1141.0               0            0               0   \n",
       "\n",
       "   city_Berlin  city_Bratislava  city_Brussels  city_Budapest  \\\n",
       "0            0                0              0              0   \n",
       "1            0                0              0              0   \n",
       "\n",
       "   city_Copenhagen  city_Dublin  city_Edinburgh  city_Geneva  city_Hamburg  \\\n",
       "0                0            0               0            0             0   \n",
       "1                0            0               0            0             0   \n",
       "\n",
       "   city_Helsinki  city_Krakow  city_Lisbon  city_Ljubljana  city_London  \\\n",
       "0              0            0            0               0            0   \n",
       "1              1            0            0               0            0   \n",
       "\n",
       "   city_Luxembourg  city_Lyon  city_Madrid  city_Milan  city_Munich  \\\n",
       "0                0          0            0           0            0   \n",
       "1                0          0            0           0            0   \n",
       "\n",
       "   city_Oporto  city_Oslo  city_Paris  city_Prague  city_Rome  city_Stockholm  \\\n",
       "0            0          0           1            0          0               0   \n",
       "1            0          0           0            0          0               0   \n",
       "\n",
       "   city_Vienna  city_Warsaw  city_Zurich  \n",
       "0            0            0            0  \n",
       "1            0            0            0  "
      ]
     },
     "execution_count": 44,
     "metadata": {},
     "output_type": "execute_result"
    }
   ],
   "source": [
    "data.drop(['reviews', 'reviews', 'review_1', 'date_1',\n",
    "         'review_2', 'date_2', 'words'], axis=1, inplace=True)\n",
    "data.head(2)"
   ]
  },
  {
   "cell_type": "markdown",
   "metadata": {},
   "source": [
    "#### Запускаем и проверяем что получилось"
   ]
  },
  {
   "cell_type": "code",
   "execution_count": 45,
   "metadata": {
    "execution": {
     "iopub.execute_input": "2021-07-25T15:49:30.163492Z",
     "iopub.status.busy": "2021-07-25T15:49:30.163227Z",
     "iopub.status.idle": "2021-07-25T15:49:30.342691Z",
     "shell.execute_reply": "2021-07-25T15:49:30.341810Z",
     "shell.execute_reply.started": "2021-07-25T15:49:30.163442Z"
    }
   },
   "outputs": [],
   "source": [
    "# Теперь выделим тестовую часть\n",
    "train_data = data.query('sample == 1').drop(['sample'], axis=1)\n",
    "test_data = data.query('sample == 0').drop(['sample'], axis=1)\n",
    "\n",
    "y = train_data.rating.values            # наш таргет\n",
    "X = train_data.drop(['rating'], axis=1)"
   ]
  },
  {
   "cell_type": "markdown",
   "metadata": {},
   "source": [
    "**Перед тем как отправлять наши данные на обучение, разделим данные на еще один тест и трейн, для валидации. \n",
    "Это поможет нам проверить, как хорошо наша модель работает, до отправки submissiona на kaggle.**"
   ]
  },
  {
   "cell_type": "code",
   "execution_count": 46,
   "metadata": {
    "execution": {
     "iopub.execute_input": "2021-07-25T15:49:30.344754Z",
     "iopub.status.busy": "2021-07-25T15:49:30.344473Z",
     "iopub.status.idle": "2021-07-25T15:49:30.362002Z",
     "shell.execute_reply": "2021-07-25T15:49:30.361055Z",
     "shell.execute_reply.started": "2021-07-25T15:49:30.344703Z"
    }
   },
   "outputs": [],
   "source": [
    "# Воспользуемся специальной функцие train_test_split для разбивки тестовых данных\n",
    "# выделим 20% данных на валидацию (параметр test_size)\n",
    "X_train, X_test, y_train, y_test = train_test_split(X, y, test_size=0.2, random_state=RANDOM_SEED)"
   ]
  },
  {
   "cell_type": "code",
   "execution_count": 47,
   "metadata": {
    "execution": {
     "iopub.execute_input": "2021-07-25T15:49:30.363901Z",
     "iopub.status.busy": "2021-07-25T15:49:30.363558Z",
     "iopub.status.idle": "2021-07-25T15:49:30.371413Z",
     "shell.execute_reply": "2021-07-25T15:49:30.370783Z",
     "shell.execute_reply.started": "2021-07-25T15:49:30.363835Z"
    }
   },
   "outputs": [
    {
     "data": {
      "text/plain": [
       "((10000, 45), (40000, 45), (40000, 44), (32000, 44), (8000, 44))"
      ]
     },
     "execution_count": 47,
     "metadata": {},
     "output_type": "execute_result"
    }
   ],
   "source": [
    "# проверяем\n",
    "test_data.shape, train_data.shape, X.shape, X_train.shape, X_test.shape"
   ]
  },
  {
   "cell_type": "markdown",
   "metadata": {},
   "source": [
    "# Model \n",
    "Сам ML"
   ]
  },
  {
   "cell_type": "code",
   "execution_count": 48,
   "metadata": {
    "execution": {
     "iopub.execute_input": "2021-07-25T15:49:30.372685Z",
     "iopub.status.busy": "2021-07-25T15:49:30.372455Z",
     "iopub.status.idle": "2021-07-25T15:49:30.382248Z",
     "shell.execute_reply": "2021-07-25T15:49:30.381582Z",
     "shell.execute_reply.started": "2021-07-25T15:49:30.372653Z"
    }
   },
   "outputs": [],
   "source": [
    "# Создаём модель (НАСТРОЙКИ НЕ ТРОГАЕМ)\n",
    "model = RandomForestRegressor(n_estimators=100, verbose=1, n_jobs=-1, random_state=RANDOM_SEED)"
   ]
  },
  {
   "cell_type": "code",
   "execution_count": 49,
   "metadata": {
    "execution": {
     "iopub.execute_input": "2021-07-25T15:49:30.383639Z",
     "iopub.status.busy": "2021-07-25T15:49:30.383421Z",
     "iopub.status.idle": "2021-07-25T15:49:38.884325Z",
     "shell.execute_reply": "2021-07-25T15:49:38.883535Z",
     "shell.execute_reply.started": "2021-07-25T15:49:30.383601Z"
    }
   },
   "outputs": [
    {
     "name": "stderr",
     "output_type": "stream",
     "text": [
      "[Parallel(n_jobs=-1)]: Using backend ThreadingBackend with 4 concurrent workers.\n",
      "[Parallel(n_jobs=-1)]: Done  42 tasks      | elapsed:    3.5s\n",
      "[Parallel(n_jobs=-1)]: Done 100 out of 100 | elapsed:    8.1s finished\n",
      "[Parallel(n_jobs=4)]: Using backend ThreadingBackend with 4 concurrent workers.\n",
      "[Parallel(n_jobs=4)]: Done  42 tasks      | elapsed:    0.0s\n",
      "[Parallel(n_jobs=4)]: Done 100 out of 100 | elapsed:    0.1s finished\n"
     ]
    }
   ],
   "source": [
    "# Обучаем модель на тестовом наборе данных\n",
    "model.fit(X_train, y_train)\n",
    "\n",
    "# Используем обученную модель для предсказания рейтинга ресторанов в тестовой выборке.\n",
    "# Предсказанные значения записываем в переменную y_pred\n",
    "y_pred = model.predict(X_test)"
   ]
  },
  {
   "cell_type": "code",
   "execution_count": 50,
   "metadata": {
    "execution": {
     "iopub.execute_input": "2021-07-25T15:49:38.886057Z",
     "iopub.status.busy": "2021-07-25T15:49:38.885798Z",
     "iopub.status.idle": "2021-07-25T15:49:38.889948Z",
     "shell.execute_reply": "2021-07-25T15:49:38.889253Z",
     "shell.execute_reply.started": "2021-07-25T15:49:38.886019Z"
    }
   },
   "outputs": [],
   "source": [
    "y_pred = np.round(y_pred * 2) / 2"
   ]
  },
  {
   "cell_type": "code",
   "execution_count": 51,
   "metadata": {
    "execution": {
     "iopub.execute_input": "2021-07-25T15:49:38.891115Z",
     "iopub.status.busy": "2021-07-25T15:49:38.890853Z",
     "iopub.status.idle": "2021-07-25T15:49:38.903122Z",
     "shell.execute_reply": "2021-07-25T15:49:38.902501Z",
     "shell.execute_reply.started": "2021-07-25T15:49:38.891078Z"
    }
   },
   "outputs": [
    {
     "name": "stdout",
     "output_type": "stream",
     "text": [
      "MAE: 0.179125\n"
     ]
    }
   ],
   "source": [
    "# Сравниваем предсказанные значения (y_pred) с реальными (y_test), и смотрим насколько они в среднем отличаются\n",
    "# Метрика называется Mean Absolute Error (MAE) и показывает среднее отклонение предсказанных значений от фактических.\n",
    "print('MAE:', metrics.mean_absolute_error(y_test, y_pred))"
   ]
  },
  {
   "cell_type": "code",
   "execution_count": 52,
   "metadata": {
    "execution": {
     "iopub.execute_input": "2021-07-25T15:49:38.904691Z",
     "iopub.status.busy": "2021-07-25T15:49:38.904352Z",
     "iopub.status.idle": "2021-07-25T15:49:39.280066Z",
     "shell.execute_reply": "2021-07-25T15:49:39.279006Z",
     "shell.execute_reply.started": "2021-07-25T15:49:38.904654Z"
    }
   },
   "outputs": [
    {
     "data": {
      "text/plain": [
       "<matplotlib.axes._subplots.AxesSubplot at 0x7f6e28faa358>"
      ]
     },
     "execution_count": 52,
     "metadata": {},
     "output_type": "execute_result"
    },
    {
     "data": {
      "image/png": "[encoded data removed]",
      "text/plain": [
       "<Figure size 720x720 with 1 Axes>"
      ]
     },
     "metadata": {
      "needs_background": "light"
     },
     "output_type": "display_data"
    }
   ],
   "source": [
    "# в RandomForestRegressor есть возможность вывести самые важные признаки для модели\n",
    "plt.rcParams['figure.figsize'] = (10,10)\n",
    "feat_importances = pd.Series(model.feature_importances_, index=X.columns)\n",
    "feat_importances.nlargest(15).plot(kind='barh')"
   ]
  },
  {
   "cell_type": "markdown",
   "metadata": {},
   "source": [
    "# Submission\n",
    "Если все устраевает - готовим Submission на кагл"
   ]
  },
  {
   "cell_type": "code",
   "execution_count": 53,
   "metadata": {
    "execution": {
     "iopub.execute_input": "2021-07-25T15:49:39.282336Z",
     "iopub.status.busy": "2021-07-25T15:49:39.281783Z",
     "iopub.status.idle": "2021-07-25T15:49:39.347147Z",
     "shell.execute_reply": "2021-07-25T15:49:39.346477Z",
     "shell.execute_reply.started": "2021-07-25T15:49:39.282275Z"
    }
   },
   "outputs": [
    {
     "data": {
      "text/html": [
       "<div>\n",
       "<style scoped>\n",
       "    .dataframe tbody tr th:only-of-type {\n",
       "        vertical-align: middle;\n",
       "    }\n",
       "\n",
       "    .dataframe tbody tr th {\n",
       "        vertical-align: top;\n",
       "    }\n",
       "\n",
       "    .dataframe thead th {\n",
       "        text-align: right;\n",
       "    }\n",
       "</style>\n",
       "<table border=\"1\" class=\"dataframe\">\n",
       "  <thead>\n",
       "    <tr style=\"text-align: right;\">\n",
       "      <th></th>\n",
       "      <th>rating</th>\n",
       "      <th>median_city_price</th>\n",
       "      <th>rank_city_min</th>\n",
       "      <th>rank_city_max</th>\n",
       "      <th>rank_norm</th>\n",
       "      <th>review_mood_normalise</th>\n",
       "      <th>price_normalise</th>\n",
       "      <th>num_rev_normalise</th>\n",
       "      <th>population</th>\n",
       "      <th>is_capital</th>\n",
       "      <th>purchasing_power</th>\n",
       "      <th>ranking_of_reviews</th>\n",
       "      <th>reviews_per_population</th>\n",
       "      <th>rating_max_per_city</th>\n",
       "      <th>city_Amsterdam</th>\n",
       "      <th>city_Athens</th>\n",
       "      <th>city_Barcelona</th>\n",
       "      <th>city_Berlin</th>\n",
       "      <th>city_Bratislava</th>\n",
       "      <th>city_Brussels</th>\n",
       "      <th>city_Budapest</th>\n",
       "      <th>city_Copenhagen</th>\n",
       "      <th>city_Dublin</th>\n",
       "      <th>city_Edinburgh</th>\n",
       "      <th>city_Geneva</th>\n",
       "      <th>city_Hamburg</th>\n",
       "      <th>city_Helsinki</th>\n",
       "      <th>city_Krakow</th>\n",
       "      <th>city_Lisbon</th>\n",
       "      <th>city_Ljubljana</th>\n",
       "      <th>city_London</th>\n",
       "      <th>city_Luxembourg</th>\n",
       "      <th>city_Lyon</th>\n",
       "      <th>city_Madrid</th>\n",
       "      <th>city_Milan</th>\n",
       "      <th>city_Munich</th>\n",
       "      <th>city_Oporto</th>\n",
       "      <th>city_Oslo</th>\n",
       "      <th>city_Paris</th>\n",
       "      <th>city_Prague</th>\n",
       "      <th>city_Rome</th>\n",
       "      <th>city_Stockholm</th>\n",
       "      <th>city_Vienna</th>\n",
       "      <th>city_Warsaw</th>\n",
       "      <th>city_Zurich</th>\n",
       "    </tr>\n",
       "  </thead>\n",
       "  <tbody>\n",
       "    <tr>\n",
       "      <th>1321</th>\n",
       "      <td>0.0</td>\n",
       "      <td>76.934307</td>\n",
       "      <td>2.0</td>\n",
       "      <td>1601.0</td>\n",
       "      <td>0.471545</td>\n",
       "      <td>0.142857</td>\n",
       "      <td>0.000000</td>\n",
       "      <td>0.001346</td>\n",
       "      <td>415215</td>\n",
       "      <td>0</td>\n",
       "      <td>2</td>\n",
       "      <td>9828.0</td>\n",
       "      <td>0.000031</td>\n",
       "      <td>1601.0</td>\n",
       "      <td>0</td>\n",
       "      <td>0</td>\n",
       "      <td>0</td>\n",
       "      <td>0</td>\n",
       "      <td>0</td>\n",
       "      <td>0</td>\n",
       "      <td>0</td>\n",
       "      <td>0</td>\n",
       "      <td>0</td>\n",
       "      <td>0</td>\n",
       "      <td>0</td>\n",
       "      <td>0</td>\n",
       "      <td>0</td>\n",
       "      <td>0</td>\n",
       "      <td>0</td>\n",
       "      <td>0</td>\n",
       "      <td>0</td>\n",
       "      <td>0</td>\n",
       "      <td>0</td>\n",
       "      <td>0</td>\n",
       "      <td>0</td>\n",
       "      <td>0</td>\n",
       "      <td>0</td>\n",
       "      <td>0</td>\n",
       "      <td>0</td>\n",
       "      <td>0</td>\n",
       "      <td>0</td>\n",
       "      <td>0</td>\n",
       "      <td>0</td>\n",
       "      <td>0</td>\n",
       "      <td>1</td>\n",
       "    </tr>\n",
       "    <tr>\n",
       "      <th>3486</th>\n",
       "      <td>0.0</td>\n",
       "      <td>51.022727</td>\n",
       "      <td>4.0</td>\n",
       "      <td>1960.0</td>\n",
       "      <td>0.648262</td>\n",
       "      <td>0.142857</td>\n",
       "      <td>0.090909</td>\n",
       "      <td>0.000311</td>\n",
       "      <td>554554</td>\n",
       "      <td>1</td>\n",
       "      <td>27</td>\n",
       "      <td>3816.0</td>\n",
       "      <td>0.000005</td>\n",
       "      <td>1960.0</td>\n",
       "      <td>0</td>\n",
       "      <td>0</td>\n",
       "      <td>0</td>\n",
       "      <td>0</td>\n",
       "      <td>0</td>\n",
       "      <td>0</td>\n",
       "      <td>0</td>\n",
       "      <td>0</td>\n",
       "      <td>1</td>\n",
       "      <td>0</td>\n",
       "      <td>0</td>\n",
       "      <td>0</td>\n",
       "      <td>0</td>\n",
       "      <td>0</td>\n",
       "      <td>0</td>\n",
       "      <td>0</td>\n",
       "      <td>0</td>\n",
       "      <td>0</td>\n",
       "      <td>0</td>\n",
       "      <td>0</td>\n",
       "      <td>0</td>\n",
       "      <td>0</td>\n",
       "      <td>0</td>\n",
       "      <td>0</td>\n",
       "      <td>0</td>\n",
       "      <td>0</td>\n",
       "      <td>0</td>\n",
       "      <td>0</td>\n",
       "      <td>0</td>\n",
       "      <td>0</td>\n",
       "      <td>0</td>\n",
       "    </tr>\n",
       "    <tr>\n",
       "      <th>6486</th>\n",
       "      <td>0.0</td>\n",
       "      <td>61.151985</td>\n",
       "      <td>1.0</td>\n",
       "      <td>2464.0</td>\n",
       "      <td>0.608201</td>\n",
       "      <td>0.285714</td>\n",
       "      <td>0.090909</td>\n",
       "      <td>0.000311</td>\n",
       "      <td>975904</td>\n",
       "      <td>1</td>\n",
       "      <td>13</td>\n",
       "      <td>4497.0</td>\n",
       "      <td>0.000003</td>\n",
       "      <td>2464.0</td>\n",
       "      <td>0</td>\n",
       "      <td>0</td>\n",
       "      <td>0</td>\n",
       "      <td>0</td>\n",
       "      <td>0</td>\n",
       "      <td>0</td>\n",
       "      <td>0</td>\n",
       "      <td>0</td>\n",
       "      <td>0</td>\n",
       "      <td>0</td>\n",
       "      <td>0</td>\n",
       "      <td>0</td>\n",
       "      <td>0</td>\n",
       "      <td>0</td>\n",
       "      <td>0</td>\n",
       "      <td>0</td>\n",
       "      <td>0</td>\n",
       "      <td>0</td>\n",
       "      <td>0</td>\n",
       "      <td>0</td>\n",
       "      <td>0</td>\n",
       "      <td>0</td>\n",
       "      <td>0</td>\n",
       "      <td>0</td>\n",
       "      <td>0</td>\n",
       "      <td>0</td>\n",
       "      <td>0</td>\n",
       "      <td>1</td>\n",
       "      <td>0</td>\n",
       "      <td>0</td>\n",
       "      <td>0</td>\n",
       "    </tr>\n",
       "    <tr>\n",
       "      <th>6716</th>\n",
       "      <td>0.0</td>\n",
       "      <td>52.424094</td>\n",
       "      <td>1.0</td>\n",
       "      <td>2440.0</td>\n",
       "      <td>0.695777</td>\n",
       "      <td>0.142857</td>\n",
       "      <td>0.090909</td>\n",
       "      <td>0.002795</td>\n",
       "      <td>1752286</td>\n",
       "      <td>1</td>\n",
       "      <td>51</td>\n",
       "      <td>45846.0</td>\n",
       "      <td>0.000015</td>\n",
       "      <td>2440.0</td>\n",
       "      <td>0</td>\n",
       "      <td>0</td>\n",
       "      <td>0</td>\n",
       "      <td>0</td>\n",
       "      <td>0</td>\n",
       "      <td>0</td>\n",
       "      <td>1</td>\n",
       "      <td>0</td>\n",
       "      <td>0</td>\n",
       "      <td>0</td>\n",
       "      <td>0</td>\n",
       "      <td>0</td>\n",
       "      <td>0</td>\n",
       "      <td>0</td>\n",
       "      <td>0</td>\n",
       "      <td>0</td>\n",
       "      <td>0</td>\n",
       "      <td>0</td>\n",
       "      <td>0</td>\n",
       "      <td>0</td>\n",
       "      <td>0</td>\n",
       "      <td>0</td>\n",
       "      <td>0</td>\n",
       "      <td>0</td>\n",
       "      <td>0</td>\n",
       "      <td>0</td>\n",
       "      <td>0</td>\n",
       "      <td>0</td>\n",
       "      <td>0</td>\n",
       "      <td>0</td>\n",
       "      <td>0</td>\n",
       "    </tr>\n",
       "    <tr>\n",
       "      <th>5031</th>\n",
       "      <td>0.0</td>\n",
       "      <td>59.136971</td>\n",
       "      <td>1.0</td>\n",
       "      <td>6275.0</td>\n",
       "      <td>0.893529</td>\n",
       "      <td>0.000000</td>\n",
       "      <td>0.090909</td>\n",
       "      <td>0.000621</td>\n",
       "      <td>1399860</td>\n",
       "      <td>0</td>\n",
       "      <td>40</td>\n",
       "      <td>33642.0</td>\n",
       "      <td>0.000004</td>\n",
       "      <td>6275.0</td>\n",
       "      <td>0</td>\n",
       "      <td>0</td>\n",
       "      <td>0</td>\n",
       "      <td>0</td>\n",
       "      <td>0</td>\n",
       "      <td>0</td>\n",
       "      <td>0</td>\n",
       "      <td>0</td>\n",
       "      <td>0</td>\n",
       "      <td>0</td>\n",
       "      <td>0</td>\n",
       "      <td>0</td>\n",
       "      <td>0</td>\n",
       "      <td>0</td>\n",
       "      <td>0</td>\n",
       "      <td>0</td>\n",
       "      <td>0</td>\n",
       "      <td>0</td>\n",
       "      <td>0</td>\n",
       "      <td>0</td>\n",
       "      <td>1</td>\n",
       "      <td>0</td>\n",
       "      <td>0</td>\n",
       "      <td>0</td>\n",
       "      <td>0</td>\n",
       "      <td>0</td>\n",
       "      <td>0</td>\n",
       "      <td>0</td>\n",
       "      <td>0</td>\n",
       "      <td>0</td>\n",
       "      <td>0</td>\n",
       "    </tr>\n",
       "    <tr>\n",
       "      <th>140</th>\n",
       "      <td>0.0</td>\n",
       "      <td>59.075531</td>\n",
       "      <td>1.0</td>\n",
       "      <td>8809.0</td>\n",
       "      <td>0.448797</td>\n",
       "      <td>0.000000</td>\n",
       "      <td>0.090909</td>\n",
       "      <td>0.001242</td>\n",
       "      <td>3223334</td>\n",
       "      <td>1</td>\n",
       "      <td>23</td>\n",
       "      <td>47448.0</td>\n",
       "      <td>0.000004</td>\n",
       "      <td>8809.0</td>\n",
       "      <td>0</td>\n",
       "      <td>0</td>\n",
       "      <td>0</td>\n",
       "      <td>0</td>\n",
       "      <td>0</td>\n",
       "      <td>0</td>\n",
       "      <td>0</td>\n",
       "      <td>0</td>\n",
       "      <td>0</td>\n",
       "      <td>0</td>\n",
       "      <td>0</td>\n",
       "      <td>0</td>\n",
       "      <td>0</td>\n",
       "      <td>0</td>\n",
       "      <td>0</td>\n",
       "      <td>0</td>\n",
       "      <td>0</td>\n",
       "      <td>0</td>\n",
       "      <td>0</td>\n",
       "      <td>1</td>\n",
       "      <td>0</td>\n",
       "      <td>0</td>\n",
       "      <td>0</td>\n",
       "      <td>0</td>\n",
       "      <td>0</td>\n",
       "      <td>0</td>\n",
       "      <td>0</td>\n",
       "      <td>0</td>\n",
       "      <td>0</td>\n",
       "      <td>0</td>\n",
       "      <td>0</td>\n",
       "    </tr>\n",
       "    <tr>\n",
       "      <th>9436</th>\n",
       "      <td>0.0</td>\n",
       "      <td>65.478880</td>\n",
       "      <td>3.0</td>\n",
       "      <td>13986.0</td>\n",
       "      <td>0.272903</td>\n",
       "      <td>0.000000</td>\n",
       "      <td>0.000000</td>\n",
       "      <td>0.002381</td>\n",
       "      <td>2148271</td>\n",
       "      <td>1</td>\n",
       "      <td>22</td>\n",
       "      <td>87837.0</td>\n",
       "      <td>0.000011</td>\n",
       "      <td>13986.0</td>\n",
       "      <td>0</td>\n",
       "      <td>0</td>\n",
       "      <td>0</td>\n",
       "      <td>0</td>\n",
       "      <td>0</td>\n",
       "      <td>0</td>\n",
       "      <td>0</td>\n",
       "      <td>0</td>\n",
       "      <td>0</td>\n",
       "      <td>0</td>\n",
       "      <td>0</td>\n",
       "      <td>0</td>\n",
       "      <td>0</td>\n",
       "      <td>0</td>\n",
       "      <td>0</td>\n",
       "      <td>0</td>\n",
       "      <td>0</td>\n",
       "      <td>0</td>\n",
       "      <td>0</td>\n",
       "      <td>0</td>\n",
       "      <td>0</td>\n",
       "      <td>0</td>\n",
       "      <td>0</td>\n",
       "      <td>0</td>\n",
       "      <td>1</td>\n",
       "      <td>0</td>\n",
       "      <td>0</td>\n",
       "      <td>0</td>\n",
       "      <td>0</td>\n",
       "      <td>0</td>\n",
       "      <td>0</td>\n",
       "    </tr>\n",
       "    <tr>\n",
       "      <th>9070</th>\n",
       "      <td>0.0</td>\n",
       "      <td>55.822711</td>\n",
       "      <td>1.0</td>\n",
       "      <td>5948.0</td>\n",
       "      <td>0.588868</td>\n",
       "      <td>0.000000</td>\n",
       "      <td>0.000000</td>\n",
       "      <td>0.002899</td>\n",
       "      <td>2860009</td>\n",
       "      <td>1</td>\n",
       "      <td>37</td>\n",
       "      <td>98084.0</td>\n",
       "      <td>0.000010</td>\n",
       "      <td>5948.0</td>\n",
       "      <td>0</td>\n",
       "      <td>0</td>\n",
       "      <td>0</td>\n",
       "      <td>0</td>\n",
       "      <td>0</td>\n",
       "      <td>0</td>\n",
       "      <td>0</td>\n",
       "      <td>0</td>\n",
       "      <td>0</td>\n",
       "      <td>0</td>\n",
       "      <td>0</td>\n",
       "      <td>0</td>\n",
       "      <td>0</td>\n",
       "      <td>0</td>\n",
       "      <td>0</td>\n",
       "      <td>0</td>\n",
       "      <td>0</td>\n",
       "      <td>0</td>\n",
       "      <td>0</td>\n",
       "      <td>0</td>\n",
       "      <td>0</td>\n",
       "      <td>0</td>\n",
       "      <td>0</td>\n",
       "      <td>0</td>\n",
       "      <td>0</td>\n",
       "      <td>0</td>\n",
       "      <td>1</td>\n",
       "      <td>0</td>\n",
       "      <td>0</td>\n",
       "      <td>0</td>\n",
       "      <td>0</td>\n",
       "    </tr>\n",
       "    <tr>\n",
       "      <th>5586</th>\n",
       "      <td>0.0</td>\n",
       "      <td>58.902703</td>\n",
       "      <td>1.0</td>\n",
       "      <td>2154.0</td>\n",
       "      <td>0.908500</td>\n",
       "      <td>0.000000</td>\n",
       "      <td>0.090909</td>\n",
       "      <td>0.000000</td>\n",
       "      <td>1793579</td>\n",
       "      <td>1</td>\n",
       "      <td>29</td>\n",
       "      <td>0.0</td>\n",
       "      <td>0.000000</td>\n",
       "      <td>2154.0</td>\n",
       "      <td>0</td>\n",
       "      <td>0</td>\n",
       "      <td>0</td>\n",
       "      <td>0</td>\n",
       "      <td>0</td>\n",
       "      <td>0</td>\n",
       "      <td>0</td>\n",
       "      <td>0</td>\n",
       "      <td>0</td>\n",
       "      <td>0</td>\n",
       "      <td>0</td>\n",
       "      <td>0</td>\n",
       "      <td>0</td>\n",
       "      <td>0</td>\n",
       "      <td>0</td>\n",
       "      <td>0</td>\n",
       "      <td>0</td>\n",
       "      <td>0</td>\n",
       "      <td>0</td>\n",
       "      <td>0</td>\n",
       "      <td>0</td>\n",
       "      <td>0</td>\n",
       "      <td>0</td>\n",
       "      <td>0</td>\n",
       "      <td>0</td>\n",
       "      <td>0</td>\n",
       "      <td>0</td>\n",
       "      <td>0</td>\n",
       "      <td>0</td>\n",
       "      <td>1</td>\n",
       "      <td>0</td>\n",
       "    </tr>\n",
       "    <tr>\n",
       "      <th>4075</th>\n",
       "      <td>0.0</td>\n",
       "      <td>59.075531</td>\n",
       "      <td>1.0</td>\n",
       "      <td>8809.0</td>\n",
       "      <td>0.424955</td>\n",
       "      <td>0.000000</td>\n",
       "      <td>0.090909</td>\n",
       "      <td>0.002277</td>\n",
       "      <td>3223334</td>\n",
       "      <td>1</td>\n",
       "      <td>23</td>\n",
       "      <td>82368.0</td>\n",
       "      <td>0.000007</td>\n",
       "      <td>8809.0</td>\n",
       "      <td>0</td>\n",
       "      <td>0</td>\n",
       "      <td>0</td>\n",
       "      <td>0</td>\n",
       "      <td>0</td>\n",
       "      <td>0</td>\n",
       "      <td>0</td>\n",
       "      <td>0</td>\n",
       "      <td>0</td>\n",
       "      <td>0</td>\n",
       "      <td>0</td>\n",
       "      <td>0</td>\n",
       "      <td>0</td>\n",
       "      <td>0</td>\n",
       "      <td>0</td>\n",
       "      <td>0</td>\n",
       "      <td>0</td>\n",
       "      <td>0</td>\n",
       "      <td>0</td>\n",
       "      <td>1</td>\n",
       "      <td>0</td>\n",
       "      <td>0</td>\n",
       "      <td>0</td>\n",
       "      <td>0</td>\n",
       "      <td>0</td>\n",
       "      <td>0</td>\n",
       "      <td>0</td>\n",
       "      <td>0</td>\n",
       "      <td>0</td>\n",
       "      <td>0</td>\n",
       "      <td>0</td>\n",
       "    </tr>\n",
       "  </tbody>\n",
       "</table>\n",
       "</div>"
      ],
      "text/plain": [
       "      rating  median_city_price  rank_city_min  rank_city_max  rank_norm  \\\n",
       "1321     0.0          76.934307            2.0         1601.0   0.471545   \n",
       "3486     0.0          51.022727            4.0         1960.0   0.648262   \n",
       "6486     0.0          61.151985            1.0         2464.0   0.608201   \n",
       "6716     0.0          52.424094            1.0         2440.0   0.695777   \n",
       "5031     0.0          59.136971            1.0         6275.0   0.893529   \n",
       "140      0.0          59.075531            1.0         8809.0   0.448797   \n",
       "9436     0.0          65.478880            3.0        13986.0   0.272903   \n",
       "9070     0.0          55.822711            1.0         5948.0   0.588868   \n",
       "5586     0.0          58.902703            1.0         2154.0   0.908500   \n",
       "4075     0.0          59.075531            1.0         8809.0   0.424955   \n",
       "\n",
       "      review_mood_normalise  price_normalise  num_rev_normalise  population  \\\n",
       "1321               0.142857         0.000000           0.001346      415215   \n",
       "3486               0.142857         0.090909           0.000311      554554   \n",
       "6486               0.285714         0.090909           0.000311      975904   \n",
       "6716               0.142857         0.090909           0.002795     1752286   \n",
       "5031               0.000000         0.090909           0.000621     1399860   \n",
       "140                0.000000         0.090909           0.001242     3223334   \n",
       "9436               0.000000         0.000000           0.002381     2148271   \n",
       "9070               0.000000         0.000000           0.002899     2860009   \n",
       "5586               0.000000         0.090909           0.000000     1793579   \n",
       "4075               0.000000         0.090909           0.002277     3223334   \n",
       "\n",
       "      is_capital  purchasing_power  ranking_of_reviews  \\\n",
       "1321           0                 2              9828.0   \n",
       "3486           1                27              3816.0   \n",
       "6486           1                13              4497.0   \n",
       "6716           1                51             45846.0   \n",
       "5031           0                40             33642.0   \n",
       "140            1                23             47448.0   \n",
       "9436           1                22             87837.0   \n",
       "9070           1                37             98084.0   \n",
       "5586           1                29                 0.0   \n",
       "4075           1                23             82368.0   \n",
       "\n",
       "      reviews_per_population  rating_max_per_city  city_Amsterdam  \\\n",
       "1321                0.000031               1601.0               0   \n",
       "3486                0.000005               1960.0               0   \n",
       "6486                0.000003               2464.0               0   \n",
       "6716                0.000015               2440.0               0   \n",
       "5031                0.000004               6275.0               0   \n",
       "140                 0.000004               8809.0               0   \n",
       "9436                0.000011              13986.0               0   \n",
       "9070                0.000010               5948.0               0   \n",
       "5586                0.000000               2154.0               0   \n",
       "4075                0.000007               8809.0               0   \n",
       "\n",
       "      city_Athens  city_Barcelona  city_Berlin  city_Bratislava  \\\n",
       "1321            0               0            0                0   \n",
       "3486            0               0            0                0   \n",
       "6486            0               0            0                0   \n",
       "6716            0               0            0                0   \n",
       "5031            0               0            0                0   \n",
       "140             0               0            0                0   \n",
       "9436            0               0            0                0   \n",
       "9070            0               0            0                0   \n",
       "5586            0               0            0                0   \n",
       "4075            0               0            0                0   \n",
       "\n",
       "      city_Brussels  city_Budapest  city_Copenhagen  city_Dublin  \\\n",
       "1321              0              0                0            0   \n",
       "3486              0              0                0            1   \n",
       "6486              0              0                0            0   \n",
       "6716              0              1                0            0   \n",
       "5031              0              0                0            0   \n",
       "140               0              0                0            0   \n",
       "9436              0              0                0            0   \n",
       "9070              0              0                0            0   \n",
       "5586              0              0                0            0   \n",
       "4075              0              0                0            0   \n",
       "\n",
       "      city_Edinburgh  city_Geneva  city_Hamburg  city_Helsinki  city_Krakow  \\\n",
       "1321               0            0             0              0            0   \n",
       "3486               0            0             0              0            0   \n",
       "6486               0            0             0              0            0   \n",
       "6716               0            0             0              0            0   \n",
       "5031               0            0             0              0            0   \n",
       "140                0            0             0              0            0   \n",
       "9436               0            0             0              0            0   \n",
       "9070               0            0             0              0            0   \n",
       "5586               0            0             0              0            0   \n",
       "4075               0            0             0              0            0   \n",
       "\n",
       "      city_Lisbon  city_Ljubljana  city_London  city_Luxembourg  city_Lyon  \\\n",
       "1321            0               0            0                0          0   \n",
       "3486            0               0            0                0          0   \n",
       "6486            0               0            0                0          0   \n",
       "6716            0               0            0                0          0   \n",
       "5031            0               0            0                0          0   \n",
       "140             0               0            0                0          0   \n",
       "9436            0               0            0                0          0   \n",
       "9070            0               0            0                0          0   \n",
       "5586            0               0            0                0          0   \n",
       "4075            0               0            0                0          0   \n",
       "\n",
       "      city_Madrid  city_Milan  city_Munich  city_Oporto  city_Oslo  \\\n",
       "1321            0           0            0            0          0   \n",
       "3486            0           0            0            0          0   \n",
       "6486            0           0            0            0          0   \n",
       "6716            0           0            0            0          0   \n",
       "5031            0           1            0            0          0   \n",
       "140             1           0            0            0          0   \n",
       "9436            0           0            0            0          0   \n",
       "9070            0           0            0            0          0   \n",
       "5586            0           0            0            0          0   \n",
       "4075            1           0            0            0          0   \n",
       "\n",
       "      city_Paris  city_Prague  city_Rome  city_Stockholm  city_Vienna  \\\n",
       "1321           0            0          0               0            0   \n",
       "3486           0            0          0               0            0   \n",
       "6486           0            0          0               1            0   \n",
       "6716           0            0          0               0            0   \n",
       "5031           0            0          0               0            0   \n",
       "140            0            0          0               0            0   \n",
       "9436           1            0          0               0            0   \n",
       "9070           0            0          1               0            0   \n",
       "5586           0            0          0               0            0   \n",
       "4075           0            0          0               0            0   \n",
       "\n",
       "      city_Warsaw  city_Zurich  \n",
       "1321            0            1  \n",
       "3486            0            0  \n",
       "6486            0            0  \n",
       "6716            0            0  \n",
       "5031            0            0  \n",
       "140             0            0  \n",
       "9436            0            0  \n",
       "9070            0            0  \n",
       "5586            1            0  \n",
       "4075            0            0  "
      ]
     },
     "execution_count": 53,
     "metadata": {},
     "output_type": "execute_result"
    }
   ],
   "source": [
    "test_data.sample(10)"
   ]
  },
  {
   "cell_type": "code",
   "execution_count": 54,
   "metadata": {
    "execution": {
     "iopub.execute_input": "2021-07-25T15:49:39.348466Z",
     "iopub.status.busy": "2021-07-25T15:49:39.348108Z",
     "iopub.status.idle": "2021-07-25T15:49:39.354210Z",
     "shell.execute_reply": "2021-07-25T15:49:39.353152Z",
     "shell.execute_reply.started": "2021-07-25T15:49:39.348428Z"
    }
   },
   "outputs": [],
   "source": [
    "test_data = test_data.drop(['rating'], axis=1)"
   ]
  },
  {
   "cell_type": "code",
   "execution_count": 55,
   "metadata": {
    "execution": {
     "iopub.execute_input": "2021-07-25T15:49:39.355839Z",
     "iopub.status.busy": "2021-07-25T15:49:39.355512Z",
     "iopub.status.idle": "2021-07-25T15:49:39.375508Z",
     "shell.execute_reply": "2021-07-25T15:49:39.374567Z",
     "shell.execute_reply.started": "2021-07-25T15:49:39.355787Z"
    }
   },
   "outputs": [
    {
     "data": {
      "text/html": [
       "<div>\n",
       "<style scoped>\n",
       "    .dataframe tbody tr th:only-of-type {\n",
       "        vertical-align: middle;\n",
       "    }\n",
       "\n",
       "    .dataframe tbody tr th {\n",
       "        vertical-align: top;\n",
       "    }\n",
       "\n",
       "    .dataframe thead th {\n",
       "        text-align: right;\n",
       "    }\n",
       "</style>\n",
       "<table border=\"1\" class=\"dataframe\">\n",
       "  <thead>\n",
       "    <tr style=\"text-align: right;\">\n",
       "      <th></th>\n",
       "      <th>Restaurant_id</th>\n",
       "      <th>Rating</th>\n",
       "    </tr>\n",
       "  </thead>\n",
       "  <tbody>\n",
       "    <tr>\n",
       "      <th>0</th>\n",
       "      <td>id_0</td>\n",
       "      <td>2.0</td>\n",
       "    </tr>\n",
       "    <tr>\n",
       "      <th>1</th>\n",
       "      <td>id_1</td>\n",
       "      <td>2.5</td>\n",
       "    </tr>\n",
       "    <tr>\n",
       "      <th>2</th>\n",
       "      <td>id_2</td>\n",
       "      <td>4.0</td>\n",
       "    </tr>\n",
       "    <tr>\n",
       "      <th>3</th>\n",
       "      <td>id_3</td>\n",
       "      <td>1.0</td>\n",
       "    </tr>\n",
       "    <tr>\n",
       "      <th>4</th>\n",
       "      <td>id_4</td>\n",
       "      <td>4.0</td>\n",
       "    </tr>\n",
       "    <tr>\n",
       "      <th>...</th>\n",
       "      <td>...</td>\n",
       "      <td>...</td>\n",
       "    </tr>\n",
       "    <tr>\n",
       "      <th>9995</th>\n",
       "      <td>id_9995</td>\n",
       "      <td>3.0</td>\n",
       "    </tr>\n",
       "    <tr>\n",
       "      <th>9996</th>\n",
       "      <td>id_9996</td>\n",
       "      <td>1.5</td>\n",
       "    </tr>\n",
       "    <tr>\n",
       "      <th>9997</th>\n",
       "      <td>id_9997</td>\n",
       "      <td>4.5</td>\n",
       "    </tr>\n",
       "    <tr>\n",
       "      <th>9998</th>\n",
       "      <td>id_9998</td>\n",
       "      <td>1.0</td>\n",
       "    </tr>\n",
       "    <tr>\n",
       "      <th>9999</th>\n",
       "      <td>id_9999</td>\n",
       "      <td>2.5</td>\n",
       "    </tr>\n",
       "  </tbody>\n",
       "</table>\n",
       "<p>10000 rows × 2 columns</p>\n",
       "</div>"
      ],
      "text/plain": [
       "     Restaurant_id  Rating\n",
       "0             id_0     2.0\n",
       "1             id_1     2.5\n",
       "2             id_2     4.0\n",
       "3             id_3     1.0\n",
       "4             id_4     4.0\n",
       "...            ...     ...\n",
       "9995       id_9995     3.0\n",
       "9996       id_9996     1.5\n",
       "9997       id_9997     4.5\n",
       "9998       id_9998     1.0\n",
       "9999       id_9999     2.5\n",
       "\n",
       "[10000 rows x 2 columns]"
      ]
     },
     "execution_count": 55,
     "metadata": {},
     "output_type": "execute_result"
    }
   ],
   "source": [
    "sample_submission"
   ]
  },
  {
   "cell_type": "code",
   "execution_count": 56,
   "metadata": {
    "execution": {
     "iopub.execute_input": "2021-07-25T15:49:39.377683Z",
     "iopub.status.busy": "2021-07-25T15:49:39.377219Z",
     "iopub.status.idle": "2021-07-25T15:49:39.594109Z",
     "shell.execute_reply": "2021-07-25T15:49:39.593357Z",
     "shell.execute_reply.started": "2021-07-25T15:49:39.377613Z"
    }
   },
   "outputs": [
    {
     "name": "stderr",
     "output_type": "stream",
     "text": [
      "[Parallel(n_jobs=4)]: Using backend ThreadingBackend with 4 concurrent workers.\n",
      "[Parallel(n_jobs=4)]: Done  42 tasks      | elapsed:    0.0s\n",
      "[Parallel(n_jobs=4)]: Done 100 out of 100 | elapsed:    0.1s finished\n"
     ]
    }
   ],
   "source": [
    "predict_submission = model.predict(test_data)"
   ]
  },
  {
   "cell_type": "code",
   "execution_count": 57,
   "metadata": {
    "execution": {
     "iopub.execute_input": "2021-07-25T15:49:39.595736Z",
     "iopub.status.busy": "2021-07-25T15:49:39.595399Z",
     "iopub.status.idle": "2021-07-25T15:49:39.601608Z",
     "shell.execute_reply": "2021-07-25T15:49:39.600704Z",
     "shell.execute_reply.started": "2021-07-25T15:49:39.595679Z"
    }
   },
   "outputs": [
    {
     "data": {
      "text/plain": [
       "array([2.955, 4.13 , 4.53 , ..., 3.06 , 4.47 , 4.265])"
      ]
     },
     "execution_count": 57,
     "metadata": {},
     "output_type": "execute_result"
    }
   ],
   "source": [
    "predict_submission"
   ]
  },
  {
   "cell_type": "code",
   "execution_count": 58,
   "metadata": {
    "execution": {
     "iopub.execute_input": "2021-07-25T15:49:39.603255Z",
     "iopub.status.busy": "2021-07-25T15:49:39.602936Z",
     "iopub.status.idle": "2021-07-25T15:49:39.862858Z",
     "shell.execute_reply": "2021-07-25T15:49:39.861892Z",
     "shell.execute_reply.started": "2021-07-25T15:49:39.603204Z"
    }
   },
   "outputs": [
    {
     "data": {
      "text/html": [
       "<div>\n",
       "<style scoped>\n",
       "    .dataframe tbody tr th:only-of-type {\n",
       "        vertical-align: middle;\n",
       "    }\n",
       "\n",
       "    .dataframe tbody tr th {\n",
       "        vertical-align: top;\n",
       "    }\n",
       "\n",
       "    .dataframe thead th {\n",
       "        text-align: right;\n",
       "    }\n",
       "</style>\n",
       "<table border=\"1\" class=\"dataframe\">\n",
       "  <thead>\n",
       "    <tr style=\"text-align: right;\">\n",
       "      <th></th>\n",
       "      <th>Restaurant_id</th>\n",
       "      <th>Rating</th>\n",
       "      <th>rating</th>\n",
       "    </tr>\n",
       "  </thead>\n",
       "  <tbody>\n",
       "    <tr>\n",
       "      <th>0</th>\n",
       "      <td>id_0</td>\n",
       "      <td>2.0</td>\n",
       "      <td>2.955</td>\n",
       "    </tr>\n",
       "    <tr>\n",
       "      <th>1</th>\n",
       "      <td>id_1</td>\n",
       "      <td>2.5</td>\n",
       "      <td>4.130</td>\n",
       "    </tr>\n",
       "    <tr>\n",
       "      <th>2</th>\n",
       "      <td>id_2</td>\n",
       "      <td>4.0</td>\n",
       "      <td>4.530</td>\n",
       "    </tr>\n",
       "    <tr>\n",
       "      <th>3</th>\n",
       "      <td>id_3</td>\n",
       "      <td>1.0</td>\n",
       "      <td>4.445</td>\n",
       "    </tr>\n",
       "    <tr>\n",
       "      <th>4</th>\n",
       "      <td>id_4</td>\n",
       "      <td>4.0</td>\n",
       "      <td>4.425</td>\n",
       "    </tr>\n",
       "    <tr>\n",
       "      <th>5</th>\n",
       "      <td>id_5</td>\n",
       "      <td>4.5</td>\n",
       "      <td>4.655</td>\n",
       "    </tr>\n",
       "    <tr>\n",
       "      <th>6</th>\n",
       "      <td>id_6</td>\n",
       "      <td>4.5</td>\n",
       "      <td>1.590</td>\n",
       "    </tr>\n",
       "    <tr>\n",
       "      <th>7</th>\n",
       "      <td>id_7</td>\n",
       "      <td>2.0</td>\n",
       "      <td>3.505</td>\n",
       "    </tr>\n",
       "    <tr>\n",
       "      <th>8</th>\n",
       "      <td>id_8</td>\n",
       "      <td>2.0</td>\n",
       "      <td>4.160</td>\n",
       "    </tr>\n",
       "    <tr>\n",
       "      <th>9</th>\n",
       "      <td>id_9</td>\n",
       "      <td>3.5</td>\n",
       "      <td>4.700</td>\n",
       "    </tr>\n",
       "  </tbody>\n",
       "</table>\n",
       "</div>"
      ],
      "text/plain": [
       "  Restaurant_id  Rating  rating\n",
       "0          id_0     2.0   2.955\n",
       "1          id_1     2.5   4.130\n",
       "2          id_2     4.0   4.530\n",
       "3          id_3     1.0   4.445\n",
       "4          id_4     4.0   4.425\n",
       "5          id_5     4.5   4.655\n",
       "6          id_6     4.5   1.590\n",
       "7          id_7     2.0   3.505\n",
       "8          id_8     2.0   4.160\n",
       "9          id_9     3.5   4.700"
      ]
     },
     "execution_count": 58,
     "metadata": {},
     "output_type": "execute_result"
    }
   ],
   "source": [
    "sample_submission['rating'] = predict_submission\n",
    "sample_submission.to_csv('submission.csv', index=False)\n",
    "sample_submission.head(10)"
   ]
  }
 ],
 "metadata": {
  "kernelspec": {
   "display_name": "Python 3",
   "language": "python",
   "name": "python3"
  },
  "language_info": {
   "codemirror_mode": {
    "name": "ipython",
    "version": 3
   },
   "file_extension": ".py",
   "mimetype": "text/x-python",
   "name": "python",
   "nbconvert_exporter": "python",
   "pygments_lexer": "ipython3",
   "version": "3.6.6"
  }
 },
 "nbformat": 4,
 "nbformat_minor": 4
}
